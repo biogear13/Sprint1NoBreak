{
 "cells": [
  {
   "cell_type": "code",
   "execution_count": 2,
   "metadata": {
    "cell_id": "00009-2cd9d936-efa6-41f0-90c8-111153d1643f",
    "deepnote_cell_type": "code",
    "deepnote_to_be_reexecuted": false,
    "execution_millis": 1592,
    "execution_start": 1611148573179,
    "source_hash": "24b26b86",
    "tags": []
   },
   "outputs": [],
   "source": [
    "import pandas as pd\n",
    "import numpy as np\n",
    "import matplotlib.pyplot as plt\n",
    "import seaborn as sns"
   ]
  },
  {
   "cell_type": "code",
   "execution_count": 3,
   "metadata": {
    "cell_id": "00012-42677f72-f8fc-4207-ba5e-30e5846a1658",
    "deepnote_cell_type": "code",
    "deepnote_to_be_reexecuted": false,
    "execution_millis": 589,
    "execution_start": 1611148575572,
    "source_hash": "ea10f83d",
    "tags": []
   },
   "outputs": [
    {
     "data": {
      "text/plain": [
       "Partially Urban    39896\n",
       "Urban               3990\n",
       "Rural               2714\n",
       "Name: school.urban, dtype: int64"
      ]
     },
     "execution_count": 3,
     "metadata": {},
     "output_type": "execute_result"
    }
   ],
   "source": [
    "school_master = pd.read_csv(\"Masterlist of Schools.csv\")\n",
    "school_master[\"school.urban\"].value_counts()"
   ]
  },
  {
   "cell_type": "code",
   "execution_count": 4,
   "metadata": {
    "cell_id": "00013-dedb4e57-febb-4c53-82ad-2b80f4b72a39",
    "deepnote_cell_type": "code",
    "deepnote_to_be_reexecuted": false,
    "execution_millis": 288,
    "execution_start": 1611148576165,
    "source_hash": "398e7e6e",
    "tags": []
   },
   "outputs": [
    {
     "data": {
      "text/html": [
       "<div>\n",
       "<style scoped>\n",
       "    .dataframe tbody tr th:only-of-type {\n",
       "        vertical-align: middle;\n",
       "    }\n",
       "\n",
       "    .dataframe tbody tr th {\n",
       "        vertical-align: top;\n",
       "    }\n",
       "\n",
       "    .dataframe thead th {\n",
       "        text-align: right;\n",
       "    }\n",
       "</style>\n",
       "<table border=\"1\" class=\"dataframe\">\n",
       "  <thead>\n",
       "    <tr style=\"text-align: right;\">\n",
       "      <th></th>\n",
       "      <th>school.id</th>\n",
       "      <th>school.name</th>\n",
       "      <th>school.enrollment</th>\n",
       "      <th>school.offering</th>\n",
       "      <th>school.mooe</th>\n",
       "    </tr>\n",
       "  </thead>\n",
       "  <tbody>\n",
       "    <tr>\n",
       "      <th>0</th>\n",
       "      <td>305075</td>\n",
       "      <td>Abra HS</td>\n",
       "      <td>2481</td>\n",
       "      <td>Secondary</td>\n",
       "      <td>2,182,000.00</td>\n",
       "    </tr>\n",
       "    <tr>\n",
       "      <th>1</th>\n",
       "      <td>134966</td>\n",
       "      <td>Agtangao ES</td>\n",
       "      <td>376</td>\n",
       "      <td>Elementary</td>\n",
       "      <td>227,000.00</td>\n",
       "    </tr>\n",
       "    <tr>\n",
       "      <th>2</th>\n",
       "      <td>134967</td>\n",
       "      <td>Bacsil ES</td>\n",
       "      <td>218</td>\n",
       "      <td>Elementary</td>\n",
       "      <td>144,000.00</td>\n",
       "    </tr>\n",
       "    <tr>\n",
       "      <th>3</th>\n",
       "      <td>134968</td>\n",
       "      <td>Bangued East CS</td>\n",
       "      <td>443</td>\n",
       "      <td>Elementary</td>\n",
       "      <td>339,000.00</td>\n",
       "    </tr>\n",
       "    <tr>\n",
       "      <th>4</th>\n",
       "      <td>134969</td>\n",
       "      <td>Bangued North ES</td>\n",
       "      <td>307</td>\n",
       "      <td>Elementary</td>\n",
       "      <td>178,000.00</td>\n",
       "    </tr>\n",
       "    <tr>\n",
       "      <th>...</th>\n",
       "      <td>...</td>\n",
       "      <td>...</td>\n",
       "      <td>...</td>\n",
       "      <td>...</td>\n",
       "      <td>...</td>\n",
       "    </tr>\n",
       "    <tr>\n",
       "      <th>44023</th>\n",
       "      <td>131231</td>\n",
       "      <td>J. Hector Lacson ES</td>\n",
       "      <td>340</td>\n",
       "      <td>Elementary</td>\n",
       "      <td>180,000.00</td>\n",
       "    </tr>\n",
       "    <tr>\n",
       "      <th>44024</th>\n",
       "      <td>131233</td>\n",
       "      <td>Kalandagan ES</td>\n",
       "      <td>420</td>\n",
       "      <td>Elementary</td>\n",
       "      <td>248,000.00</td>\n",
       "    </tr>\n",
       "    <tr>\n",
       "      <th>44025</th>\n",
       "      <td>131236</td>\n",
       "      <td>Ma. Z. Bayya ES</td>\n",
       "      <td>481</td>\n",
       "      <td>Elementary</td>\n",
       "      <td>242,000.00</td>\n",
       "    </tr>\n",
       "    <tr>\n",
       "      <th>44026</th>\n",
       "      <td>131237</td>\n",
       "      <td>New Isabela Central Elementary School</td>\n",
       "      <td>1895</td>\n",
       "      <td>Elementary</td>\n",
       "      <td>841,000.00</td>\n",
       "    </tr>\n",
       "    <tr>\n",
       "      <th>44027</th>\n",
       "      <td>304624</td>\n",
       "      <td>Tacurong NHS</td>\n",
       "      <td>2460</td>\n",
       "      <td>Secondary</td>\n",
       "      <td>2,345,000.00</td>\n",
       "    </tr>\n",
       "  </tbody>\n",
       "</table>\n",
       "<p>44028 rows × 5 columns</p>\n",
       "</div>"
      ],
      "text/plain": [
       "       school.id                            school.name  school.enrollment  \\\n",
       "0         305075                                Abra HS               2481   \n",
       "1         134966                            Agtangao ES                376   \n",
       "2         134967                              Bacsil ES                218   \n",
       "3         134968                        Bangued East CS                443   \n",
       "4         134969                       Bangued North ES                307   \n",
       "...          ...                                    ...                ...   \n",
       "44023     131231                    J. Hector Lacson ES                340   \n",
       "44024     131233                          Kalandagan ES                420   \n",
       "44025     131236                        Ma. Z. Bayya ES                481   \n",
       "44026     131237  New Isabela Central Elementary School               1895   \n",
       "44027     304624                           Tacurong NHS               2460   \n",
       "\n",
       "      school.offering    school.mooe   \n",
       "0           Secondary   2,182,000.00   \n",
       "1          Elementary     227,000.00   \n",
       "2          Elementary     144,000.00   \n",
       "3          Elementary     339,000.00   \n",
       "4          Elementary     178,000.00   \n",
       "...               ...             ...  \n",
       "44023      Elementary     180,000.00   \n",
       "44024      Elementary     248,000.00   \n",
       "44025      Elementary     242,000.00   \n",
       "44026      Elementary     841,000.00   \n",
       "44027       Secondary   2,345,000.00   \n",
       "\n",
       "[44028 rows x 5 columns]"
      ]
     },
     "execution_count": 4,
     "metadata": {},
     "output_type": "execute_result"
    }
   ],
   "source": [
    "mooe = pd.read_csv(\"MOOE data.csv\")\n",
    "mooe"
   ]
  },
  {
   "cell_type": "code",
   "execution_count": 5,
   "metadata": {
    "cell_id": "00014-f4d6c541-d139-4acb-aceb-21bb0666e939",
    "deepnote_cell_type": "code",
    "deepnote_to_be_reexecuted": false,
    "execution_millis": 123,
    "execution_start": 1611148576460,
    "source_hash": "936ec735",
    "tags": []
   },
   "outputs": [
    {
     "name": "stdout",
     "output_type": "stream",
     "text": [
      "<class 'pandas.core.frame.DataFrame'>\n",
      "RangeIndex: 46412 entries, 0 to 46411\n",
      "Data columns (total 5 columns):\n",
      " #   Column                      Non-Null Count  Dtype  \n",
      "---  ------                      --------------  -----  \n",
      " 0   School ID                   46412 non-null  int64  \n",
      " 1   rooms.standard.academic     46412 non-null  int64  \n",
      " 2   rooms.standard.unused       46412 non-null  int64  \n",
      " 3   rooms.nonstandard.academic  46408 non-null  float64\n",
      " 4   rooms.nonstandard.unused    46408 non-null  float64\n",
      "dtypes: float64(2), int64(3)\n",
      "memory usage: 1.8 MB\n"
     ]
    }
   ],
   "source": [
    "rooms = pd.read_csv(\"Rooms data.csv\")\n",
    "rooms.info()"
   ]
  },
  {
   "cell_type": "code",
   "execution_count": 6,
   "metadata": {},
   "outputs": [
    {
     "data": {
      "text/html": [
       "<div>\n",
       "<style scoped>\n",
       "    .dataframe tbody tr th:only-of-type {\n",
       "        vertical-align: middle;\n",
       "    }\n",
       "\n",
       "    .dataframe tbody tr th {\n",
       "        vertical-align: top;\n",
       "    }\n",
       "\n",
       "    .dataframe thead th {\n",
       "        text-align: right;\n",
       "    }\n",
       "</style>\n",
       "<table border=\"1\" class=\"dataframe\">\n",
       "  <thead>\n",
       "    <tr style=\"text-align: right;\">\n",
       "      <th></th>\n",
       "      <th>School ID</th>\n",
       "      <th>rooms.standard.academic</th>\n",
       "      <th>rooms.standard.unused</th>\n",
       "      <th>rooms.nonstandard.academic</th>\n",
       "      <th>rooms.nonstandard.unused</th>\n",
       "    </tr>\n",
       "  </thead>\n",
       "  <tbody>\n",
       "  </tbody>\n",
       "</table>\n",
       "</div>"
      ],
      "text/plain": [
       "Empty DataFrame\n",
       "Columns: [School ID, rooms.standard.academic, rooms.standard.unused, rooms.nonstandard.academic, rooms.nonstandard.unused]\n",
       "Index: []"
      ]
     },
     "execution_count": 6,
     "metadata": {},
     "output_type": "execute_result"
    }
   ],
   "source": [
    "rooms[rooms[\"School ID\"].duplicated(keep=False)]"
   ]
  },
  {
   "cell_type": "code",
   "execution_count": 7,
   "metadata": {
    "cell_id": "00015-dde31e2e-57bb-4dbb-a147-734f7d701f42",
    "deepnote_cell_type": "code",
    "deepnote_to_be_reexecuted": false,
    "execution_millis": 592,
    "execution_start": 1611148576587,
    "source_hash": "5cf027a6",
    "tags": []
   },
   "outputs": [
    {
     "data": {
      "text/html": [
       "<div>\n",
       "<style scoped>\n",
       "    .dataframe tbody tr th:only-of-type {\n",
       "        vertical-align: middle;\n",
       "    }\n",
       "\n",
       "    .dataframe tbody tr th {\n",
       "        vertical-align: top;\n",
       "    }\n",
       "\n",
       "    .dataframe thead th {\n",
       "        text-align: right;\n",
       "    }\n",
       "</style>\n",
       "<table border=\"1\" class=\"dataframe\">\n",
       "  <thead>\n",
       "    <tr style=\"text-align: right;\">\n",
       "      <th></th>\n",
       "      <th>School ID</th>\n",
       "      <th>School Name</th>\n",
       "      <th>Region</th>\n",
       "      <th>Province</th>\n",
       "      <th>Municipality</th>\n",
       "      <th>Division</th>\n",
       "      <th>District</th>\n",
       "      <th>Offering</th>\n",
       "      <th>Name of Principal</th>\n",
       "      <th>Enrolment</th>\n",
       "      <th>Latitude</th>\n",
       "      <th>Longitude</th>\n",
       "    </tr>\n",
       "  </thead>\n",
       "  <tbody>\n",
       "    <tr>\n",
       "      <th>0</th>\n",
       "      <td>100001</td>\n",
       "      <td>Apaleng-Libtong ES</td>\n",
       "      <td>Region I</td>\n",
       "      <td>Ilocos Norte</td>\n",
       "      <td>Bacarra</td>\n",
       "      <td>Ilocos Norte</td>\n",
       "      <td>Bacarra I</td>\n",
       "      <td>ES</td>\n",
       "      <td>Jesusa G. Laeno</td>\n",
       "      <td>90</td>\n",
       "      <td>18.253666</td>\n",
       "      <td>120.606180</td>\n",
       "    </tr>\n",
       "    <tr>\n",
       "      <th>1</th>\n",
       "      <td>100002</td>\n",
       "      <td>Bacarra CES</td>\n",
       "      <td>Region I</td>\n",
       "      <td>Ilocos Norte</td>\n",
       "      <td>Bacarra</td>\n",
       "      <td>Ilocos Norte</td>\n",
       "      <td>Bacarra I</td>\n",
       "      <td>ES</td>\n",
       "      <td>Gene A. Reginaldo</td>\n",
       "      <td>456</td>\n",
       "      <td>18.250964</td>\n",
       "      <td>120.608958</td>\n",
       "    </tr>\n",
       "    <tr>\n",
       "      <th>2</th>\n",
       "      <td>100003</td>\n",
       "      <td>Buyon ES</td>\n",
       "      <td>Region I</td>\n",
       "      <td>Ilocos Norte</td>\n",
       "      <td>Bacarra</td>\n",
       "      <td>Ilocos Norte</td>\n",
       "      <td>Bacarra I</td>\n",
       "      <td>ES</td>\n",
       "      <td>Imelda C. Ilay</td>\n",
       "      <td>167</td>\n",
       "      <td>18.234599</td>\n",
       "      <td>120.616037</td>\n",
       "    </tr>\n",
       "    <tr>\n",
       "      <th>3</th>\n",
       "      <td>100004</td>\n",
       "      <td>Ganagan Elementary School</td>\n",
       "      <td>Region I</td>\n",
       "      <td>Ilocos Norte</td>\n",
       "      <td>Bacarra</td>\n",
       "      <td>Ilocos Norte</td>\n",
       "      <td>Bacarra I</td>\n",
       "      <td>ES</td>\n",
       "      <td>Pedestrelyn Aurora R. Acoba</td>\n",
       "      <td>122</td>\n",
       "      <td>18.250014</td>\n",
       "      <td>120.587169</td>\n",
       "    </tr>\n",
       "    <tr>\n",
       "      <th>4</th>\n",
       "      <td>100005</td>\n",
       "      <td>Macupit ES</td>\n",
       "      <td>Region I</td>\n",
       "      <td>Ilocos Norte</td>\n",
       "      <td>Bacarra</td>\n",
       "      <td>Ilocos Norte</td>\n",
       "      <td>Bacarra I</td>\n",
       "      <td>ES</td>\n",
       "      <td>Venchito F. Galario</td>\n",
       "      <td>77</td>\n",
       "      <td>18.293994</td>\n",
       "      <td>120.641019</td>\n",
       "    </tr>\n",
       "    <tr>\n",
       "      <th>...</th>\n",
       "      <td>...</td>\n",
       "      <td>...</td>\n",
       "      <td>...</td>\n",
       "      <td>...</td>\n",
       "      <td>...</td>\n",
       "      <td>...</td>\n",
       "      <td>...</td>\n",
       "      <td>...</td>\n",
       "      <td>...</td>\n",
       "      <td>...</td>\n",
       "      <td>...</td>\n",
       "      <td>...</td>\n",
       "    </tr>\n",
       "    <tr>\n",
       "      <th>46619</th>\n",
       "      <td>320607</td>\n",
       "      <td>Agripino Manalo National HS</td>\n",
       "      <td>NCR</td>\n",
       "      <td>NCR Fourth District</td>\n",
       "      <td>Pateros</td>\n",
       "      <td>Taguig</td>\n",
       "      <td>Pateros</td>\n",
       "      <td>SS</td>\n",
       "      <td>Cecilia G. Maramag</td>\n",
       "      <td>364</td>\n",
       "      <td>14.544392</td>\n",
       "      <td>121.062078</td>\n",
       "    </tr>\n",
       "    <tr>\n",
       "      <th>46620</th>\n",
       "      <td>320701</td>\n",
       "      <td>Muntinlupa National HS - NBP Annex</td>\n",
       "      <td>NCR</td>\n",
       "      <td>NCR Fourth District</td>\n",
       "      <td>City of Muntinlupa</td>\n",
       "      <td>Muntinlupa City</td>\n",
       "      <td>Muntinlupa City District I</td>\n",
       "      <td>SS</td>\n",
       "      <td>Rosendo E. Sangalang</td>\n",
       "      <td>2805</td>\n",
       "      <td>14.381522</td>\n",
       "      <td>121.031864</td>\n",
       "    </tr>\n",
       "    <tr>\n",
       "      <th>46621</th>\n",
       "      <td>320702</td>\n",
       "      <td>Muntinlupa Business High School - Sucat Annex</td>\n",
       "      <td>NCR</td>\n",
       "      <td>NCR Fourth District</td>\n",
       "      <td>City of Muntinlupa</td>\n",
       "      <td>Muntinlupa City</td>\n",
       "      <td>Muntinlupa City District II</td>\n",
       "      <td>SS</td>\n",
       "      <td>Angelina B. Sagales</td>\n",
       "      <td>1529</td>\n",
       "      <td>14.441553</td>\n",
       "      <td>121.049839</td>\n",
       "    </tr>\n",
       "    <tr>\n",
       "      <th>46622</th>\n",
       "      <td>320703</td>\n",
       "      <td>Pedro E. Diaz HS -Lakeview Annex</td>\n",
       "      <td>NCR</td>\n",
       "      <td>NCR Fourth District</td>\n",
       "      <td>City of Muntinlupa</td>\n",
       "      <td>Muntinlupa City</td>\n",
       "      <td>Muntinlupa City District II</td>\n",
       "      <td>SS</td>\n",
       "      <td>Marissa M. Andanza</td>\n",
       "      <td>575</td>\n",
       "      <td>14.391487</td>\n",
       "      <td>121.041695</td>\n",
       "    </tr>\n",
       "    <tr>\n",
       "      <th>46623</th>\n",
       "      <td>320704</td>\n",
       "      <td>Muntinlupa NHS -Tunasan Annex</td>\n",
       "      <td>NCR</td>\n",
       "      <td>NCR Fourth District</td>\n",
       "      <td>City of Muntinlupa</td>\n",
       "      <td>Muntinlupa City</td>\n",
       "      <td>Muntinlupa City District II</td>\n",
       "      <td>SS</td>\n",
       "      <td>Dean B. Hermoso</td>\n",
       "      <td>809</td>\n",
       "      <td>14.392025</td>\n",
       "      <td>121.045357</td>\n",
       "    </tr>\n",
       "  </tbody>\n",
       "</table>\n",
       "<p>46624 rows × 12 columns</p>\n",
       "</div>"
      ],
      "text/plain": [
       "       School ID                                    School Name    Region  \\\n",
       "0         100001                             Apaleng-Libtong ES  Region I   \n",
       "1         100002                                    Bacarra CES  Region I   \n",
       "2         100003                                       Buyon ES  Region I   \n",
       "3         100004                      Ganagan Elementary School  Region I   \n",
       "4         100005                                     Macupit ES  Region I   \n",
       "...          ...                                            ...       ...   \n",
       "46619     320607                    Agripino Manalo National HS       NCR   \n",
       "46620     320701             Muntinlupa National HS - NBP Annex       NCR   \n",
       "46621     320702  Muntinlupa Business High School - Sucat Annex       NCR   \n",
       "46622     320703               Pedro E. Diaz HS -Lakeview Annex       NCR   \n",
       "46623     320704                  Muntinlupa NHS -Tunasan Annex       NCR   \n",
       "\n",
       "                  Province        Municipality         Division  \\\n",
       "0             Ilocos Norte             Bacarra     Ilocos Norte   \n",
       "1             Ilocos Norte             Bacarra     Ilocos Norte   \n",
       "2             Ilocos Norte             Bacarra     Ilocos Norte   \n",
       "3             Ilocos Norte             Bacarra     Ilocos Norte   \n",
       "4             Ilocos Norte             Bacarra     Ilocos Norte   \n",
       "...                    ...                 ...              ...   \n",
       "46619  NCR Fourth District             Pateros           Taguig   \n",
       "46620  NCR Fourth District  City of Muntinlupa  Muntinlupa City   \n",
       "46621  NCR Fourth District  City of Muntinlupa  Muntinlupa City   \n",
       "46622  NCR Fourth District  City of Muntinlupa  Muntinlupa City   \n",
       "46623  NCR Fourth District  City of Muntinlupa  Muntinlupa City   \n",
       "\n",
       "                          District Offering            Name of Principal  \\\n",
       "0                        Bacarra I       ES              Jesusa G. Laeno   \n",
       "1                        Bacarra I       ES            Gene A. Reginaldo   \n",
       "2                        Bacarra I       ES               Imelda C. Ilay   \n",
       "3                        Bacarra I       ES  Pedestrelyn Aurora R. Acoba   \n",
       "4                        Bacarra I       ES          Venchito F. Galario   \n",
       "...                            ...      ...                          ...   \n",
       "46619                      Pateros       SS           Cecilia G. Maramag   \n",
       "46620   Muntinlupa City District I       SS         Rosendo E. Sangalang   \n",
       "46621  Muntinlupa City District II       SS          Angelina B. Sagales   \n",
       "46622  Muntinlupa City District II       SS           Marissa M. Andanza   \n",
       "46623  Muntinlupa City District II       SS              Dean B. Hermoso   \n",
       "\n",
       "       Enrolment   Latitude   Longitude  \n",
       "0             90  18.253666  120.606180  \n",
       "1            456  18.250964  120.608958  \n",
       "2            167  18.234599  120.616037  \n",
       "3            122  18.250014  120.587169  \n",
       "4             77  18.293994  120.641019  \n",
       "...          ...        ...         ...  \n",
       "46619        364  14.544392  121.062078  \n",
       "46620       2805  14.381522  121.031864  \n",
       "46621       1529  14.441553  121.049839  \n",
       "46622        575  14.391487  121.041695  \n",
       "46623        809  14.392025  121.045357  \n",
       "\n",
       "[46624 rows x 12 columns]"
      ]
     },
     "execution_count": 7,
     "metadata": {},
     "output_type": "execute_result"
    }
   ],
   "source": [
    "school_loc = pd.read_csv(\"Schools Location Data.csv\", encoding=\"latin\")\n",
    "school_loc"
   ]
  },
  {
   "cell_type": "code",
   "execution_count": 8,
   "metadata": {
    "cell_id": "00016-f8188437-95c1-44d4-9c92-da3cc8b530a7",
    "deepnote_cell_type": "code",
    "deepnote_to_be_reexecuted": false,
    "execution_millis": 103,
    "execution_start": 1611148577182,
    "source_hash": "3e7cdb75",
    "tags": []
   },
   "outputs": [
    {
     "name": "stdout",
     "output_type": "stream",
     "text": [
      "<class 'pandas.core.frame.DataFrame'>\n",
      "RangeIndex: 45040 entries, 0 to 45039\n",
      "Data columns (total 5 columns):\n",
      " #   Column               Non-Null Count  Dtype\n",
      "---  ------               --------------  -----\n",
      " 0   school.id            45040 non-null  int64\n",
      " 1   teachers.instructor  45040 non-null  int64\n",
      " 2   teachers.mobile      45040 non-null  int64\n",
      " 3   teachers.regular     45040 non-null  int64\n",
      " 4   teachers.sped        45040 non-null  int64\n",
      "dtypes: int64(5)\n",
      "memory usage: 1.7 MB\n"
     ]
    }
   ],
   "source": [
    "teachers = pd.read_csv(\"Teachers data.csv\")\n",
    "teachers.info()"
   ]
  },
  {
   "cell_type": "code",
   "execution_count": 9,
   "metadata": {},
   "outputs": [
    {
     "data": {
      "text/html": [
       "<div>\n",
       "<style scoped>\n",
       "    .dataframe tbody tr th:only-of-type {\n",
       "        vertical-align: middle;\n",
       "    }\n",
       "\n",
       "    .dataframe tbody tr th {\n",
       "        vertical-align: top;\n",
       "    }\n",
       "\n",
       "    .dataframe thead th {\n",
       "        text-align: right;\n",
       "    }\n",
       "</style>\n",
       "<table border=\"1\" class=\"dataframe\">\n",
       "  <thead>\n",
       "    <tr style=\"text-align: right;\">\n",
       "      <th></th>\n",
       "      <th>school.id</th>\n",
       "      <th>teachers.instructor</th>\n",
       "      <th>teachers.mobile</th>\n",
       "      <th>teachers.regular</th>\n",
       "      <th>teachers.sped</th>\n",
       "    </tr>\n",
       "  </thead>\n",
       "  <tbody>\n",
       "  </tbody>\n",
       "</table>\n",
       "</div>"
      ],
      "text/plain": [
       "Empty DataFrame\n",
       "Columns: [school.id, teachers.instructor, teachers.mobile, teachers.regular, teachers.sped]\n",
       "Index: []"
      ]
     },
     "execution_count": 9,
     "metadata": {},
     "output_type": "execute_result"
    }
   ],
   "source": [
    "teachers[teachers[\"school.id\"].duplicated(keep=False)]"
   ]
  },
  {
   "cell_type": "code",
   "execution_count": 10,
   "metadata": {
    "cell_id": "00021-ea02e91c-3948-42ed-98fb-fefc42ef6b19",
    "deepnote_cell_type": "code",
    "deepnote_to_be_reexecuted": false,
    "execution_millis": 38,
    "execution_start": 1611148577296,
    "is_code_hidden": false,
    "source_hash": "3e8d5931",
    "tags": []
   },
   "outputs": [
    {
     "data": {
      "text/plain": [
       "(44028, 5)"
      ]
     },
     "execution_count": 10,
     "metadata": {},
     "output_type": "execute_result"
    }
   ],
   "source": [
    "# TIM\n",
    "mooe.shape"
   ]
  },
  {
   "cell_type": "code",
   "execution_count": 11,
   "metadata": {
    "cell_id": "00023-05408d61-5f45-48bf-b398-365f4a23c1b6",
    "deepnote_cell_type": "code",
    "deepnote_to_be_reexecuted": false,
    "execution_millis": 27,
    "execution_start": 1611148577340,
    "source_hash": "e1a859f2",
    "tags": []
   },
   "outputs": [
    {
     "data": {
      "text/html": [
       "<div>\n",
       "<style scoped>\n",
       "    .dataframe tbody tr th:only-of-type {\n",
       "        vertical-align: middle;\n",
       "    }\n",
       "\n",
       "    .dataframe tbody tr th {\n",
       "        vertical-align: top;\n",
       "    }\n",
       "\n",
       "    .dataframe thead th {\n",
       "        text-align: right;\n",
       "    }\n",
       "</style>\n",
       "<table border=\"1\" class=\"dataframe\">\n",
       "  <thead>\n",
       "    <tr style=\"text-align: right;\">\n",
       "      <th></th>\n",
       "      <th>school.id</th>\n",
       "      <th>school.name</th>\n",
       "      <th>school.enrollment</th>\n",
       "      <th>school.offering</th>\n",
       "      <th>school.mooe</th>\n",
       "    </tr>\n",
       "  </thead>\n",
       "  <tbody>\n",
       "    <tr>\n",
       "      <th>0</th>\n",
       "      <td>305075</td>\n",
       "      <td>Abra HS</td>\n",
       "      <td>2481</td>\n",
       "      <td>Secondary</td>\n",
       "      <td>2,182,000.00</td>\n",
       "    </tr>\n",
       "    <tr>\n",
       "      <th>1</th>\n",
       "      <td>134966</td>\n",
       "      <td>Agtangao ES</td>\n",
       "      <td>376</td>\n",
       "      <td>Elementary</td>\n",
       "      <td>227,000.00</td>\n",
       "    </tr>\n",
       "    <tr>\n",
       "      <th>2</th>\n",
       "      <td>134967</td>\n",
       "      <td>Bacsil ES</td>\n",
       "      <td>218</td>\n",
       "      <td>Elementary</td>\n",
       "      <td>144,000.00</td>\n",
       "    </tr>\n",
       "    <tr>\n",
       "      <th>3</th>\n",
       "      <td>134968</td>\n",
       "      <td>Bangued East CS</td>\n",
       "      <td>443</td>\n",
       "      <td>Elementary</td>\n",
       "      <td>339,000.00</td>\n",
       "    </tr>\n",
       "    <tr>\n",
       "      <th>4</th>\n",
       "      <td>134969</td>\n",
       "      <td>Bangued North ES</td>\n",
       "      <td>307</td>\n",
       "      <td>Elementary</td>\n",
       "      <td>178,000.00</td>\n",
       "    </tr>\n",
       "  </tbody>\n",
       "</table>\n",
       "</div>"
      ],
      "text/plain": [
       "   school.id       school.name  school.enrollment school.offering  \\\n",
       "0     305075           Abra HS               2481       Secondary   \n",
       "1     134966       Agtangao ES                376      Elementary   \n",
       "2     134967         Bacsil ES                218      Elementary   \n",
       "3     134968   Bangued East CS                443      Elementary   \n",
       "4     134969  Bangued North ES                307      Elementary   \n",
       "\n",
       "     school.mooe   \n",
       "0   2,182,000.00   \n",
       "1     227,000.00   \n",
       "2     144,000.00   \n",
       "3     339,000.00   \n",
       "4     178,000.00   "
      ]
     },
     "execution_count": 11,
     "metadata": {},
     "output_type": "execute_result"
    }
   ],
   "source": [
    "mooe.head()"
   ]
  },
  {
   "cell_type": "code",
   "execution_count": 12,
   "metadata": {
    "cell_id": "00025-0b686569-e10f-40c4-ba71-63996ee521bc",
    "deepnote_cell_type": "code",
    "deepnote_to_be_reexecuted": false,
    "execution_millis": 12,
    "execution_start": 1611148577369,
    "source_hash": "9a404512",
    "tags": []
   },
   "outputs": [
    {
     "name": "stdout",
     "output_type": "stream",
     "text": [
      "<class 'pandas.core.frame.DataFrame'>\n",
      "RangeIndex: 44028 entries, 0 to 44027\n",
      "Data columns (total 5 columns):\n",
      " #   Column             Non-Null Count  Dtype \n",
      "---  ------             --------------  ----- \n",
      " 0   school.id          44028 non-null  int64 \n",
      " 1   school.name        44028 non-null  object\n",
      " 2   school.enrollment  44028 non-null  int64 \n",
      " 3   school.offering    44028 non-null  object\n",
      " 4    school.mooe       44028 non-null  object\n",
      "dtypes: int64(2), object(3)\n",
      "memory usage: 1.7+ MB\n"
     ]
    }
   ],
   "source": [
    "mooe.info()"
   ]
  },
  {
   "cell_type": "code",
   "execution_count": 13,
   "metadata": {
    "cell_id": "00028-53c1353b-0a6e-4b18-b657-262dcec9fb40",
    "deepnote_cell_type": "code",
    "deepnote_to_be_reexecuted": false,
    "execution_millis": 7,
    "execution_start": 1611148577428,
    "source_hash": "f11667ae",
    "tags": []
   },
   "outputs": [
    {
     "data": {
      "text/html": [
       "<div>\n",
       "<style scoped>\n",
       "    .dataframe tbody tr th:only-of-type {\n",
       "        vertical-align: middle;\n",
       "    }\n",
       "\n",
       "    .dataframe tbody tr th {\n",
       "        vertical-align: top;\n",
       "    }\n",
       "\n",
       "    .dataframe thead th {\n",
       "        text-align: right;\n",
       "    }\n",
       "</style>\n",
       "<table border=\"1\" class=\"dataframe\">\n",
       "  <thead>\n",
       "    <tr style=\"text-align: right;\">\n",
       "      <th></th>\n",
       "      <th>school.id</th>\n",
       "      <th>school.name</th>\n",
       "      <th>school.enrollment</th>\n",
       "      <th>school.offering</th>\n",
       "      <th>school.mooe</th>\n",
       "    </tr>\n",
       "  </thead>\n",
       "  <tbody>\n",
       "  </tbody>\n",
       "</table>\n",
       "</div>"
      ],
      "text/plain": [
       "Empty DataFrame\n",
       "Columns: [school.id, school.name, school.enrollment, school.offering,  school.mooe ]\n",
       "Index: []"
      ]
     },
     "execution_count": 13,
     "metadata": {},
     "output_type": "execute_result"
    }
   ],
   "source": [
    "mooe[mooe[\"school.id\"] . duplicated(keep=False)]"
   ]
  },
  {
   "cell_type": "code",
   "execution_count": 14,
   "metadata": {
    "cell_id": "00029-58294e86-23dd-4cc5-bbff-fa5de11bfc3c",
    "deepnote_cell_type": "code",
    "deepnote_to_be_reexecuted": false,
    "execution_millis": 13,
    "execution_start": 1611148577488,
    "source_hash": "3f9eb9e",
    "tags": []
   },
   "outputs": [
    {
     "data": {
      "text/html": [
       "<div>\n",
       "<style scoped>\n",
       "    .dataframe tbody tr th:only-of-type {\n",
       "        vertical-align: middle;\n",
       "    }\n",
       "\n",
       "    .dataframe tbody tr th {\n",
       "        vertical-align: top;\n",
       "    }\n",
       "\n",
       "    .dataframe thead th {\n",
       "        text-align: right;\n",
       "    }\n",
       "</style>\n",
       "<table border=\"1\" class=\"dataframe\">\n",
       "  <thead>\n",
       "    <tr style=\"text-align: right;\">\n",
       "      <th></th>\n",
       "      <th>school.id</th>\n",
       "      <th>school.name</th>\n",
       "      <th>school.enrollment</th>\n",
       "      <th>school.offering</th>\n",
       "      <th>school.mooe</th>\n",
       "    </tr>\n",
       "  </thead>\n",
       "  <tbody>\n",
       "    <tr>\n",
       "      <th>2</th>\n",
       "      <td>134967</td>\n",
       "      <td>Bacsil ES</td>\n",
       "      <td>218</td>\n",
       "      <td>Elementary</td>\n",
       "      <td>144,000.00</td>\n",
       "    </tr>\n",
       "    <tr>\n",
       "      <th>14</th>\n",
       "      <td>134976</td>\n",
       "      <td>Sinapangan ES</td>\n",
       "      <td>385</td>\n",
       "      <td>Elementary</td>\n",
       "      <td>220,000.00</td>\n",
       "    </tr>\n",
       "    <tr>\n",
       "      <th>15</th>\n",
       "      <td>218505</td>\n",
       "      <td>Sta. Rosa PS</td>\n",
       "      <td>23</td>\n",
       "      <td>Elementary</td>\n",
       "      <td>49,000.00</td>\n",
       "    </tr>\n",
       "    <tr>\n",
       "      <th>19</th>\n",
       "      <td>134980</td>\n",
       "      <td>Calaba ES</td>\n",
       "      <td>328</td>\n",
       "      <td>Elementary</td>\n",
       "      <td>185,000.00</td>\n",
       "    </tr>\n",
       "    <tr>\n",
       "      <th>23</th>\n",
       "      <td>134984</td>\n",
       "      <td>San Antonio ES</td>\n",
       "      <td>173</td>\n",
       "      <td>Elementary</td>\n",
       "      <td>131,000.00</td>\n",
       "    </tr>\n",
       "    <tr>\n",
       "      <th>...</th>\n",
       "      <td>...</td>\n",
       "      <td>...</td>\n",
       "      <td>...</td>\n",
       "      <td>...</td>\n",
       "      <td>...</td>\n",
       "    </tr>\n",
       "    <tr>\n",
       "      <th>44004</th>\n",
       "      <td>131228</td>\n",
       "      <td>San Rafael ES</td>\n",
       "      <td>134</td>\n",
       "      <td>Elementary</td>\n",
       "      <td>117,000.00</td>\n",
       "    </tr>\n",
       "    <tr>\n",
       "      <th>44005</th>\n",
       "      <td>131229</td>\n",
       "      <td>Tina ES</td>\n",
       "      <td>266</td>\n",
       "      <td>Elementary</td>\n",
       "      <td>157,000.00</td>\n",
       "    </tr>\n",
       "    <tr>\n",
       "      <th>44008</th>\n",
       "      <td>131223</td>\n",
       "      <td>Buenaflor ES</td>\n",
       "      <td>338</td>\n",
       "      <td>Elementary</td>\n",
       "      <td>229,000.00</td>\n",
       "    </tr>\n",
       "    <tr>\n",
       "      <th>44012</th>\n",
       "      <td>131227</td>\n",
       "      <td>San Antonio ES</td>\n",
       "      <td>174</td>\n",
       "      <td>Elementary</td>\n",
       "      <td>122,000.00</td>\n",
       "    </tr>\n",
       "    <tr>\n",
       "      <th>44019</th>\n",
       "      <td>131238</td>\n",
       "      <td>Rajah Muda ES</td>\n",
       "      <td>454</td>\n",
       "      <td>Elementary</td>\n",
       "      <td>260,000.00</td>\n",
       "    </tr>\n",
       "  </tbody>\n",
       "</table>\n",
       "<p>12260 rows × 5 columns</p>\n",
       "</div>"
      ],
      "text/plain": [
       "       school.id     school.name  school.enrollment school.offering  \\\n",
       "2         134967       Bacsil ES                218      Elementary   \n",
       "14        134976   Sinapangan ES                385      Elementary   \n",
       "15        218505    Sta. Rosa PS                 23      Elementary   \n",
       "19        134980       Calaba ES                328      Elementary   \n",
       "23        134984  San Antonio ES                173      Elementary   \n",
       "...          ...             ...                ...             ...   \n",
       "44004     131228   San Rafael ES                134      Elementary   \n",
       "44005     131229         Tina ES                266      Elementary   \n",
       "44008     131223    Buenaflor ES                338      Elementary   \n",
       "44012     131227  San Antonio ES                174      Elementary   \n",
       "44019     131238   Rajah Muda ES                454      Elementary   \n",
       "\n",
       "       school.mooe   \n",
       "2       144,000.00   \n",
       "14      220,000.00   \n",
       "15       49,000.00   \n",
       "19      185,000.00   \n",
       "23      131,000.00   \n",
       "...             ...  \n",
       "44004   117,000.00   \n",
       "44005   157,000.00   \n",
       "44008   229,000.00   \n",
       "44012   122,000.00   \n",
       "44019   260,000.00   \n",
       "\n",
       "[12260 rows x 5 columns]"
      ]
     },
     "execution_count": 14,
     "metadata": {},
     "output_type": "execute_result"
    }
   ],
   "source": [
    "mooe[mooe[\"school.name\"].duplicated(keep=False)]"
   ]
  },
  {
   "cell_type": "code",
   "execution_count": 15,
   "metadata": {
    "cell_id": "00016-ec22ec4e-306e-4b63-9b05-13dedaed8e6a",
    "deepnote_cell_type": "code",
    "deepnote_to_be_reexecuted": false,
    "execution_millis": 148,
    "execution_start": 1611148577533,
    "source_hash": "899d1ae3",
    "tags": []
   },
   "outputs": [
    {
     "data": {
      "text/html": [
       "<div>\n",
       "<style scoped>\n",
       "    .dataframe tbody tr th:only-of-type {\n",
       "        vertical-align: middle;\n",
       "    }\n",
       "\n",
       "    .dataframe tbody tr th {\n",
       "        vertical-align: top;\n",
       "    }\n",
       "\n",
       "    .dataframe thead th {\n",
       "        text-align: right;\n",
       "    }\n",
       "</style>\n",
       "<table border=\"1\" class=\"dataframe\">\n",
       "  <thead>\n",
       "    <tr style=\"text-align: right;\">\n",
       "      <th></th>\n",
       "      <th>school.id</th>\n",
       "      <th>school.name</th>\n",
       "      <th>school.enrollment</th>\n",
       "      <th>school.offering</th>\n",
       "      <th>school.mooe</th>\n",
       "    </tr>\n",
       "  </thead>\n",
       "  <tbody>\n",
       "    <tr>\n",
       "      <th>0</th>\n",
       "      <td>305075</td>\n",
       "      <td>Abra HS</td>\n",
       "      <td>2481</td>\n",
       "      <td>Secondary</td>\n",
       "      <td>2182000.0</td>\n",
       "    </tr>\n",
       "    <tr>\n",
       "      <th>1</th>\n",
       "      <td>134966</td>\n",
       "      <td>Agtangao ES</td>\n",
       "      <td>376</td>\n",
       "      <td>Elementary</td>\n",
       "      <td>227000.0</td>\n",
       "    </tr>\n",
       "    <tr>\n",
       "      <th>2</th>\n",
       "      <td>134967</td>\n",
       "      <td>Bacsil ES</td>\n",
       "      <td>218</td>\n",
       "      <td>Elementary</td>\n",
       "      <td>144000.0</td>\n",
       "    </tr>\n",
       "    <tr>\n",
       "      <th>3</th>\n",
       "      <td>134968</td>\n",
       "      <td>Bangued East CS</td>\n",
       "      <td>443</td>\n",
       "      <td>Elementary</td>\n",
       "      <td>339000.0</td>\n",
       "    </tr>\n",
       "    <tr>\n",
       "      <th>4</th>\n",
       "      <td>134969</td>\n",
       "      <td>Bangued North ES</td>\n",
       "      <td>307</td>\n",
       "      <td>Elementary</td>\n",
       "      <td>178000.0</td>\n",
       "    </tr>\n",
       "    <tr>\n",
       "      <th>...</th>\n",
       "      <td>...</td>\n",
       "      <td>...</td>\n",
       "      <td>...</td>\n",
       "      <td>...</td>\n",
       "      <td>...</td>\n",
       "    </tr>\n",
       "    <tr>\n",
       "      <th>44023</th>\n",
       "      <td>131231</td>\n",
       "      <td>J. Hector Lacson ES</td>\n",
       "      <td>340</td>\n",
       "      <td>Elementary</td>\n",
       "      <td>180000.0</td>\n",
       "    </tr>\n",
       "    <tr>\n",
       "      <th>44024</th>\n",
       "      <td>131233</td>\n",
       "      <td>Kalandagan ES</td>\n",
       "      <td>420</td>\n",
       "      <td>Elementary</td>\n",
       "      <td>248000.0</td>\n",
       "    </tr>\n",
       "    <tr>\n",
       "      <th>44025</th>\n",
       "      <td>131236</td>\n",
       "      <td>Ma. Z. Bayya ES</td>\n",
       "      <td>481</td>\n",
       "      <td>Elementary</td>\n",
       "      <td>242000.0</td>\n",
       "    </tr>\n",
       "    <tr>\n",
       "      <th>44026</th>\n",
       "      <td>131237</td>\n",
       "      <td>New Isabela Central Elementary School</td>\n",
       "      <td>1895</td>\n",
       "      <td>Elementary</td>\n",
       "      <td>841000.0</td>\n",
       "    </tr>\n",
       "    <tr>\n",
       "      <th>44027</th>\n",
       "      <td>304624</td>\n",
       "      <td>Tacurong NHS</td>\n",
       "      <td>2460</td>\n",
       "      <td>Secondary</td>\n",
       "      <td>2345000.0</td>\n",
       "    </tr>\n",
       "  </tbody>\n",
       "</table>\n",
       "<p>44028 rows × 5 columns</p>\n",
       "</div>"
      ],
      "text/plain": [
       "       school.id                            school.name  school.enrollment  \\\n",
       "0         305075                                Abra HS               2481   \n",
       "1         134966                            Agtangao ES                376   \n",
       "2         134967                              Bacsil ES                218   \n",
       "3         134968                        Bangued East CS                443   \n",
       "4         134969                       Bangued North ES                307   \n",
       "...          ...                                    ...                ...   \n",
       "44023     131231                    J. Hector Lacson ES                340   \n",
       "44024     131233                          Kalandagan ES                420   \n",
       "44025     131236                        Ma. Z. Bayya ES                481   \n",
       "44026     131237  New Isabela Central Elementary School               1895   \n",
       "44027     304624                           Tacurong NHS               2460   \n",
       "\n",
       "      school.offering   school.mooe   \n",
       "0           Secondary      2182000.0  \n",
       "1          Elementary       227000.0  \n",
       "2          Elementary       144000.0  \n",
       "3          Elementary       339000.0  \n",
       "4          Elementary       178000.0  \n",
       "...               ...            ...  \n",
       "44023      Elementary       180000.0  \n",
       "44024      Elementary       248000.0  \n",
       "44025      Elementary       242000.0  \n",
       "44026      Elementary       841000.0  \n",
       "44027       Secondary      2345000.0  \n",
       "\n",
       "[44028 rows x 5 columns]"
      ]
     },
     "execution_count": 15,
     "metadata": {},
     "output_type": "execute_result"
    }
   ],
   "source": [
    "mooe[' school.mooe '] = mooe[' school.mooe '].str.replace(',','')\n",
    "mooe[' school.mooe '] = mooe[' school.mooe '].astype('float')\n",
    "mooe"
   ]
  },
  {
   "cell_type": "code",
   "execution_count": 16,
   "metadata": {
    "cell_id": "00022-1a7a1c78-650a-4e44-97d3-8f4fd0120502",
    "deepnote_cell_type": "code",
    "deepnote_to_be_reexecuted": false,
    "execution_millis": 210,
    "execution_start": 1611148578174,
    "source_hash": "d844e099",
    "tags": []
   },
   "outputs": [
    {
     "name": "stdout",
     "output_type": "stream",
     "text": [
      "<class 'pandas.core.frame.DataFrame'>\n",
      "RangeIndex: 46603 entries, 0 to 46602\n",
      "Data columns (total 23 columns):\n",
      " #   Column                  Non-Null Count  Dtype  \n",
      "---  ------                  --------------  -----  \n",
      " 0   school.id               46603 non-null  int64  \n",
      " 1   school.name             46603 non-null  object \n",
      " 2   school.region           46603 non-null  object \n",
      " 3   school.region.name      46603 non-null  object \n",
      " 4   school.province         46603 non-null  object \n",
      " 5   school.cityhall         46602 non-null  object \n",
      " 6   school.division         46603 non-null  object \n",
      " 7   school.citymuni         46603 non-null  object \n",
      " 8   school.district         46603 non-null  object \n",
      " 9   school.legdistrict      46603 non-null  object \n",
      " 10  school.type             46603 non-null  object \n",
      " 11  school.abbrev           18167 non-null  object \n",
      " 12  school.previousname     42221 non-null  object \n",
      " 13  school.mother.id        46596 non-null  float64\n",
      " 14  school.address          44621 non-null  object \n",
      " 15  school.established      46594 non-null  object \n",
      " 16  school.classification   46603 non-null  object \n",
      " 17  school.classification2  46603 non-null  object \n",
      " 18  school.curricularclass  46603 non-null  object \n",
      " 19  school.organization     46603 non-null  object \n",
      " 20  school.cityincome       45627 non-null  object \n",
      " 21  school.cityclass        8213 non-null   object \n",
      " 22  school.urban            46600 non-null  object \n",
      "dtypes: float64(1), int64(1), object(21)\n",
      "memory usage: 8.2+ MB\n"
     ]
    }
   ],
   "source": [
    "school_master.info()"
   ]
  },
  {
   "cell_type": "code",
   "execution_count": 17,
   "metadata": {
    "cell_id": "00023-e9f94b22-b45e-4fd4-ae5c-0719dc2515a3",
    "deepnote_cell_type": "code",
    "deepnote_to_be_reexecuted": false,
    "execution_millis": 288,
    "execution_start": 1611148578387,
    "source_hash": "b8bb338b",
    "tags": []
   },
   "outputs": [
    {
     "name": "stdout",
     "output_type": "stream",
     "text": [
      "<class 'pandas.core.frame.DataFrame'>\n",
      "Int64Index: 46603 entries, 0 to 46602\n",
      "Data columns (total 23 columns):\n",
      " #   Column                  Non-Null Count  Dtype  \n",
      "---  ------                  --------------  -----  \n",
      " 0   school.id               46603 non-null  int64  \n",
      " 1   school.name             46603 non-null  object \n",
      " 2   school.region           46603 non-null  object \n",
      " 3   school.region.name      46603 non-null  object \n",
      " 4   school.province         46603 non-null  object \n",
      " 5   school.cityhall         46602 non-null  object \n",
      " 6   school.division         46603 non-null  object \n",
      " 7   school.citymuni         46603 non-null  object \n",
      " 8   school.district         46603 non-null  object \n",
      " 9   school.legdistrict      46603 non-null  object \n",
      " 10  school.type             46603 non-null  object \n",
      " 11  school.abbrev           18167 non-null  object \n",
      " 12  school.previousname     42221 non-null  object \n",
      " 13  school.mother.id        46596 non-null  float64\n",
      " 14  school.address          44621 non-null  object \n",
      " 15  school.established      46594 non-null  object \n",
      " 16  school.classification   46603 non-null  object \n",
      " 17  school.classification2  46603 non-null  object \n",
      " 18  school.curricularclass  46603 non-null  object \n",
      " 19  school.organization     46603 non-null  object \n",
      " 20  school.cityincome       45627 non-null  object \n",
      " 21  school.cityclass        8213 non-null   object \n",
      " 22  school.urban            46600 non-null  object \n",
      "dtypes: float64(1), int64(1), object(21)\n",
      "memory usage: 8.5+ MB\n"
     ]
    }
   ],
   "source": [
    "#Gee-r\n",
    "school_master= school_master.drop_duplicates()\n",
    "school_master.info()"
   ]
  },
  {
   "cell_type": "markdown",
   "metadata": {
    "cell_id": "00032-a35b6752-e3ce-4f91-aae3-aba61e84c14f",
    "deepnote_cell_type": "markdown",
    "tags": []
   },
   "source": [
    "school master info\n",
    "- abbrev, previousname, school city class to delete"
   ]
  },
  {
   "cell_type": "code",
   "execution_count": 18,
   "metadata": {
    "cell_id": "00030-c1b41e6a-e075-408d-9d4e-ac91f8d80fed",
    "deepnote_cell_type": "code",
    "deepnote_to_be_reexecuted": false,
    "execution_millis": 92,
    "execution_start": 1611148578850,
    "source_hash": "cf2fff32",
    "tags": []
   },
   "outputs": [
    {
     "data": {
      "text/plain": [
       "(44025, 27)"
      ]
     },
     "execution_count": 18,
     "metadata": {},
     "output_type": "execute_result"
    }
   ],
   "source": [
    "school_merged = pd.merge(school_master, mooe, on=\"school.id\")\n",
    "school_merged.shape"
   ]
  },
  {
   "cell_type": "code",
   "execution_count": 19,
   "metadata": {},
   "outputs": [
    {
     "data": {
      "text/plain": [
       "(44025, 32)"
      ]
     },
     "execution_count": 19,
     "metadata": {},
     "output_type": "execute_result"
    }
   ],
   "source": [
    "school_merged2=school_merged.merge(rooms, left_on= \"school.id\", right_on = \"School ID\", how=\"left\")\n",
    "school_merged2.shape"
   ]
  },
  {
   "cell_type": "code",
   "execution_count": 20,
   "metadata": {},
   "outputs": [
    {
     "data": {
      "text/plain": [
       "(44025, 36)"
      ]
     },
     "execution_count": 20,
     "metadata": {},
     "output_type": "execute_result"
    }
   ],
   "source": [
    "school_merged3=school_merged2.merge(teachers, left_on= \"school.id\", right_on = \"school.id\", how=\"left\")\n",
    "school_merged3.shape"
   ]
  },
  {
   "cell_type": "code",
   "execution_count": 21,
   "metadata": {
    "cell_id": "00042-43eb66e7-6bd3-4d3b-b329-4dc0f29488ef",
    "deepnote_cell_type": "code",
    "deepnote_to_be_reexecuted": false,
    "execution_millis": 126,
    "execution_start": 1611148578943,
    "source_hash": "22263fb6",
    "tags": []
   },
   "outputs": [
    {
     "name": "stdout",
     "output_type": "stream",
     "text": [
      "<class 'pandas.core.frame.DataFrame'>\n",
      "Int64Index: 44025 entries, 0 to 44024\n",
      "Data columns (total 36 columns):\n",
      " #   Column                      Non-Null Count  Dtype  \n",
      "---  ------                      --------------  -----  \n",
      " 0   school.id                   44025 non-null  int64  \n",
      " 1   school.name_x               44025 non-null  object \n",
      " 2   school.region               44025 non-null  object \n",
      " 3   school.region.name          44025 non-null  object \n",
      " 4   school.province             44025 non-null  object \n",
      " 5   school.cityhall             44024 non-null  object \n",
      " 6   school.division             44025 non-null  object \n",
      " 7   school.citymuni             44025 non-null  object \n",
      " 8   school.district             44025 non-null  object \n",
      " 9   school.legdistrict          44025 non-null  object \n",
      " 10  school.type                 44025 non-null  object \n",
      " 11  school.abbrev               17461 non-null  object \n",
      " 12  school.previousname         39810 non-null  object \n",
      " 13  school.mother.id            44018 non-null  float64\n",
      " 14  school.address              42059 non-null  object \n",
      " 15  school.established          44016 non-null  object \n",
      " 16  school.classification       44025 non-null  object \n",
      " 17  school.classification2      44025 non-null  object \n",
      " 18  school.curricularclass      44025 non-null  object \n",
      " 19  school.organization         44025 non-null  object \n",
      " 20  school.cityincome           43212 non-null  object \n",
      " 21  school.cityclass            8081 non-null   object \n",
      " 22  school.urban                44022 non-null  object \n",
      " 23  school.name_y               44025 non-null  object \n",
      " 24  school.enrollment           44025 non-null  int64  \n",
      " 25  school.offering             44025 non-null  object \n",
      " 26   school.mooe                44025 non-null  float64\n",
      " 27  School ID                   43806 non-null  float64\n",
      " 28  rooms.standard.academic     43806 non-null  float64\n",
      " 29  rooms.standard.unused       43806 non-null  float64\n",
      " 30  rooms.nonstandard.academic  43802 non-null  float64\n",
      " 31  rooms.nonstandard.unused    43802 non-null  float64\n",
      " 32  teachers.instructor         42523 non-null  float64\n",
      " 33  teachers.mobile             42523 non-null  float64\n",
      " 34  teachers.regular            42523 non-null  float64\n",
      " 35  teachers.sped               42523 non-null  float64\n",
      "dtypes: float64(11), int64(2), object(23)\n",
      "memory usage: 12.4+ MB\n"
     ]
    }
   ],
   "source": [
    "school_merged3.info()"
   ]
  },
  {
   "cell_type": "code",
   "execution_count": 22,
   "metadata": {
    "cell_id": "00043-d93d744e-557e-4051-8c4b-0ca45b3ac1d0",
    "deepnote_cell_type": "code",
    "deepnote_to_be_reexecuted": false,
    "execution_millis": 45,
    "execution_start": 1611148579119,
    "source_hash": "54f2851f",
    "tags": []
   },
   "outputs": [],
   "source": [
    "school_merged3['teacher.student']=school_merged3['teachers.regular']/school_merged['school.enrollment']"
   ]
  },
  {
   "cell_type": "code",
   "execution_count": 23,
   "metadata": {
    "cell_id": "00044-54177554-6c7b-4443-99fb-245bd87002e7",
    "deepnote_cell_type": "code",
    "deepnote_to_be_reexecuted": false,
    "execution_millis": 0,
    "execution_start": 1611148579164,
    "source_hash": "7eb42ec4",
    "tags": []
   },
   "outputs": [],
   "source": [
    "school_merged3['rooms.student']=school_merged3['rooms.standard.academic']/school_merged['school.enrollment']"
   ]
  },
  {
   "cell_type": "code",
   "execution_count": 24,
   "metadata": {
    "cell_id": "00039-264288d2-2286-4078-a288-430486726d2f",
    "deepnote_cell_type": "code",
    "deepnote_to_be_reexecuted": false,
    "execution_millis": 88,
    "execution_start": 1611148579165,
    "source_hash": "82f008",
    "tags": []
   },
   "outputs": [],
   "source": [
    "school_merged3['mooe.student']=school_merged3[' school.mooe ']/school_merged['school.enrollment']"
   ]
  },
  {
   "cell_type": "code",
   "execution_count": 25,
   "metadata": {},
   "outputs": [],
   "source": [
    "school_merged3['teacher.mooe']=school_merged3['teachers.regular']/school_merged[' school.mooe ']"
   ]
  },
  {
   "cell_type": "code",
   "execution_count": 26,
   "metadata": {},
   "outputs": [],
   "source": [
    "school_merged3['rooms.mooe']=school_merged3['rooms.standard.academic']/school_merged[' school.mooe ']"
   ]
  },
  {
   "cell_type": "code",
   "execution_count": 27,
   "metadata": {},
   "outputs": [],
   "source": [
    "school_merged3['student.mooe']= school_merged3['school.enrollment']/school_merged[' school.mooe ']"
   ]
  },
  {
   "cell_type": "code",
   "execution_count": 28,
   "metadata": {
    "cell_id": "00033-5d3a89e3-e4d9-420f-b5e3-002d2b02022c",
    "deepnote_cell_type": "code",
    "deepnote_to_be_reexecuted": false,
    "execution_millis": 12,
    "execution_start": 1611148637934,
    "source_hash": "2b05f6f8",
    "tags": []
   },
   "outputs": [
    {
     "name": "stdout",
     "output_type": "stream",
     "text": [
      "<class 'pandas.core.frame.DataFrame'>\n",
      "Int64Index: 44025 entries, 0 to 44024\n",
      "Data columns (total 42 columns):\n",
      " #   Column                      Non-Null Count  Dtype  \n",
      "---  ------                      --------------  -----  \n",
      " 0   school.id                   44025 non-null  int64  \n",
      " 1   school.name_x               44025 non-null  object \n",
      " 2   school.region               44025 non-null  object \n",
      " 3   school.region.name          44025 non-null  object \n",
      " 4   school.province             44025 non-null  object \n",
      " 5   school.cityhall             44024 non-null  object \n",
      " 6   school.division             44025 non-null  object \n",
      " 7   school.citymuni             44025 non-null  object \n",
      " 8   school.district             44025 non-null  object \n",
      " 9   school.legdistrict          44025 non-null  object \n",
      " 10  school.type                 44025 non-null  object \n",
      " 11  school.abbrev               17461 non-null  object \n",
      " 12  school.previousname         39810 non-null  object \n",
      " 13  school.mother.id            44018 non-null  float64\n",
      " 14  school.address              42059 non-null  object \n",
      " 15  school.established          44016 non-null  object \n",
      " 16  school.classification       44025 non-null  object \n",
      " 17  school.classification2      44025 non-null  object \n",
      " 18  school.curricularclass      44025 non-null  object \n",
      " 19  school.organization         44025 non-null  object \n",
      " 20  school.cityincome           43212 non-null  object \n",
      " 21  school.cityclass            8081 non-null   object \n",
      " 22  school.urban                44022 non-null  object \n",
      " 23  school.name_y               44025 non-null  object \n",
      " 24  school.enrollment           44025 non-null  int64  \n",
      " 25  school.offering             44025 non-null  object \n",
      " 26   school.mooe                44025 non-null  float64\n",
      " 27  School ID                   43806 non-null  float64\n",
      " 28  rooms.standard.academic     43806 non-null  float64\n",
      " 29  rooms.standard.unused       43806 non-null  float64\n",
      " 30  rooms.nonstandard.academic  43802 non-null  float64\n",
      " 31  rooms.nonstandard.unused    43802 non-null  float64\n",
      " 32  teachers.instructor         42523 non-null  float64\n",
      " 33  teachers.mobile             42523 non-null  float64\n",
      " 34  teachers.regular            42523 non-null  float64\n",
      " 35  teachers.sped               42523 non-null  float64\n",
      " 36  teacher.student             42523 non-null  float64\n",
      " 37  rooms.student               43806 non-null  float64\n",
      " 38  mooe.student                44025 non-null  float64\n",
      " 39  teacher.mooe                42523 non-null  float64\n",
      " 40  rooms.mooe                  43806 non-null  float64\n",
      " 41  student.mooe                44025 non-null  float64\n",
      "dtypes: float64(17), int64(2), object(23)\n",
      "memory usage: 14.4+ MB\n"
     ]
    }
   ],
   "source": [
    "school_merged3.info()"
   ]
  },
  {
   "cell_type": "code",
   "execution_count": 29,
   "metadata": {},
   "outputs": [],
   "source": [
    "cols = school_merged3.columns"
   ]
  },
  {
   "cell_type": "code",
   "execution_count": 30,
   "metadata": {},
   "outputs": [
    {
     "data": {
      "text/plain": [
       "Int64Index([28989, 33740], dtype='int64')"
      ]
     },
     "execution_count": 30,
     "metadata": {},
     "output_type": "execute_result"
    }
   ],
   "source": [
    "school_merged3[ school_merged3[cols[36]] == np.inf].index"
   ]
  },
  {
   "cell_type": "code",
   "execution_count": 31,
   "metadata": {},
   "outputs": [],
   "source": [
    "# drop rows with 0 students\n",
    "\n",
    "school_merged3.drop( school_merged3[ school_merged3[cols[36]] == np.inf].index , inplace=True) # 2 rows dropped"
   ]
  },
  {
   "cell_type": "code",
   "execution_count": 32,
   "metadata": {},
   "outputs": [
    {
     "data": {
      "text/html": [
       "<div>\n",
       "<style scoped>\n",
       "    .dataframe tbody tr th:only-of-type {\n",
       "        vertical-align: middle;\n",
       "    }\n",
       "\n",
       "    .dataframe tbody tr th {\n",
       "        vertical-align: top;\n",
       "    }\n",
       "\n",
       "    .dataframe thead th {\n",
       "        text-align: right;\n",
       "    }\n",
       "</style>\n",
       "<table border=\"1\" class=\"dataframe\">\n",
       "  <thead>\n",
       "    <tr style=\"text-align: right;\">\n",
       "      <th></th>\n",
       "      <th>school.id</th>\n",
       "      <th>school.name_x</th>\n",
       "      <th>school.region</th>\n",
       "      <th>school.region.name</th>\n",
       "      <th>school.province</th>\n",
       "      <th>school.cityhall</th>\n",
       "      <th>school.division</th>\n",
       "      <th>school.citymuni</th>\n",
       "      <th>school.district</th>\n",
       "      <th>school.legdistrict</th>\n",
       "      <th>...</th>\n",
       "      <th>teachers.instructor</th>\n",
       "      <th>teachers.mobile</th>\n",
       "      <th>teachers.regular</th>\n",
       "      <th>teachers.sped</th>\n",
       "      <th>teacher.student</th>\n",
       "      <th>rooms.student</th>\n",
       "      <th>mooe.student</th>\n",
       "      <th>teacher.mooe</th>\n",
       "      <th>rooms.mooe</th>\n",
       "      <th>student.mooe</th>\n",
       "    </tr>\n",
       "  </thead>\n",
       "  <tbody>\n",
       "  </tbody>\n",
       "</table>\n",
       "<p>0 rows × 42 columns</p>\n",
       "</div>"
      ],
      "text/plain": [
       "Empty DataFrame\n",
       "Columns: [school.id, school.name_x, school.region, school.region.name, school.province, school.cityhall, school.division, school.citymuni, school.district, school.legdistrict, school.type, school.abbrev, school.previousname, school.mother.id, school.address, school.established, school.classification, school.classification2, school.curricularclass, school.organization, school.cityincome, school.cityclass, school.urban, school.name_y, school.enrollment, school.offering,  school.mooe , School ID, rooms.standard.academic, rooms.standard.unused, rooms.nonstandard.academic, rooms.nonstandard.unused, teachers.instructor, teachers.mobile, teachers.regular, teachers.sped, teacher.student, rooms.student, mooe.student, teacher.mooe, rooms.mooe, student.mooe]\n",
       "Index: []\n",
       "\n",
       "[0 rows x 42 columns]"
      ]
     },
     "execution_count": 32,
     "metadata": {},
     "output_type": "execute_result"
    }
   ],
   "source": [
    "school_merged3[ school_merged3[cols[36]] == np.inf]"
   ]
  },
  {
   "cell_type": "code",
   "execution_count": 33,
   "metadata": {},
   "outputs": [
    {
     "data": {
      "text/html": [
       "<div>\n",
       "<style scoped>\n",
       "    .dataframe tbody tr th:only-of-type {\n",
       "        vertical-align: middle;\n",
       "    }\n",
       "\n",
       "    .dataframe tbody tr th {\n",
       "        vertical-align: top;\n",
       "    }\n",
       "\n",
       "    .dataframe thead th {\n",
       "        text-align: right;\n",
       "    }\n",
       "</style>\n",
       "<table border=\"1\" class=\"dataframe\">\n",
       "  <thead>\n",
       "    <tr style=\"text-align: right;\">\n",
       "      <th></th>\n",
       "      <th>school.id</th>\n",
       "      <th>school.name_x</th>\n",
       "      <th>school.region</th>\n",
       "      <th>school.region.name</th>\n",
       "      <th>school.province</th>\n",
       "      <th>school.cityhall</th>\n",
       "      <th>school.division</th>\n",
       "      <th>school.citymuni</th>\n",
       "      <th>school.district</th>\n",
       "      <th>school.legdistrict</th>\n",
       "      <th>...</th>\n",
       "      <th>teachers.instructor</th>\n",
       "      <th>teachers.mobile</th>\n",
       "      <th>teachers.regular</th>\n",
       "      <th>teachers.sped</th>\n",
       "      <th>teacher.student</th>\n",
       "      <th>rooms.student</th>\n",
       "      <th>mooe.student</th>\n",
       "      <th>teacher.mooe</th>\n",
       "      <th>rooms.mooe</th>\n",
       "      <th>student.mooe</th>\n",
       "    </tr>\n",
       "  </thead>\n",
       "  <tbody>\n",
       "  </tbody>\n",
       "</table>\n",
       "<p>0 rows × 42 columns</p>\n",
       "</div>"
      ],
      "text/plain": [
       "Empty DataFrame\n",
       "Columns: [school.id, school.name_x, school.region, school.region.name, school.province, school.cityhall, school.division, school.citymuni, school.district, school.legdistrict, school.type, school.abbrev, school.previousname, school.mother.id, school.address, school.established, school.classification, school.classification2, school.curricularclass, school.organization, school.cityincome, school.cityclass, school.urban, school.name_y, school.enrollment, school.offering,  school.mooe , School ID, rooms.standard.academic, rooms.standard.unused, rooms.nonstandard.academic, rooms.nonstandard.unused, teachers.instructor, teachers.mobile, teachers.regular, teachers.sped, teacher.student, rooms.student, mooe.student, teacher.mooe, rooms.mooe, student.mooe]\n",
       "Index: []\n",
       "\n",
       "[0 rows x 42 columns]"
      ]
     },
     "execution_count": 33,
     "metadata": {},
     "output_type": "execute_result"
    }
   ],
   "source": [
    "school_merged3[ school_merged3[cols[37]] == np.inf]"
   ]
  },
  {
   "cell_type": "code",
   "execution_count": 34,
   "metadata": {},
   "outputs": [
    {
     "data": {
      "text/html": [
       "<div>\n",
       "<style scoped>\n",
       "    .dataframe tbody tr th:only-of-type {\n",
       "        vertical-align: middle;\n",
       "    }\n",
       "\n",
       "    .dataframe tbody tr th {\n",
       "        vertical-align: top;\n",
       "    }\n",
       "\n",
       "    .dataframe thead th {\n",
       "        text-align: right;\n",
       "    }\n",
       "</style>\n",
       "<table border=\"1\" class=\"dataframe\">\n",
       "  <thead>\n",
       "    <tr style=\"text-align: right;\">\n",
       "      <th></th>\n",
       "      <th>school.id</th>\n",
       "      <th>school.name_x</th>\n",
       "      <th>school.region</th>\n",
       "      <th>school.region.name</th>\n",
       "      <th>school.province</th>\n",
       "      <th>school.cityhall</th>\n",
       "      <th>school.division</th>\n",
       "      <th>school.citymuni</th>\n",
       "      <th>school.district</th>\n",
       "      <th>school.legdistrict</th>\n",
       "      <th>...</th>\n",
       "      <th>teachers.instructor</th>\n",
       "      <th>teachers.mobile</th>\n",
       "      <th>teachers.regular</th>\n",
       "      <th>teachers.sped</th>\n",
       "      <th>teacher.student</th>\n",
       "      <th>rooms.student</th>\n",
       "      <th>mooe.student</th>\n",
       "      <th>teacher.mooe</th>\n",
       "      <th>rooms.mooe</th>\n",
       "      <th>student.mooe</th>\n",
       "    </tr>\n",
       "  </thead>\n",
       "  <tbody>\n",
       "  </tbody>\n",
       "</table>\n",
       "<p>0 rows × 42 columns</p>\n",
       "</div>"
      ],
      "text/plain": [
       "Empty DataFrame\n",
       "Columns: [school.id, school.name_x, school.region, school.region.name, school.province, school.cityhall, school.division, school.citymuni, school.district, school.legdistrict, school.type, school.abbrev, school.previousname, school.mother.id, school.address, school.established, school.classification, school.classification2, school.curricularclass, school.organization, school.cityincome, school.cityclass, school.urban, school.name_y, school.enrollment, school.offering,  school.mooe , School ID, rooms.standard.academic, rooms.standard.unused, rooms.nonstandard.academic, rooms.nonstandard.unused, teachers.instructor, teachers.mobile, teachers.regular, teachers.sped, teacher.student, rooms.student, mooe.student, teacher.mooe, rooms.mooe, student.mooe]\n",
       "Index: []\n",
       "\n",
       "[0 rows x 42 columns]"
      ]
     },
     "execution_count": 34,
     "metadata": {},
     "output_type": "execute_result"
    }
   ],
   "source": [
    "school_merged3[ school_merged3[cols[38]] == np.inf]"
   ]
  },
  {
   "cell_type": "code",
   "execution_count": 35,
   "metadata": {},
   "outputs": [
    {
     "data": {
      "text/html": [
       "<div>\n",
       "<style scoped>\n",
       "    .dataframe tbody tr th:only-of-type {\n",
       "        vertical-align: middle;\n",
       "    }\n",
       "\n",
       "    .dataframe tbody tr th {\n",
       "        vertical-align: top;\n",
       "    }\n",
       "\n",
       "    .dataframe thead th {\n",
       "        text-align: right;\n",
       "    }\n",
       "</style>\n",
       "<table border=\"1\" class=\"dataframe\">\n",
       "  <thead>\n",
       "    <tr style=\"text-align: right;\">\n",
       "      <th></th>\n",
       "      <th>school.id</th>\n",
       "      <th>school.name_x</th>\n",
       "      <th>school.region</th>\n",
       "      <th>school.region.name</th>\n",
       "      <th>school.province</th>\n",
       "      <th>school.cityhall</th>\n",
       "      <th>school.division</th>\n",
       "      <th>school.citymuni</th>\n",
       "      <th>school.district</th>\n",
       "      <th>school.legdistrict</th>\n",
       "      <th>...</th>\n",
       "      <th>teachers.instructor</th>\n",
       "      <th>teachers.mobile</th>\n",
       "      <th>teachers.regular</th>\n",
       "      <th>teachers.sped</th>\n",
       "      <th>teacher.student</th>\n",
       "      <th>rooms.student</th>\n",
       "      <th>mooe.student</th>\n",
       "      <th>teacher.mooe</th>\n",
       "      <th>rooms.mooe</th>\n",
       "      <th>student.mooe</th>\n",
       "    </tr>\n",
       "  </thead>\n",
       "  <tbody>\n",
       "  </tbody>\n",
       "</table>\n",
       "<p>0 rows × 42 columns</p>\n",
       "</div>"
      ],
      "text/plain": [
       "Empty DataFrame\n",
       "Columns: [school.id, school.name_x, school.region, school.region.name, school.province, school.cityhall, school.division, school.citymuni, school.district, school.legdistrict, school.type, school.abbrev, school.previousname, school.mother.id, school.address, school.established, school.classification, school.classification2, school.curricularclass, school.organization, school.cityincome, school.cityclass, school.urban, school.name_y, school.enrollment, school.offering,  school.mooe , School ID, rooms.standard.academic, rooms.standard.unused, rooms.nonstandard.academic, rooms.nonstandard.unused, teachers.instructor, teachers.mobile, teachers.regular, teachers.sped, teacher.student, rooms.student, mooe.student, teacher.mooe, rooms.mooe, student.mooe]\n",
       "Index: []\n",
       "\n",
       "[0 rows x 42 columns]"
      ]
     },
     "execution_count": 35,
     "metadata": {},
     "output_type": "execute_result"
    }
   ],
   "source": [
    "school_merged3[ school_merged3[cols[39]] == np.inf]"
   ]
  },
  {
   "cell_type": "code",
   "execution_count": 36,
   "metadata": {},
   "outputs": [
    {
     "data": {
      "text/html": [
       "<div>\n",
       "<style scoped>\n",
       "    .dataframe tbody tr th:only-of-type {\n",
       "        vertical-align: middle;\n",
       "    }\n",
       "\n",
       "    .dataframe tbody tr th {\n",
       "        vertical-align: top;\n",
       "    }\n",
       "\n",
       "    .dataframe thead th {\n",
       "        text-align: right;\n",
       "    }\n",
       "</style>\n",
       "<table border=\"1\" class=\"dataframe\">\n",
       "  <thead>\n",
       "    <tr style=\"text-align: right;\">\n",
       "      <th></th>\n",
       "      <th>school.id</th>\n",
       "      <th>school.name_x</th>\n",
       "      <th>school.region</th>\n",
       "      <th>school.region.name</th>\n",
       "      <th>school.province</th>\n",
       "      <th>school.cityhall</th>\n",
       "      <th>school.division</th>\n",
       "      <th>school.citymuni</th>\n",
       "      <th>school.district</th>\n",
       "      <th>school.legdistrict</th>\n",
       "      <th>...</th>\n",
       "      <th>teachers.instructor</th>\n",
       "      <th>teachers.mobile</th>\n",
       "      <th>teachers.regular</th>\n",
       "      <th>teachers.sped</th>\n",
       "      <th>teacher.student</th>\n",
       "      <th>rooms.student</th>\n",
       "      <th>mooe.student</th>\n",
       "      <th>teacher.mooe</th>\n",
       "      <th>rooms.mooe</th>\n",
       "      <th>student.mooe</th>\n",
       "    </tr>\n",
       "  </thead>\n",
       "  <tbody>\n",
       "  </tbody>\n",
       "</table>\n",
       "<p>0 rows × 42 columns</p>\n",
       "</div>"
      ],
      "text/plain": [
       "Empty DataFrame\n",
       "Columns: [school.id, school.name_x, school.region, school.region.name, school.province, school.cityhall, school.division, school.citymuni, school.district, school.legdistrict, school.type, school.abbrev, school.previousname, school.mother.id, school.address, school.established, school.classification, school.classification2, school.curricularclass, school.organization, school.cityincome, school.cityclass, school.urban, school.name_y, school.enrollment, school.offering,  school.mooe , School ID, rooms.standard.academic, rooms.standard.unused, rooms.nonstandard.academic, rooms.nonstandard.unused, teachers.instructor, teachers.mobile, teachers.regular, teachers.sped, teacher.student, rooms.student, mooe.student, teacher.mooe, rooms.mooe, student.mooe]\n",
       "Index: []\n",
       "\n",
       "[0 rows x 42 columns]"
      ]
     },
     "execution_count": 36,
     "metadata": {},
     "output_type": "execute_result"
    }
   ],
   "source": [
    "school_merged3[ school_merged3[cols[40]] == np.inf]"
   ]
  },
  {
   "cell_type": "code",
   "execution_count": 37,
   "metadata": {},
   "outputs": [
    {
     "data": {
      "text/html": [
       "<div>\n",
       "<style scoped>\n",
       "    .dataframe tbody tr th:only-of-type {\n",
       "        vertical-align: middle;\n",
       "    }\n",
       "\n",
       "    .dataframe tbody tr th {\n",
       "        vertical-align: top;\n",
       "    }\n",
       "\n",
       "    .dataframe thead th {\n",
       "        text-align: right;\n",
       "    }\n",
       "</style>\n",
       "<table border=\"1\" class=\"dataframe\">\n",
       "  <thead>\n",
       "    <tr style=\"text-align: right;\">\n",
       "      <th></th>\n",
       "      <th>school.id</th>\n",
       "      <th>school.name_x</th>\n",
       "      <th>school.region</th>\n",
       "      <th>school.region.name</th>\n",
       "      <th>school.province</th>\n",
       "      <th>school.cityhall</th>\n",
       "      <th>school.division</th>\n",
       "      <th>school.citymuni</th>\n",
       "      <th>school.district</th>\n",
       "      <th>school.legdistrict</th>\n",
       "      <th>...</th>\n",
       "      <th>teachers.instructor</th>\n",
       "      <th>teachers.mobile</th>\n",
       "      <th>teachers.regular</th>\n",
       "      <th>teachers.sped</th>\n",
       "      <th>teacher.student</th>\n",
       "      <th>rooms.student</th>\n",
       "      <th>mooe.student</th>\n",
       "      <th>teacher.mooe</th>\n",
       "      <th>rooms.mooe</th>\n",
       "      <th>student.mooe</th>\n",
       "    </tr>\n",
       "  </thead>\n",
       "  <tbody>\n",
       "  </tbody>\n",
       "</table>\n",
       "<p>0 rows × 42 columns</p>\n",
       "</div>"
      ],
      "text/plain": [
       "Empty DataFrame\n",
       "Columns: [school.id, school.name_x, school.region, school.region.name, school.province, school.cityhall, school.division, school.citymuni, school.district, school.legdistrict, school.type, school.abbrev, school.previousname, school.mother.id, school.address, school.established, school.classification, school.classification2, school.curricularclass, school.organization, school.cityincome, school.cityclass, school.urban, school.name_y, school.enrollment, school.offering,  school.mooe , School ID, rooms.standard.academic, rooms.standard.unused, rooms.nonstandard.academic, rooms.nonstandard.unused, teachers.instructor, teachers.mobile, teachers.regular, teachers.sped, teacher.student, rooms.student, mooe.student, teacher.mooe, rooms.mooe, student.mooe]\n",
       "Index: []\n",
       "\n",
       "[0 rows x 42 columns]"
      ]
     },
     "execution_count": 37,
     "metadata": {},
     "output_type": "execute_result"
    }
   ],
   "source": [
    "school_merged3[ school_merged3[cols[41]] == np.inf]"
   ]
  },
  {
   "cell_type": "code",
   "execution_count": 38,
   "metadata": {},
   "outputs": [
    {
     "data": {
      "text/html": [
       "<div>\n",
       "<style scoped>\n",
       "    .dataframe tbody tr th:only-of-type {\n",
       "        vertical-align: middle;\n",
       "    }\n",
       "\n",
       "    .dataframe tbody tr th {\n",
       "        vertical-align: top;\n",
       "    }\n",
       "\n",
       "    .dataframe thead th {\n",
       "        text-align: right;\n",
       "    }\n",
       "</style>\n",
       "<table border=\"1\" class=\"dataframe\">\n",
       "  <thead>\n",
       "    <tr style=\"text-align: right;\">\n",
       "      <th></th>\n",
       "      <th>school.id</th>\n",
       "      <th>school.mother.id</th>\n",
       "      <th>school.enrollment</th>\n",
       "      <th>school.mooe</th>\n",
       "      <th>School ID</th>\n",
       "      <th>rooms.standard.academic</th>\n",
       "      <th>rooms.standard.unused</th>\n",
       "      <th>rooms.nonstandard.academic</th>\n",
       "      <th>rooms.nonstandard.unused</th>\n",
       "      <th>teachers.instructor</th>\n",
       "      <th>teachers.mobile</th>\n",
       "      <th>teachers.regular</th>\n",
       "      <th>teachers.sped</th>\n",
       "      <th>teacher.student</th>\n",
       "      <th>rooms.student</th>\n",
       "      <th>mooe.student</th>\n",
       "      <th>teacher.mooe</th>\n",
       "      <th>rooms.mooe</th>\n",
       "      <th>student.mooe</th>\n",
       "    </tr>\n",
       "  </thead>\n",
       "  <tbody>\n",
       "    <tr>\n",
       "      <th>count</th>\n",
       "      <td>44023.000000</td>\n",
       "      <td>44016.000000</td>\n",
       "      <td>44023.000000</td>\n",
       "      <td>4.402300e+04</td>\n",
       "      <td>43804.000000</td>\n",
       "      <td>43804.000000</td>\n",
       "      <td>43804.000000</td>\n",
       "      <td>43800.000000</td>\n",
       "      <td>43800.000000</td>\n",
       "      <td>42521.000000</td>\n",
       "      <td>42521.000000</td>\n",
       "      <td>42521.000000</td>\n",
       "      <td>42521.000000</td>\n",
       "      <td>42521.000000</td>\n",
       "      <td>43804.000000</td>\n",
       "      <td>44023.000000</td>\n",
       "      <td>42521.000000</td>\n",
       "      <td>43804.000000</td>\n",
       "      <td>44023.000000</td>\n",
       "    </tr>\n",
       "    <tr>\n",
       "      <th>mean</th>\n",
       "      <td>153170.502669</td>\n",
       "      <td>152694.474782</td>\n",
       "      <td>458.245417</td>\n",
       "      <td>3.050145e+05</td>\n",
       "      <td>152555.472035</td>\n",
       "      <td>8.987079</td>\n",
       "      <td>0.150352</td>\n",
       "      <td>0.231598</td>\n",
       "      <td>0.003333</td>\n",
       "      <td>0.002516</td>\n",
       "      <td>1.004257</td>\n",
       "      <td>11.354954</td>\n",
       "      <td>0.048188</td>\n",
       "      <td>0.028053</td>\n",
       "      <td>0.026150</td>\n",
       "      <td>844.828937</td>\n",
       "      <td>0.000037</td>\n",
       "      <td>0.000034</td>\n",
       "      <td>0.001452</td>\n",
       "    </tr>\n",
       "    <tr>\n",
       "      <th>std</th>\n",
       "      <td>71946.952543</td>\n",
       "      <td>71534.290477</td>\n",
       "      <td>699.275000</td>\n",
       "      <td>4.851033e+05</td>\n",
       "      <td>71460.304770</td>\n",
       "      <td>9.964825</td>\n",
       "      <td>0.700201</td>\n",
       "      <td>1.120073</td>\n",
       "      <td>0.081862</td>\n",
       "      <td>0.106991</td>\n",
       "      <td>2.657460</td>\n",
       "      <td>17.459518</td>\n",
       "      <td>0.743461</td>\n",
       "      <td>0.015076</td>\n",
       "      <td>0.015278</td>\n",
       "      <td>634.701197</td>\n",
       "      <td>0.000012</td>\n",
       "      <td>0.000014</td>\n",
       "      <td>0.000542</td>\n",
       "    </tr>\n",
       "    <tr>\n",
       "      <th>min</th>\n",
       "      <td>100001.000000</td>\n",
       "      <td>100001.000000</td>\n",
       "      <td>3.000000</td>\n",
       "      <td>4.200000e+04</td>\n",
       "      <td>100001.000000</td>\n",
       "      <td>0.000000</td>\n",
       "      <td>0.000000</td>\n",
       "      <td>0.000000</td>\n",
       "      <td>0.000000</td>\n",
       "      <td>0.000000</td>\n",
       "      <td>0.000000</td>\n",
       "      <td>0.000000</td>\n",
       "      <td>0.000000</td>\n",
       "      <td>0.000000</td>\n",
       "      <td>0.000000</td>\n",
       "      <td>172.376874</td>\n",
       "      <td>0.000000</td>\n",
       "      <td>0.000000</td>\n",
       "      <td>0.000025</td>\n",
       "    </tr>\n",
       "    <tr>\n",
       "      <th>25%</th>\n",
       "      <td>111119.500000</td>\n",
       "      <td>111017.750000</td>\n",
       "      <td>144.000000</td>\n",
       "      <td>1.160000e+05</td>\n",
       "      <td>111061.750000</td>\n",
       "      <td>4.000000</td>\n",
       "      <td>0.000000</td>\n",
       "      <td>0.000000</td>\n",
       "      <td>0.000000</td>\n",
       "      <td>0.000000</td>\n",
       "      <td>0.000000</td>\n",
       "      <td>4.000000</td>\n",
       "      <td>0.000000</td>\n",
       "      <td>0.020513</td>\n",
       "      <td>0.018315</td>\n",
       "      <td>540.242061</td>\n",
       "      <td>0.000029</td>\n",
       "      <td>0.000023</td>\n",
       "      <td>0.001034</td>\n",
       "    </tr>\n",
       "    <tr>\n",
       "      <th>50%</th>\n",
       "      <td>122237.000000</td>\n",
       "      <td>122111.500000</td>\n",
       "      <td>249.000000</td>\n",
       "      <td>1.610000e+05</td>\n",
       "      <td>122130.500000</td>\n",
       "      <td>6.000000</td>\n",
       "      <td>0.000000</td>\n",
       "      <td>0.000000</td>\n",
       "      <td>0.000000</td>\n",
       "      <td>0.000000</td>\n",
       "      <td>0.000000</td>\n",
       "      <td>6.000000</td>\n",
       "      <td>0.000000</td>\n",
       "      <td>0.025532</td>\n",
       "      <td>0.023873</td>\n",
       "      <td>689.984102</td>\n",
       "      <td>0.000038</td>\n",
       "      <td>0.000037</td>\n",
       "      <td>0.001449</td>\n",
       "    </tr>\n",
       "    <tr>\n",
       "      <th>75%</th>\n",
       "      <td>135481.500000</td>\n",
       "      <td>135308.250000</td>\n",
       "      <td>469.000000</td>\n",
       "      <td>2.920000e+05</td>\n",
       "      <td>135306.250000</td>\n",
       "      <td>10.000000</td>\n",
       "      <td>0.000000</td>\n",
       "      <td>0.000000</td>\n",
       "      <td>0.000000</td>\n",
       "      <td>0.000000</td>\n",
       "      <td>1.000000</td>\n",
       "      <td>12.000000</td>\n",
       "      <td>0.000000</td>\n",
       "      <td>0.032609</td>\n",
       "      <td>0.031056</td>\n",
       "      <td>966.961640</td>\n",
       "      <td>0.000046</td>\n",
       "      <td>0.000045</td>\n",
       "      <td>0.001851</td>\n",
       "    </tr>\n",
       "    <tr>\n",
       "      <th>max</th>\n",
       "      <td>356059.000000</td>\n",
       "      <td>325902.000000</td>\n",
       "      <td>12613.000000</td>\n",
       "      <td>1.121800e+07</td>\n",
       "      <td>356059.000000</td>\n",
       "      <td>187.000000</td>\n",
       "      <td>15.000000</td>\n",
       "      <td>74.000000</td>\n",
       "      <td>7.000000</td>\n",
       "      <td>10.000000</td>\n",
       "      <td>104.000000</td>\n",
       "      <td>472.000000</td>\n",
       "      <td>89.000000</td>\n",
       "      <td>1.142857</td>\n",
       "      <td>0.714286</td>\n",
       "      <td>39857.142857</td>\n",
       "      <td>0.000257</td>\n",
       "      <td>0.000130</td>\n",
       "      <td>0.005801</td>\n",
       "    </tr>\n",
       "  </tbody>\n",
       "</table>\n",
       "</div>"
      ],
      "text/plain": [
       "           school.id  school.mother.id  school.enrollment   school.mooe   \\\n",
       "count   44023.000000      44016.000000       44023.000000   4.402300e+04   \n",
       "mean   153170.502669     152694.474782         458.245417   3.050145e+05   \n",
       "std     71946.952543      71534.290477         699.275000   4.851033e+05   \n",
       "min    100001.000000     100001.000000           3.000000   4.200000e+04   \n",
       "25%    111119.500000     111017.750000         144.000000   1.160000e+05   \n",
       "50%    122237.000000     122111.500000         249.000000   1.610000e+05   \n",
       "75%    135481.500000     135308.250000         469.000000   2.920000e+05   \n",
       "max    356059.000000     325902.000000       12613.000000   1.121800e+07   \n",
       "\n",
       "           School ID  rooms.standard.academic  rooms.standard.unused  \\\n",
       "count   43804.000000             43804.000000           43804.000000   \n",
       "mean   152555.472035                 8.987079               0.150352   \n",
       "std     71460.304770                 9.964825               0.700201   \n",
       "min    100001.000000                 0.000000               0.000000   \n",
       "25%    111061.750000                 4.000000               0.000000   \n",
       "50%    122130.500000                 6.000000               0.000000   \n",
       "75%    135306.250000                10.000000               0.000000   \n",
       "max    356059.000000               187.000000              15.000000   \n",
       "\n",
       "       rooms.nonstandard.academic  rooms.nonstandard.unused  \\\n",
       "count                43800.000000              43800.000000   \n",
       "mean                     0.231598                  0.003333   \n",
       "std                      1.120073                  0.081862   \n",
       "min                      0.000000                  0.000000   \n",
       "25%                      0.000000                  0.000000   \n",
       "50%                      0.000000                  0.000000   \n",
       "75%                      0.000000                  0.000000   \n",
       "max                     74.000000                  7.000000   \n",
       "\n",
       "       teachers.instructor  teachers.mobile  teachers.regular  teachers.sped  \\\n",
       "count         42521.000000     42521.000000      42521.000000   42521.000000   \n",
       "mean              0.002516         1.004257         11.354954       0.048188   \n",
       "std               0.106991         2.657460         17.459518       0.743461   \n",
       "min               0.000000         0.000000          0.000000       0.000000   \n",
       "25%               0.000000         0.000000          4.000000       0.000000   \n",
       "50%               0.000000         0.000000          6.000000       0.000000   \n",
       "75%               0.000000         1.000000         12.000000       0.000000   \n",
       "max              10.000000       104.000000        472.000000      89.000000   \n",
       "\n",
       "       teacher.student  rooms.student  mooe.student  teacher.mooe  \\\n",
       "count     42521.000000   43804.000000  44023.000000  42521.000000   \n",
       "mean          0.028053       0.026150    844.828937      0.000037   \n",
       "std           0.015076       0.015278    634.701197      0.000012   \n",
       "min           0.000000       0.000000    172.376874      0.000000   \n",
       "25%           0.020513       0.018315    540.242061      0.000029   \n",
       "50%           0.025532       0.023873    689.984102      0.000038   \n",
       "75%           0.032609       0.031056    966.961640      0.000046   \n",
       "max           1.142857       0.714286  39857.142857      0.000257   \n",
       "\n",
       "         rooms.mooe  student.mooe  \n",
       "count  43804.000000  44023.000000  \n",
       "mean       0.000034      0.001452  \n",
       "std        0.000014      0.000542  \n",
       "min        0.000000      0.000025  \n",
       "25%        0.000023      0.001034  \n",
       "50%        0.000037      0.001449  \n",
       "75%        0.000045      0.001851  \n",
       "max        0.000130      0.005801  "
      ]
     },
     "execution_count": 38,
     "metadata": {},
     "output_type": "execute_result"
    }
   ],
   "source": [
    "school_merged3.describe()"
   ]
  },
  {
   "cell_type": "code",
   "execution_count": 39,
   "metadata": {},
   "outputs": [],
   "source": [
    "school_merged3.drop( labels='student.mooe' , axis=1, inplace=True)"
   ]
  },
  {
   "cell_type": "code",
   "execution_count": 40,
   "metadata": {},
   "outputs": [],
   "source": [
    "school_merged3['teacher.student'] = (school_merged3['teacher.student'])**-1"
   ]
  },
  {
   "cell_type": "code",
   "execution_count": 41,
   "metadata": {},
   "outputs": [],
   "source": [
    "school_merged3['rooms.student'] = (school_merged3['rooms.student'])**-1"
   ]
  },
  {
   "cell_type": "code",
   "execution_count": 42,
   "metadata": {},
   "outputs": [],
   "source": [
    "school_merged3['teacher.mooe'] = (school_merged3['teacher.mooe'])**-1"
   ]
  },
  {
   "cell_type": "code",
   "execution_count": 43,
   "metadata": {},
   "outputs": [],
   "source": [
    "school_merged3['rooms.mooe'] = (school_merged3['rooms.mooe'])**-1"
   ]
  },
  {
   "cell_type": "code",
   "execution_count": 44,
   "metadata": {
    "scrolled": true
   },
   "outputs": [
    {
     "data": {
      "text/html": [
       "<div>\n",
       "<style scoped>\n",
       "    .dataframe tbody tr th:only-of-type {\n",
       "        vertical-align: middle;\n",
       "    }\n",
       "\n",
       "    .dataframe tbody tr th {\n",
       "        vertical-align: top;\n",
       "    }\n",
       "\n",
       "    .dataframe thead th {\n",
       "        text-align: right;\n",
       "    }\n",
       "</style>\n",
       "<table border=\"1\" class=\"dataframe\">\n",
       "  <thead>\n",
       "    <tr style=\"text-align: right;\">\n",
       "      <th></th>\n",
       "      <th>school.id</th>\n",
       "      <th>school.mother.id</th>\n",
       "      <th>school.enrollment</th>\n",
       "      <th>school.mooe</th>\n",
       "      <th>School ID</th>\n",
       "      <th>rooms.standard.academic</th>\n",
       "      <th>rooms.standard.unused</th>\n",
       "      <th>rooms.nonstandard.academic</th>\n",
       "      <th>rooms.nonstandard.unused</th>\n",
       "      <th>teachers.instructor</th>\n",
       "      <th>teachers.mobile</th>\n",
       "      <th>teachers.regular</th>\n",
       "      <th>teachers.sped</th>\n",
       "      <th>teacher.student</th>\n",
       "      <th>rooms.student</th>\n",
       "      <th>mooe.student</th>\n",
       "      <th>teacher.mooe</th>\n",
       "      <th>rooms.mooe</th>\n",
       "    </tr>\n",
       "  </thead>\n",
       "  <tbody>\n",
       "    <tr>\n",
       "      <th>count</th>\n",
       "      <td>44023.000000</td>\n",
       "      <td>44016.000000</td>\n",
       "      <td>44023.000000</td>\n",
       "      <td>4.402300e+04</td>\n",
       "      <td>43804.000000</td>\n",
       "      <td>43804.000000</td>\n",
       "      <td>43804.000000</td>\n",
       "      <td>43800.000000</td>\n",
       "      <td>43800.000000</td>\n",
       "      <td>42521.000000</td>\n",
       "      <td>42521.000000</td>\n",
       "      <td>42521.000000</td>\n",
       "      <td>42521.000000</td>\n",
       "      <td>4.252100e+04</td>\n",
       "      <td>4.380400e+04</td>\n",
       "      <td>44023.000000</td>\n",
       "      <td>4.252100e+04</td>\n",
       "      <td>4.380400e+04</td>\n",
       "    </tr>\n",
       "    <tr>\n",
       "      <th>mean</th>\n",
       "      <td>153170.502669</td>\n",
       "      <td>152694.474782</td>\n",
       "      <td>458.245417</td>\n",
       "      <td>3.050145e+05</td>\n",
       "      <td>152555.472035</td>\n",
       "      <td>8.987079</td>\n",
       "      <td>0.150352</td>\n",
       "      <td>0.231598</td>\n",
       "      <td>0.003333</td>\n",
       "      <td>0.002516</td>\n",
       "      <td>1.004257</td>\n",
       "      <td>11.354954</td>\n",
       "      <td>0.048188</td>\n",
       "      <td>inf</td>\n",
       "      <td>inf</td>\n",
       "      <td>844.828937</td>\n",
       "      <td>inf</td>\n",
       "      <td>inf</td>\n",
       "    </tr>\n",
       "    <tr>\n",
       "      <th>std</th>\n",
       "      <td>71946.952543</td>\n",
       "      <td>71534.290477</td>\n",
       "      <td>699.275000</td>\n",
       "      <td>4.851033e+05</td>\n",
       "      <td>71460.304770</td>\n",
       "      <td>9.964825</td>\n",
       "      <td>0.700201</td>\n",
       "      <td>1.120073</td>\n",
       "      <td>0.081862</td>\n",
       "      <td>0.106991</td>\n",
       "      <td>2.657460</td>\n",
       "      <td>17.459518</td>\n",
       "      <td>0.743461</td>\n",
       "      <td>NaN</td>\n",
       "      <td>NaN</td>\n",
       "      <td>634.701197</td>\n",
       "      <td>NaN</td>\n",
       "      <td>NaN</td>\n",
       "    </tr>\n",
       "    <tr>\n",
       "      <th>min</th>\n",
       "      <td>100001.000000</td>\n",
       "      <td>100001.000000</td>\n",
       "      <td>3.000000</td>\n",
       "      <td>4.200000e+04</td>\n",
       "      <td>100001.000000</td>\n",
       "      <td>0.000000</td>\n",
       "      <td>0.000000</td>\n",
       "      <td>0.000000</td>\n",
       "      <td>0.000000</td>\n",
       "      <td>0.000000</td>\n",
       "      <td>0.000000</td>\n",
       "      <td>0.000000</td>\n",
       "      <td>0.000000</td>\n",
       "      <td>8.750000e-01</td>\n",
       "      <td>1.400000e+00</td>\n",
       "      <td>172.376874</td>\n",
       "      <td>3.888889e+03</td>\n",
       "      <td>7.710526e+03</td>\n",
       "    </tr>\n",
       "    <tr>\n",
       "      <th>25%</th>\n",
       "      <td>111119.500000</td>\n",
       "      <td>111017.750000</td>\n",
       "      <td>144.000000</td>\n",
       "      <td>1.160000e+05</td>\n",
       "      <td>111061.750000</td>\n",
       "      <td>4.000000</td>\n",
       "      <td>0.000000</td>\n",
       "      <td>0.000000</td>\n",
       "      <td>0.000000</td>\n",
       "      <td>0.000000</td>\n",
       "      <td>0.000000</td>\n",
       "      <td>4.000000</td>\n",
       "      <td>0.000000</td>\n",
       "      <td>3.066667e+01</td>\n",
       "      <td>3.220000e+01</td>\n",
       "      <td>540.242061</td>\n",
       "      <td>2.188889e+04</td>\n",
       "      <td>2.216667e+04</td>\n",
       "    </tr>\n",
       "    <tr>\n",
       "      <th>50%</th>\n",
       "      <td>122237.000000</td>\n",
       "      <td>122111.500000</td>\n",
       "      <td>249.000000</td>\n",
       "      <td>1.610000e+05</td>\n",
       "      <td>122130.500000</td>\n",
       "      <td>6.000000</td>\n",
       "      <td>0.000000</td>\n",
       "      <td>0.000000</td>\n",
       "      <td>0.000000</td>\n",
       "      <td>0.000000</td>\n",
       "      <td>0.000000</td>\n",
       "      <td>6.000000</td>\n",
       "      <td>0.000000</td>\n",
       "      <td>3.916667e+01</td>\n",
       "      <td>4.188889e+01</td>\n",
       "      <td>689.984102</td>\n",
       "      <td>2.600000e+04</td>\n",
       "      <td>2.687500e+04</td>\n",
       "    </tr>\n",
       "    <tr>\n",
       "      <th>75%</th>\n",
       "      <td>135481.500000</td>\n",
       "      <td>135308.250000</td>\n",
       "      <td>469.000000</td>\n",
       "      <td>2.920000e+05</td>\n",
       "      <td>135306.250000</td>\n",
       "      <td>10.000000</td>\n",
       "      <td>0.000000</td>\n",
       "      <td>0.000000</td>\n",
       "      <td>0.000000</td>\n",
       "      <td>0.000000</td>\n",
       "      <td>1.000000</td>\n",
       "      <td>12.000000</td>\n",
       "      <td>0.000000</td>\n",
       "      <td>4.875000e+01</td>\n",
       "      <td>5.460000e+01</td>\n",
       "      <td>966.961640</td>\n",
       "      <td>3.433333e+04</td>\n",
       "      <td>4.383333e+04</td>\n",
       "    </tr>\n",
       "    <tr>\n",
       "      <th>max</th>\n",
       "      <td>356059.000000</td>\n",
       "      <td>325902.000000</td>\n",
       "      <td>12613.000000</td>\n",
       "      <td>1.121800e+07</td>\n",
       "      <td>356059.000000</td>\n",
       "      <td>187.000000</td>\n",
       "      <td>15.000000</td>\n",
       "      <td>74.000000</td>\n",
       "      <td>7.000000</td>\n",
       "      <td>10.000000</td>\n",
       "      <td>104.000000</td>\n",
       "      <td>472.000000</td>\n",
       "      <td>89.000000</td>\n",
       "      <td>inf</td>\n",
       "      <td>inf</td>\n",
       "      <td>39857.142857</td>\n",
       "      <td>inf</td>\n",
       "      <td>inf</td>\n",
       "    </tr>\n",
       "  </tbody>\n",
       "</table>\n",
       "</div>"
      ],
      "text/plain": [
       "           school.id  school.mother.id  school.enrollment   school.mooe   \\\n",
       "count   44023.000000      44016.000000       44023.000000   4.402300e+04   \n",
       "mean   153170.502669     152694.474782         458.245417   3.050145e+05   \n",
       "std     71946.952543      71534.290477         699.275000   4.851033e+05   \n",
       "min    100001.000000     100001.000000           3.000000   4.200000e+04   \n",
       "25%    111119.500000     111017.750000         144.000000   1.160000e+05   \n",
       "50%    122237.000000     122111.500000         249.000000   1.610000e+05   \n",
       "75%    135481.500000     135308.250000         469.000000   2.920000e+05   \n",
       "max    356059.000000     325902.000000       12613.000000   1.121800e+07   \n",
       "\n",
       "           School ID  rooms.standard.academic  rooms.standard.unused  \\\n",
       "count   43804.000000             43804.000000           43804.000000   \n",
       "mean   152555.472035                 8.987079               0.150352   \n",
       "std     71460.304770                 9.964825               0.700201   \n",
       "min    100001.000000                 0.000000               0.000000   \n",
       "25%    111061.750000                 4.000000               0.000000   \n",
       "50%    122130.500000                 6.000000               0.000000   \n",
       "75%    135306.250000                10.000000               0.000000   \n",
       "max    356059.000000               187.000000              15.000000   \n",
       "\n",
       "       rooms.nonstandard.academic  rooms.nonstandard.unused  \\\n",
       "count                43800.000000              43800.000000   \n",
       "mean                     0.231598                  0.003333   \n",
       "std                      1.120073                  0.081862   \n",
       "min                      0.000000                  0.000000   \n",
       "25%                      0.000000                  0.000000   \n",
       "50%                      0.000000                  0.000000   \n",
       "75%                      0.000000                  0.000000   \n",
       "max                     74.000000                  7.000000   \n",
       "\n",
       "       teachers.instructor  teachers.mobile  teachers.regular  teachers.sped  \\\n",
       "count         42521.000000     42521.000000      42521.000000   42521.000000   \n",
       "mean              0.002516         1.004257         11.354954       0.048188   \n",
       "std               0.106991         2.657460         17.459518       0.743461   \n",
       "min               0.000000         0.000000          0.000000       0.000000   \n",
       "25%               0.000000         0.000000          4.000000       0.000000   \n",
       "50%               0.000000         0.000000          6.000000       0.000000   \n",
       "75%               0.000000         1.000000         12.000000       0.000000   \n",
       "max              10.000000       104.000000        472.000000      89.000000   \n",
       "\n",
       "       teacher.student  rooms.student  mooe.student  teacher.mooe  \\\n",
       "count     4.252100e+04   4.380400e+04  44023.000000  4.252100e+04   \n",
       "mean               inf            inf    844.828937           inf   \n",
       "std                NaN            NaN    634.701197           NaN   \n",
       "min       8.750000e-01   1.400000e+00    172.376874  3.888889e+03   \n",
       "25%       3.066667e+01   3.220000e+01    540.242061  2.188889e+04   \n",
       "50%       3.916667e+01   4.188889e+01    689.984102  2.600000e+04   \n",
       "75%       4.875000e+01   5.460000e+01    966.961640  3.433333e+04   \n",
       "max                inf            inf  39857.142857           inf   \n",
       "\n",
       "         rooms.mooe  \n",
       "count  4.380400e+04  \n",
       "mean            inf  \n",
       "std             NaN  \n",
       "min    7.710526e+03  \n",
       "25%    2.216667e+04  \n",
       "50%    2.687500e+04  \n",
       "75%    4.383333e+04  \n",
       "max             inf  "
      ]
     },
     "execution_count": 44,
     "metadata": {},
     "output_type": "execute_result"
    }
   ],
   "source": [
    "school_merged3.describe()"
   ]
  },
  {
   "cell_type": "code",
   "execution_count": 45,
   "metadata": {},
   "outputs": [
    {
     "data": {
      "text/plain": [
       "Index(['school.id', 'school.name_x', 'school.region', 'school.region.name',\n",
       "       'school.province', 'school.cityhall', 'school.division',\n",
       "       'school.citymuni', 'school.district', 'school.legdistrict',\n",
       "       'school.type', 'school.abbrev', 'school.previousname',\n",
       "       'school.mother.id', 'school.address', 'school.established',\n",
       "       'school.classification', 'school.classification2',\n",
       "       'school.curricularclass', 'school.organization', 'school.cityincome',\n",
       "       'school.cityclass', 'school.urban', 'school.name_y',\n",
       "       'school.enrollment', 'school.offering', ' school.mooe ', 'School ID',\n",
       "       'rooms.standard.academic', 'rooms.standard.unused',\n",
       "       'rooms.nonstandard.academic', 'rooms.nonstandard.unused',\n",
       "       'teachers.instructor', 'teachers.mobile', 'teachers.regular',\n",
       "       'teachers.sped', 'teacher.student', 'rooms.student', 'mooe.student',\n",
       "       'teacher.mooe', 'rooms.mooe'],\n",
       "      dtype='object')"
      ]
     },
     "execution_count": 45,
     "metadata": {},
     "output_type": "execute_result"
    }
   ],
   "source": [
    "cols = school_merged3.columns\n",
    "cols"
   ]
  },
  {
   "cell_type": "code",
   "execution_count": 46,
   "metadata": {},
   "outputs": [
    {
     "name": "stdout",
     "output_type": "stream",
     "text": [
      "<class 'pandas.core.frame.DataFrame'>\n",
      "Int64Index: 44023 entries, 0 to 44024\n",
      "Data columns (total 41 columns):\n",
      " #   Column                      Non-Null Count  Dtype  \n",
      "---  ------                      --------------  -----  \n",
      " 0   school.id                   44023 non-null  int64  \n",
      " 1   school.name_x               44023 non-null  object \n",
      " 2   school.region               44023 non-null  object \n",
      " 3   school.region.name          44023 non-null  object \n",
      " 4   school.province             44023 non-null  object \n",
      " 5   school.cityhall             44022 non-null  object \n",
      " 6   school.division             44023 non-null  object \n",
      " 7   school.citymuni             44023 non-null  object \n",
      " 8   school.district             44023 non-null  object \n",
      " 9   school.legdistrict          44023 non-null  object \n",
      " 10  school.type                 44023 non-null  object \n",
      " 11  school.abbrev               17461 non-null  object \n",
      " 12  school.previousname         39808 non-null  object \n",
      " 13  school.mother.id            44016 non-null  float64\n",
      " 14  school.address              42057 non-null  object \n",
      " 15  school.established          44014 non-null  object \n",
      " 16  school.classification       44023 non-null  object \n",
      " 17  school.classification2      44023 non-null  object \n",
      " 18  school.curricularclass      44023 non-null  object \n",
      " 19  school.organization         44023 non-null  object \n",
      " 20  school.cityincome           43210 non-null  object \n",
      " 21  school.cityclass            8081 non-null   object \n",
      " 22  school.urban                44020 non-null  object \n",
      " 23  school.name_y               44023 non-null  object \n",
      " 24  school.enrollment           44023 non-null  int64  \n",
      " 25  school.offering             44023 non-null  object \n",
      " 26   school.mooe                44023 non-null  float64\n",
      " 27  School ID                   43804 non-null  float64\n",
      " 28  rooms.standard.academic     43804 non-null  float64\n",
      " 29  rooms.standard.unused       43804 non-null  float64\n",
      " 30  rooms.nonstandard.academic  43800 non-null  float64\n",
      " 31  rooms.nonstandard.unused    43800 non-null  float64\n",
      " 32  teachers.instructor         42521 non-null  float64\n",
      " 33  teachers.mobile             42521 non-null  float64\n",
      " 34  teachers.regular            42521 non-null  float64\n",
      " 35  teachers.sped               42521 non-null  float64\n",
      " 36  teacher.student             42521 non-null  float64\n",
      " 37  rooms.student               43804 non-null  float64\n",
      " 38  mooe.student                44023 non-null  float64\n",
      " 39  teacher.mooe                42521 non-null  float64\n",
      " 40  rooms.mooe                  43804 non-null  float64\n",
      "dtypes: float64(16), int64(2), object(23)\n",
      "memory usage: 14.1+ MB\n"
     ]
    }
   ],
   "source": [
    "school_merged3.info()"
   ]
  },
  {
   "cell_type": "code",
   "execution_count": 47,
   "metadata": {
    "scrolled": true
   },
   "outputs": [
    {
     "data": {
      "text/html": [
       "<div>\n",
       "<style scoped>\n",
       "    .dataframe tbody tr th:only-of-type {\n",
       "        vertical-align: middle;\n",
       "    }\n",
       "\n",
       "    .dataframe tbody tr th {\n",
       "        vertical-align: top;\n",
       "    }\n",
       "\n",
       "    .dataframe thead th {\n",
       "        text-align: right;\n",
       "    }\n",
       "</style>\n",
       "<table border=\"1\" class=\"dataframe\">\n",
       "  <thead>\n",
       "    <tr style=\"text-align: right;\">\n",
       "      <th></th>\n",
       "      <th>school.id</th>\n",
       "      <th>school.name_x</th>\n",
       "      <th>school.region</th>\n",
       "      <th>school.region.name</th>\n",
       "      <th>school.province</th>\n",
       "      <th>school.cityhall</th>\n",
       "      <th>school.division</th>\n",
       "      <th>school.citymuni</th>\n",
       "      <th>school.district</th>\n",
       "      <th>school.legdistrict</th>\n",
       "      <th>...</th>\n",
       "      <th>rooms.nonstandard.unused</th>\n",
       "      <th>teachers.instructor</th>\n",
       "      <th>teachers.mobile</th>\n",
       "      <th>teachers.regular</th>\n",
       "      <th>teachers.sped</th>\n",
       "      <th>teacher.student</th>\n",
       "      <th>rooms.student</th>\n",
       "      <th>mooe.student</th>\n",
       "      <th>teacher.mooe</th>\n",
       "      <th>rooms.mooe</th>\n",
       "    </tr>\n",
       "  </thead>\n",
       "  <tbody>\n",
       "    <tr>\n",
       "      <th>263</th>\n",
       "      <td>100464</td>\n",
       "      <td>Bangaan PS</td>\n",
       "      <td>Region I</td>\n",
       "      <td>Ilocos Region</td>\n",
       "      <td>ILOCOS SUR</td>\n",
       "      <td>ILOCOS SUR</td>\n",
       "      <td>Ilocos Sur</td>\n",
       "      <td>CERVANTES</td>\n",
       "      <td>Cervantes-Quirino</td>\n",
       "      <td>2nd District</td>\n",
       "      <td>...</td>\n",
       "      <td>0.0</td>\n",
       "      <td>0.0</td>\n",
       "      <td>0.0</td>\n",
       "      <td>0.0</td>\n",
       "      <td>0.0</td>\n",
       "      <td>inf</td>\n",
       "      <td>16.000000</td>\n",
       "      <td>3125.000000</td>\n",
       "      <td>inf</td>\n",
       "      <td>5.000000e+04</td>\n",
       "    </tr>\n",
       "    <tr>\n",
       "      <th>279</th>\n",
       "      <td>150519</td>\n",
       "      <td>Banoen PS</td>\n",
       "      <td>Region I</td>\n",
       "      <td>Ilocos Region</td>\n",
       "      <td>ILOCOS SUR</td>\n",
       "      <td>ILOCOS SUR</td>\n",
       "      <td>Ilocos Sur</td>\n",
       "      <td>QUIRINO (ANGKAKI)</td>\n",
       "      <td>Cervantes-Quirino</td>\n",
       "      <td>2nd District</td>\n",
       "      <td>...</td>\n",
       "      <td>0.0</td>\n",
       "      <td>0.0</td>\n",
       "      <td>0.0</td>\n",
       "      <td>0.0</td>\n",
       "      <td>0.0</td>\n",
       "      <td>inf</td>\n",
       "      <td>11.000000</td>\n",
       "      <td>4181.818182</td>\n",
       "      <td>inf</td>\n",
       "      <td>4.600000e+04</td>\n",
       "    </tr>\n",
       "    <tr>\n",
       "      <th>414</th>\n",
       "      <td>150520</td>\n",
       "      <td>Bito PS</td>\n",
       "      <td>Region I</td>\n",
       "      <td>Ilocos Region</td>\n",
       "      <td>ILOCOS SUR</td>\n",
       "      <td>ILOCOS SUR</td>\n",
       "      <td>Ilocos Sur</td>\n",
       "      <td>SUYO</td>\n",
       "      <td>Suyo</td>\n",
       "      <td>2nd District</td>\n",
       "      <td>...</td>\n",
       "      <td>0.0</td>\n",
       "      <td>0.0</td>\n",
       "      <td>0.0</td>\n",
       "      <td>0.0</td>\n",
       "      <td>0.0</td>\n",
       "      <td>inf</td>\n",
       "      <td>inf</td>\n",
       "      <td>1696.969697</td>\n",
       "      <td>inf</td>\n",
       "      <td>inf</td>\n",
       "    </tr>\n",
       "    <tr>\n",
       "      <th>972</th>\n",
       "      <td>151009</td>\n",
       "      <td>EULOGIO CLARENCE M. DE GUZMAN Jr. ELEMENTARY S...</td>\n",
       "      <td>Region I</td>\n",
       "      <td>Ilocos Region</td>\n",
       "      <td>LA UNION</td>\n",
       "      <td>LA UNION</td>\n",
       "      <td>La Union</td>\n",
       "      <td>BAUANG</td>\n",
       "      <td>Bauang North</td>\n",
       "      <td>2nd District</td>\n",
       "      <td>...</td>\n",
       "      <td>NaN</td>\n",
       "      <td>0.0</td>\n",
       "      <td>0.0</td>\n",
       "      <td>0.0</td>\n",
       "      <td>0.0</td>\n",
       "      <td>inf</td>\n",
       "      <td>NaN</td>\n",
       "      <td>370.786517</td>\n",
       "      <td>inf</td>\n",
       "      <td>NaN</td>\n",
       "    </tr>\n",
       "    <tr>\n",
       "      <th>1409</th>\n",
       "      <td>101466</td>\n",
       "      <td>Maya PS</td>\n",
       "      <td>Region I</td>\n",
       "      <td>Ilocos Region</td>\n",
       "      <td>PANGASINAN</td>\n",
       "      <td>PANGASINAN</td>\n",
       "      <td>Pangasinan I, Lingayen</td>\n",
       "      <td>INFANTA</td>\n",
       "      <td>Infanta</td>\n",
       "      <td>1st District</td>\n",
       "      <td>...</td>\n",
       "      <td>0.0</td>\n",
       "      <td>0.0</td>\n",
       "      <td>1.0</td>\n",
       "      <td>0.0</td>\n",
       "      <td>0.0</td>\n",
       "      <td>inf</td>\n",
       "      <td>24.500000</td>\n",
       "      <td>1265.306122</td>\n",
       "      <td>inf</td>\n",
       "      <td>3.100000e+04</td>\n",
       "    </tr>\n",
       "    <tr>\n",
       "      <th>...</th>\n",
       "      <td>...</td>\n",
       "      <td>...</td>\n",
       "      <td>...</td>\n",
       "      <td>...</td>\n",
       "      <td>...</td>\n",
       "      <td>...</td>\n",
       "      <td>...</td>\n",
       "      <td>...</td>\n",
       "      <td>...</td>\n",
       "      <td>...</td>\n",
       "      <td>...</td>\n",
       "      <td>...</td>\n",
       "      <td>...</td>\n",
       "      <td>...</td>\n",
       "      <td>...</td>\n",
       "      <td>...</td>\n",
       "      <td>...</td>\n",
       "      <td>...</td>\n",
       "      <td>...</td>\n",
       "      <td>...</td>\n",
       "      <td>...</td>\n",
       "    </tr>\n",
       "    <tr>\n",
       "      <th>43775</th>\n",
       "      <td>319806</td>\n",
       "      <td>Addition Hills Integrated School</td>\n",
       "      <td>NCR</td>\n",
       "      <td>National Capital Region</td>\n",
       "      <td>NCR SECOND DISTRICT</td>\n",
       "      <td>CITY OF MANDALUYONG</td>\n",
       "      <td>Mandaluyong City</td>\n",
       "      <td>CITY OF MANDALUYONG</td>\n",
       "      <td>Mandaluyong City District II</td>\n",
       "      <td>Lone District</td>\n",
       "      <td>...</td>\n",
       "      <td>NaN</td>\n",
       "      <td>0.0</td>\n",
       "      <td>0.0</td>\n",
       "      <td>0.0</td>\n",
       "      <td>0.0</td>\n",
       "      <td>inf</td>\n",
       "      <td>NaN</td>\n",
       "      <td>4860.267315</td>\n",
       "      <td>inf</td>\n",
       "      <td>NaN</td>\n",
       "    </tr>\n",
       "    <tr>\n",
       "      <th>43804</th>\n",
       "      <td>319711</td>\n",
       "      <td>Caloocan National Science and Technology High ...</td>\n",
       "      <td>NCR</td>\n",
       "      <td>National Capital Region</td>\n",
       "      <td>NCR THIRD DISTRICT</td>\n",
       "      <td>KALOOKAN CITY</td>\n",
       "      <td>Caloocan City</td>\n",
       "      <td>KALOOKAN CITY</td>\n",
       "      <td>Caloocan North IV</td>\n",
       "      <td>1st District</td>\n",
       "      <td>...</td>\n",
       "      <td>0.0</td>\n",
       "      <td>0.0</td>\n",
       "      <td>0.0</td>\n",
       "      <td>0.0</td>\n",
       "      <td>0.0</td>\n",
       "      <td>inf</td>\n",
       "      <td>86.000000</td>\n",
       "      <td>776.162791</td>\n",
       "      <td>inf</td>\n",
       "      <td>6.675000e+04</td>\n",
       "    </tr>\n",
       "    <tr>\n",
       "      <th>43815</th>\n",
       "      <td>320505</td>\n",
       "      <td>Catmon IS</td>\n",
       "      <td>NCR</td>\n",
       "      <td>National Capital Region</td>\n",
       "      <td>NCR THIRD DISTRICT</td>\n",
       "      <td>CITY OF MALABON</td>\n",
       "      <td>Malabon City</td>\n",
       "      <td>CITY OF MALABON</td>\n",
       "      <td>Malabon District V</td>\n",
       "      <td>Lone District</td>\n",
       "      <td>...</td>\n",
       "      <td>0.0</td>\n",
       "      <td>0.0</td>\n",
       "      <td>0.0</td>\n",
       "      <td>0.0</td>\n",
       "      <td>0.0</td>\n",
       "      <td>inf</td>\n",
       "      <td>246.000000</td>\n",
       "      <td>653.116531</td>\n",
       "      <td>inf</td>\n",
       "      <td>1.606667e+05</td>\n",
       "    </tr>\n",
       "    <tr>\n",
       "      <th>44000</th>\n",
       "      <td>320305</td>\n",
       "      <td>T. S. Cruz High School</td>\n",
       "      <td>NCR</td>\n",
       "      <td>National Capital Region</td>\n",
       "      <td>NCR FOURTH DISTRICT</td>\n",
       "      <td>CITY OF LAS PIÑAS</td>\n",
       "      <td>Las Piñas City</td>\n",
       "      <td>CITY OF LAS PIÑAS</td>\n",
       "      <td>Las Piñas City II</td>\n",
       "      <td>Lone District</td>\n",
       "      <td>...</td>\n",
       "      <td>0.0</td>\n",
       "      <td>0.0</td>\n",
       "      <td>0.0</td>\n",
       "      <td>0.0</td>\n",
       "      <td>0.0</td>\n",
       "      <td>inf</td>\n",
       "      <td>100.176471</td>\n",
       "      <td>898.414563</td>\n",
       "      <td>inf</td>\n",
       "      <td>9.000000e+04</td>\n",
       "    </tr>\n",
       "    <tr>\n",
       "      <th>44009</th>\n",
       "      <td>320507</td>\n",
       "      <td>Tanong IS</td>\n",
       "      <td>NCR</td>\n",
       "      <td>National Capital Region</td>\n",
       "      <td>NCR THIRD DISTRICT</td>\n",
       "      <td>CITY OF MALABON</td>\n",
       "      <td>Malabon City</td>\n",
       "      <td>CITY OF MALABON</td>\n",
       "      <td>Malabon District II</td>\n",
       "      <td>Lone District</td>\n",
       "      <td>...</td>\n",
       "      <td>0.0</td>\n",
       "      <td>0.0</td>\n",
       "      <td>0.0</td>\n",
       "      <td>0.0</td>\n",
       "      <td>0.0</td>\n",
       "      <td>inf</td>\n",
       "      <td>142.500000</td>\n",
       "      <td>716.959064</td>\n",
       "      <td>inf</td>\n",
       "      <td>1.021667e+05</td>\n",
       "    </tr>\n",
       "  </tbody>\n",
       "</table>\n",
       "<p>695 rows × 41 columns</p>\n",
       "</div>"
      ],
      "text/plain": [
       "       school.id                                      school.name_x  \\\n",
       "263       100464                                         Bangaan PS   \n",
       "279       150519                                          Banoen PS   \n",
       "414       150520                                            Bito PS   \n",
       "972       151009  EULOGIO CLARENCE M. DE GUZMAN Jr. ELEMENTARY S...   \n",
       "1409      101466                                            Maya PS   \n",
       "...          ...                                                ...   \n",
       "43775     319806                   Addition Hills Integrated School   \n",
       "43804     319711  Caloocan National Science and Technology High ...   \n",
       "43815     320505                                          Catmon IS   \n",
       "44000     320305                             T. S. Cruz High School   \n",
       "44009     320507                                          Tanong IS   \n",
       "\n",
       "      school.region       school.region.name      school.province  \\\n",
       "263        Region I            Ilocos Region           ILOCOS SUR   \n",
       "279        Region I            Ilocos Region           ILOCOS SUR   \n",
       "414        Region I            Ilocos Region           ILOCOS SUR   \n",
       "972        Region I            Ilocos Region             LA UNION   \n",
       "1409       Region I            Ilocos Region           PANGASINAN   \n",
       "...             ...                      ...                  ...   \n",
       "43775           NCR  National Capital Region  NCR SECOND DISTRICT   \n",
       "43804           NCR  National Capital Region   NCR THIRD DISTRICT   \n",
       "43815           NCR  National Capital Region   NCR THIRD DISTRICT   \n",
       "44000           NCR  National Capital Region  NCR FOURTH DISTRICT   \n",
       "44009           NCR  National Capital Region   NCR THIRD DISTRICT   \n",
       "\n",
       "           school.cityhall         school.division      school.citymuni  \\\n",
       "263             ILOCOS SUR              Ilocos Sur            CERVANTES   \n",
       "279             ILOCOS SUR              Ilocos Sur    QUIRINO (ANGKAKI)   \n",
       "414             ILOCOS SUR              Ilocos Sur                 SUYO   \n",
       "972               LA UNION                La Union               BAUANG   \n",
       "1409            PANGASINAN  Pangasinan I, Lingayen              INFANTA   \n",
       "...                    ...                     ...                  ...   \n",
       "43775  CITY OF MANDALUYONG        Mandaluyong City  CITY OF MANDALUYONG   \n",
       "43804        KALOOKAN CITY           Caloocan City        KALOOKAN CITY   \n",
       "43815      CITY OF MALABON            Malabon City      CITY OF MALABON   \n",
       "44000    CITY OF LAS PIÑAS          Las Piñas City    CITY OF LAS PIÑAS   \n",
       "44009      CITY OF MALABON            Malabon City      CITY OF MALABON   \n",
       "\n",
       "                    school.district school.legdistrict  ...  \\\n",
       "263               Cervantes-Quirino       2nd District  ...   \n",
       "279               Cervantes-Quirino       2nd District  ...   \n",
       "414                            Suyo       2nd District  ...   \n",
       "972                    Bauang North       2nd District  ...   \n",
       "1409                        Infanta       1st District  ...   \n",
       "...                             ...                ...  ...   \n",
       "43775  Mandaluyong City District II      Lone District  ...   \n",
       "43804             Caloocan North IV       1st District  ...   \n",
       "43815            Malabon District V      Lone District  ...   \n",
       "44000             Las Piñas City II      Lone District  ...   \n",
       "44009           Malabon District II      Lone District  ...   \n",
       "\n",
       "      rooms.nonstandard.unused teachers.instructor teachers.mobile  \\\n",
       "263                        0.0                 0.0             0.0   \n",
       "279                        0.0                 0.0             0.0   \n",
       "414                        0.0                 0.0             0.0   \n",
       "972                        NaN                 0.0             0.0   \n",
       "1409                       0.0                 0.0             1.0   \n",
       "...                        ...                 ...             ...   \n",
       "43775                      NaN                 0.0             0.0   \n",
       "43804                      0.0                 0.0             0.0   \n",
       "43815                      0.0                 0.0             0.0   \n",
       "44000                      0.0                 0.0             0.0   \n",
       "44009                      0.0                 0.0             0.0   \n",
       "\n",
       "       teachers.regular teachers.sped teacher.student rooms.student  \\\n",
       "263                 0.0           0.0             inf     16.000000   \n",
       "279                 0.0           0.0             inf     11.000000   \n",
       "414                 0.0           0.0             inf           inf   \n",
       "972                 0.0           0.0             inf           NaN   \n",
       "1409                0.0           0.0             inf     24.500000   \n",
       "...                 ...           ...             ...           ...   \n",
       "43775               0.0           0.0             inf           NaN   \n",
       "43804               0.0           0.0             inf     86.000000   \n",
       "43815               0.0           0.0             inf    246.000000   \n",
       "44000               0.0           0.0             inf    100.176471   \n",
       "44009               0.0           0.0             inf    142.500000   \n",
       "\n",
       "      mooe.student teacher.mooe    rooms.mooe  \n",
       "263    3125.000000          inf  5.000000e+04  \n",
       "279    4181.818182          inf  4.600000e+04  \n",
       "414    1696.969697          inf           inf  \n",
       "972     370.786517          inf           NaN  \n",
       "1409   1265.306122          inf  3.100000e+04  \n",
       "...            ...          ...           ...  \n",
       "43775  4860.267315          inf           NaN  \n",
       "43804   776.162791          inf  6.675000e+04  \n",
       "43815   653.116531          inf  1.606667e+05  \n",
       "44000   898.414563          inf  9.000000e+04  \n",
       "44009   716.959064          inf  1.021667e+05  \n",
       "\n",
       "[695 rows x 41 columns]"
      ]
     },
     "execution_count": 47,
     "metadata": {},
     "output_type": "execute_result"
    }
   ],
   "source": [
    "school_merged3[ school_merged3[cols[36]] == np.inf ]"
   ]
  },
  {
   "cell_type": "code",
   "execution_count": 48,
   "metadata": {},
   "outputs": [],
   "source": [
    "# drop rows with 0 teachers\n",
    "\n",
    "school_merged3.drop( school_merged3[ school_merged3[cols[36]] == np.inf].index , inplace=True) # 695 rows dropped"
   ]
  },
  {
   "cell_type": "code",
   "execution_count": 49,
   "metadata": {},
   "outputs": [
    {
     "data": {
      "text/html": [
       "<div>\n",
       "<style scoped>\n",
       "    .dataframe tbody tr th:only-of-type {\n",
       "        vertical-align: middle;\n",
       "    }\n",
       "\n",
       "    .dataframe tbody tr th {\n",
       "        vertical-align: top;\n",
       "    }\n",
       "\n",
       "    .dataframe thead th {\n",
       "        text-align: right;\n",
       "    }\n",
       "</style>\n",
       "<table border=\"1\" class=\"dataframe\">\n",
       "  <thead>\n",
       "    <tr style=\"text-align: right;\">\n",
       "      <th></th>\n",
       "      <th>school.id</th>\n",
       "      <th>school.name_x</th>\n",
       "      <th>school.region</th>\n",
       "      <th>school.region.name</th>\n",
       "      <th>school.province</th>\n",
       "      <th>school.cityhall</th>\n",
       "      <th>school.division</th>\n",
       "      <th>school.citymuni</th>\n",
       "      <th>school.district</th>\n",
       "      <th>school.legdistrict</th>\n",
       "      <th>...</th>\n",
       "      <th>rooms.nonstandard.unused</th>\n",
       "      <th>teachers.instructor</th>\n",
       "      <th>teachers.mobile</th>\n",
       "      <th>teachers.regular</th>\n",
       "      <th>teachers.sped</th>\n",
       "      <th>teacher.student</th>\n",
       "      <th>rooms.student</th>\n",
       "      <th>mooe.student</th>\n",
       "      <th>teacher.mooe</th>\n",
       "      <th>rooms.mooe</th>\n",
       "    </tr>\n",
       "  </thead>\n",
       "  <tbody>\n",
       "  </tbody>\n",
       "</table>\n",
       "<p>0 rows × 41 columns</p>\n",
       "</div>"
      ],
      "text/plain": [
       "Empty DataFrame\n",
       "Columns: [school.id, school.name_x, school.region, school.region.name, school.province, school.cityhall, school.division, school.citymuni, school.district, school.legdistrict, school.type, school.abbrev, school.previousname, school.mother.id, school.address, school.established, school.classification, school.classification2, school.curricularclass, school.organization, school.cityincome, school.cityclass, school.urban, school.name_y, school.enrollment, school.offering,  school.mooe , School ID, rooms.standard.academic, rooms.standard.unused, rooms.nonstandard.academic, rooms.nonstandard.unused, teachers.instructor, teachers.mobile, teachers.regular, teachers.sped, teacher.student, rooms.student, mooe.student, teacher.mooe, rooms.mooe]\n",
       "Index: []\n",
       "\n",
       "[0 rows x 41 columns]"
      ]
     },
     "execution_count": 49,
     "metadata": {},
     "output_type": "execute_result"
    }
   ],
   "source": [
    "school_merged3[ school_merged3[cols[36]] == np.inf ]"
   ]
  },
  {
   "cell_type": "code",
   "execution_count": 50,
   "metadata": {},
   "outputs": [
    {
     "data": {
      "text/html": [
       "<div>\n",
       "<style scoped>\n",
       "    .dataframe tbody tr th:only-of-type {\n",
       "        vertical-align: middle;\n",
       "    }\n",
       "\n",
       "    .dataframe tbody tr th {\n",
       "        vertical-align: top;\n",
       "    }\n",
       "\n",
       "    .dataframe thead th {\n",
       "        text-align: right;\n",
       "    }\n",
       "</style>\n",
       "<table border=\"1\" class=\"dataframe\">\n",
       "  <thead>\n",
       "    <tr style=\"text-align: right;\">\n",
       "      <th></th>\n",
       "      <th>school.id</th>\n",
       "      <th>school.name_x</th>\n",
       "      <th>school.region</th>\n",
       "      <th>school.region.name</th>\n",
       "      <th>school.province</th>\n",
       "      <th>school.cityhall</th>\n",
       "      <th>school.division</th>\n",
       "      <th>school.citymuni</th>\n",
       "      <th>school.district</th>\n",
       "      <th>school.legdistrict</th>\n",
       "      <th>...</th>\n",
       "      <th>rooms.nonstandard.unused</th>\n",
       "      <th>teachers.instructor</th>\n",
       "      <th>teachers.mobile</th>\n",
       "      <th>teachers.regular</th>\n",
       "      <th>teachers.sped</th>\n",
       "      <th>teacher.student</th>\n",
       "      <th>rooms.student</th>\n",
       "      <th>mooe.student</th>\n",
       "      <th>teacher.mooe</th>\n",
       "      <th>rooms.mooe</th>\n",
       "    </tr>\n",
       "  </thead>\n",
       "  <tbody>\n",
       "    <tr>\n",
       "      <th>213</th>\n",
       "      <td>101492</td>\n",
       "      <td>Balangobong Elementary School</td>\n",
       "      <td>Region I</td>\n",
       "      <td>Ilocos Region</td>\n",
       "      <td>PANGASINAN</td>\n",
       "      <td>PANGASINAN</td>\n",
       "      <td>Pangasinan I, Lingayen</td>\n",
       "      <td>LINGAYEN (Capital)</td>\n",
       "      <td>Lingayen II</td>\n",
       "      <td>2nd District</td>\n",
       "      <td>...</td>\n",
       "      <td>0.0</td>\n",
       "      <td>0.0</td>\n",
       "      <td>1.0</td>\n",
       "      <td>7.0</td>\n",
       "      <td>0.0</td>\n",
       "      <td>26.857143</td>\n",
       "      <td>inf</td>\n",
       "      <td>776.595745</td>\n",
       "      <td>20857.142857</td>\n",
       "      <td>inf</td>\n",
       "    </tr>\n",
       "    <tr>\n",
       "      <th>676</th>\n",
       "      <td>235501</td>\n",
       "      <td>Candon South Central School SPED Center</td>\n",
       "      <td>Region I</td>\n",
       "      <td>Ilocos Region</td>\n",
       "      <td>ILOCOS SUR</td>\n",
       "      <td>ILOCOS SUR</td>\n",
       "      <td>Candon City</td>\n",
       "      <td>CITY OF CANDON</td>\n",
       "      <td>District II</td>\n",
       "      <td>2nd District</td>\n",
       "      <td>...</td>\n",
       "      <td>0.0</td>\n",
       "      <td>0.0</td>\n",
       "      <td>0.0</td>\n",
       "      <td>1.0</td>\n",
       "      <td>2.0</td>\n",
       "      <td>58.000000</td>\n",
       "      <td>inf</td>\n",
       "      <td>1137.931034</td>\n",
       "      <td>66000.000000</td>\n",
       "      <td>inf</td>\n",
       "    </tr>\n",
       "    <tr>\n",
       "      <th>919</th>\n",
       "      <td>102057</td>\n",
       "      <td>Doña Aurea ES</td>\n",
       "      <td>Region I</td>\n",
       "      <td>Ilocos Region</td>\n",
       "      <td>PANGASINAN</td>\n",
       "      <td>PANGASINAN</td>\n",
       "      <td>Pangasinan II, Binalonan</td>\n",
       "      <td>SANTO TOMAS</td>\n",
       "      <td>Sto. Tomas</td>\n",
       "      <td>5th District</td>\n",
       "      <td>...</td>\n",
       "      <td>0.0</td>\n",
       "      <td>0.0</td>\n",
       "      <td>2.0</td>\n",
       "      <td>12.0</td>\n",
       "      <td>0.0</td>\n",
       "      <td>41.583333</td>\n",
       "      <td>inf</td>\n",
       "      <td>486.973948</td>\n",
       "      <td>20250.000000</td>\n",
       "      <td>inf</td>\n",
       "    </tr>\n",
       "    <tr>\n",
       "      <th>1088</th>\n",
       "      <td>153507</td>\n",
       "      <td>Jose Macam Paningbatan Sr. Elementary School</td>\n",
       "      <td>Region I</td>\n",
       "      <td>Ilocos Region</td>\n",
       "      <td>PANGASINAN</td>\n",
       "      <td>PANGASINAN</td>\n",
       "      <td>San Carlos City</td>\n",
       "      <td>SAN CARLOS CITY</td>\n",
       "      <td>San Carlos City District II</td>\n",
       "      <td>3rd District</td>\n",
       "      <td>...</td>\n",
       "      <td>0.0</td>\n",
       "      <td>0.0</td>\n",
       "      <td>0.0</td>\n",
       "      <td>5.0</td>\n",
       "      <td>0.0</td>\n",
       "      <td>70.600000</td>\n",
       "      <td>inf</td>\n",
       "      <td>495.750708</td>\n",
       "      <td>35000.000000</td>\n",
       "      <td>inf</td>\n",
       "    </tr>\n",
       "    <tr>\n",
       "      <th>1091</th>\n",
       "      <td>101449</td>\n",
       "      <td>Juan Bustamante ES</td>\n",
       "      <td>Region I</td>\n",
       "      <td>Ilocos Region</td>\n",
       "      <td>PANGASINAN</td>\n",
       "      <td>PANGASINAN</td>\n",
       "      <td>Pangasinan I, Lingayen</td>\n",
       "      <td>DASOL</td>\n",
       "      <td>Dasol</td>\n",
       "      <td>1st District</td>\n",
       "      <td>...</td>\n",
       "      <td>0.0</td>\n",
       "      <td>0.0</td>\n",
       "      <td>0.0</td>\n",
       "      <td>3.0</td>\n",
       "      <td>0.0</td>\n",
       "      <td>40.666667</td>\n",
       "      <td>inf</td>\n",
       "      <td>852.459016</td>\n",
       "      <td>34666.666667</td>\n",
       "      <td>inf</td>\n",
       "    </tr>\n",
       "    <tr>\n",
       "      <th>...</th>\n",
       "      <td>...</td>\n",
       "      <td>...</td>\n",
       "      <td>...</td>\n",
       "      <td>...</td>\n",
       "      <td>...</td>\n",
       "      <td>...</td>\n",
       "      <td>...</td>\n",
       "      <td>...</td>\n",
       "      <td>...</td>\n",
       "      <td>...</td>\n",
       "      <td>...</td>\n",
       "      <td>...</td>\n",
       "      <td>...</td>\n",
       "      <td>...</td>\n",
       "      <td>...</td>\n",
       "      <td>...</td>\n",
       "      <td>...</td>\n",
       "      <td>...</td>\n",
       "      <td>...</td>\n",
       "      <td>...</td>\n",
       "      <td>...</td>\n",
       "    </tr>\n",
       "    <tr>\n",
       "      <th>43772</th>\n",
       "      <td>319008</td>\n",
       "      <td>Ubao NHS Extension</td>\n",
       "      <td>CAR</td>\n",
       "      <td>Cordillera Administrative Region</td>\n",
       "      <td>IFUGAO</td>\n",
       "      <td>IFUGAO</td>\n",
       "      <td>Ifugao</td>\n",
       "      <td>AGUINALDO</td>\n",
       "      <td>Aguinaldo</td>\n",
       "      <td>Lone District</td>\n",
       "      <td>...</td>\n",
       "      <td>0.0</td>\n",
       "      <td>NaN</td>\n",
       "      <td>NaN</td>\n",
       "      <td>NaN</td>\n",
       "      <td>NaN</td>\n",
       "      <td>NaN</td>\n",
       "      <td>inf</td>\n",
       "      <td>1481.751825</td>\n",
       "      <td>NaN</td>\n",
       "      <td>inf</td>\n",
       "    </tr>\n",
       "    <tr>\n",
       "      <th>43776</th>\n",
       "      <td>320607</td>\n",
       "      <td>Agripino Manalo National HS</td>\n",
       "      <td>NCR</td>\n",
       "      <td>National Capital Region</td>\n",
       "      <td>NCR FOURTH DISTRICT</td>\n",
       "      <td>PATEROS</td>\n",
       "      <td>Taguig</td>\n",
       "      <td>PATEROS</td>\n",
       "      <td>Pateros</td>\n",
       "      <td>1st District</td>\n",
       "      <td>...</td>\n",
       "      <td>0.0</td>\n",
       "      <td>0.0</td>\n",
       "      <td>0.0</td>\n",
       "      <td>11.0</td>\n",
       "      <td>0.0</td>\n",
       "      <td>33.090909</td>\n",
       "      <td>inf</td>\n",
       "      <td>1192.307692</td>\n",
       "      <td>39454.545455</td>\n",
       "      <td>inf</td>\n",
       "    </tr>\n",
       "    <tr>\n",
       "      <th>43794</th>\n",
       "      <td>319903</td>\n",
       "      <td>Barangka NHS</td>\n",
       "      <td>NCR</td>\n",
       "      <td>National Capital Region</td>\n",
       "      <td>NCR SECOND DISTRICT</td>\n",
       "      <td>CITY OF MARIKINA</td>\n",
       "      <td>Marikina City</td>\n",
       "      <td>CITY OF MARIKINA</td>\n",
       "      <td>Marikina City District I</td>\n",
       "      <td>1st District</td>\n",
       "      <td>...</td>\n",
       "      <td>0.0</td>\n",
       "      <td>0.0</td>\n",
       "      <td>0.0</td>\n",
       "      <td>18.0</td>\n",
       "      <td>0.0</td>\n",
       "      <td>51.722222</td>\n",
       "      <td>inf</td>\n",
       "      <td>881.847476</td>\n",
       "      <td>45611.111111</td>\n",
       "      <td>inf</td>\n",
       "    </tr>\n",
       "    <tr>\n",
       "      <th>43872</th>\n",
       "      <td>319904</td>\n",
       "      <td>Kalumpang National High School</td>\n",
       "      <td>NCR</td>\n",
       "      <td>National Capital Region</td>\n",
       "      <td>NCR SECOND DISTRICT</td>\n",
       "      <td>CITY OF MARIKINA</td>\n",
       "      <td>Marikina City</td>\n",
       "      <td>CITY OF MARIKINA</td>\n",
       "      <td>Marikina City District I</td>\n",
       "      <td>1st District</td>\n",
       "      <td>...</td>\n",
       "      <td>0.0</td>\n",
       "      <td>0.0</td>\n",
       "      <td>0.0</td>\n",
       "      <td>16.0</td>\n",
       "      <td>0.0</td>\n",
       "      <td>50.750000</td>\n",
       "      <td>inf</td>\n",
       "      <td>853.448276</td>\n",
       "      <td>43312.500000</td>\n",
       "      <td>inf</td>\n",
       "    </tr>\n",
       "    <tr>\n",
       "      <th>43986</th>\n",
       "      <td>319905</td>\n",
       "      <td>San Roque National High School</td>\n",
       "      <td>NCR</td>\n",
       "      <td>National Capital Region</td>\n",
       "      <td>NCR SECOND DISTRICT</td>\n",
       "      <td>CITY OF MARIKINA</td>\n",
       "      <td>Marikina City</td>\n",
       "      <td>CITY OF MARIKINA</td>\n",
       "      <td>Marikina City District I</td>\n",
       "      <td>1st District</td>\n",
       "      <td>...</td>\n",
       "      <td>0.0</td>\n",
       "      <td>0.0</td>\n",
       "      <td>0.0</td>\n",
       "      <td>17.0</td>\n",
       "      <td>0.0</td>\n",
       "      <td>51.117647</td>\n",
       "      <td>inf</td>\n",
       "      <td>880.322209</td>\n",
       "      <td>45000.000000</td>\n",
       "      <td>inf</td>\n",
       "    </tr>\n",
       "  </tbody>\n",
       "</table>\n",
       "<p>664 rows × 41 columns</p>\n",
       "</div>"
      ],
      "text/plain": [
       "       school.id                                 school.name_x school.region  \\\n",
       "213       101492                 Balangobong Elementary School      Region I   \n",
       "676       235501       Candon South Central School SPED Center      Region I   \n",
       "919       102057                                 Doña Aurea ES      Region I   \n",
       "1088      153507  Jose Macam Paningbatan Sr. Elementary School      Region I   \n",
       "1091      101449                            Juan Bustamante ES      Region I   \n",
       "...          ...                                           ...           ...   \n",
       "43772     319008                            Ubao NHS Extension           CAR   \n",
       "43776     320607                   Agripino Manalo National HS           NCR   \n",
       "43794     319903                                  Barangka NHS           NCR   \n",
       "43872     319904                Kalumpang National High School           NCR   \n",
       "43986     319905                San Roque National High School           NCR   \n",
       "\n",
       "                     school.region.name      school.province  \\\n",
       "213                       Ilocos Region           PANGASINAN   \n",
       "676                       Ilocos Region           ILOCOS SUR   \n",
       "919                       Ilocos Region           PANGASINAN   \n",
       "1088                      Ilocos Region           PANGASINAN   \n",
       "1091                      Ilocos Region           PANGASINAN   \n",
       "...                                 ...                  ...   \n",
       "43772  Cordillera Administrative Region               IFUGAO   \n",
       "43776           National Capital Region  NCR FOURTH DISTRICT   \n",
       "43794           National Capital Region  NCR SECOND DISTRICT   \n",
       "43872           National Capital Region  NCR SECOND DISTRICT   \n",
       "43986           National Capital Region  NCR SECOND DISTRICT   \n",
       "\n",
       "        school.cityhall           school.division     school.citymuni  \\\n",
       "213          PANGASINAN    Pangasinan I, Lingayen  LINGAYEN (Capital)   \n",
       "676          ILOCOS SUR               Candon City      CITY OF CANDON   \n",
       "919          PANGASINAN  Pangasinan II, Binalonan         SANTO TOMAS   \n",
       "1088         PANGASINAN           San Carlos City     SAN CARLOS CITY   \n",
       "1091         PANGASINAN    Pangasinan I, Lingayen               DASOL   \n",
       "...                 ...                       ...                 ...   \n",
       "43772            IFUGAO                    Ifugao           AGUINALDO   \n",
       "43776           PATEROS                    Taguig             PATEROS   \n",
       "43794  CITY OF MARIKINA             Marikina City    CITY OF MARIKINA   \n",
       "43872  CITY OF MARIKINA             Marikina City    CITY OF MARIKINA   \n",
       "43986  CITY OF MARIKINA             Marikina City    CITY OF MARIKINA   \n",
       "\n",
       "                   school.district school.legdistrict  ...  \\\n",
       "213                    Lingayen II       2nd District  ...   \n",
       "676                    District II       2nd District  ...   \n",
       "919                     Sto. Tomas       5th District  ...   \n",
       "1088   San Carlos City District II       3rd District  ...   \n",
       "1091                         Dasol       1st District  ...   \n",
       "...                            ...                ...  ...   \n",
       "43772                    Aguinaldo      Lone District  ...   \n",
       "43776                      Pateros       1st District  ...   \n",
       "43794     Marikina City District I       1st District  ...   \n",
       "43872     Marikina City District I       1st District  ...   \n",
       "43986     Marikina City District I       1st District  ...   \n",
       "\n",
       "      rooms.nonstandard.unused teachers.instructor teachers.mobile  \\\n",
       "213                        0.0                 0.0             1.0   \n",
       "676                        0.0                 0.0             0.0   \n",
       "919                        0.0                 0.0             2.0   \n",
       "1088                       0.0                 0.0             0.0   \n",
       "1091                       0.0                 0.0             0.0   \n",
       "...                        ...                 ...             ...   \n",
       "43772                      0.0                 NaN             NaN   \n",
       "43776                      0.0                 0.0             0.0   \n",
       "43794                      0.0                 0.0             0.0   \n",
       "43872                      0.0                 0.0             0.0   \n",
       "43986                      0.0                 0.0             0.0   \n",
       "\n",
       "       teachers.regular teachers.sped teacher.student rooms.student  \\\n",
       "213                 7.0           0.0       26.857143           inf   \n",
       "676                 1.0           2.0       58.000000           inf   \n",
       "919                12.0           0.0       41.583333           inf   \n",
       "1088                5.0           0.0       70.600000           inf   \n",
       "1091                3.0           0.0       40.666667           inf   \n",
       "...                 ...           ...             ...           ...   \n",
       "43772               NaN           NaN             NaN           inf   \n",
       "43776              11.0           0.0       33.090909           inf   \n",
       "43794              18.0           0.0       51.722222           inf   \n",
       "43872              16.0           0.0       50.750000           inf   \n",
       "43986              17.0           0.0       51.117647           inf   \n",
       "\n",
       "      mooe.student  teacher.mooe rooms.mooe  \n",
       "213     776.595745  20857.142857        inf  \n",
       "676    1137.931034  66000.000000        inf  \n",
       "919     486.973948  20250.000000        inf  \n",
       "1088    495.750708  35000.000000        inf  \n",
       "1091    852.459016  34666.666667        inf  \n",
       "...            ...           ...        ...  \n",
       "43772  1481.751825           NaN        inf  \n",
       "43776  1192.307692  39454.545455        inf  \n",
       "43794   881.847476  45611.111111        inf  \n",
       "43872   853.448276  43312.500000        inf  \n",
       "43986   880.322209  45000.000000        inf  \n",
       "\n",
       "[664 rows x 41 columns]"
      ]
     },
     "execution_count": 50,
     "metadata": {},
     "output_type": "execute_result"
    }
   ],
   "source": [
    "school_merged3[ school_merged3[cols[37]] == np.inf ]"
   ]
  },
  {
   "cell_type": "code",
   "execution_count": 51,
   "metadata": {},
   "outputs": [],
   "source": [
    "# drop rows with 0 rooms\n",
    "\n",
    "school_merged3.drop( school_merged3[ school_merged3[cols[37]] == np.inf].index , inplace=True) # 664 rows dropped"
   ]
  },
  {
   "cell_type": "code",
   "execution_count": 52,
   "metadata": {},
   "outputs": [
    {
     "data": {
      "text/html": [
       "<div>\n",
       "<style scoped>\n",
       "    .dataframe tbody tr th:only-of-type {\n",
       "        vertical-align: middle;\n",
       "    }\n",
       "\n",
       "    .dataframe tbody tr th {\n",
       "        vertical-align: top;\n",
       "    }\n",
       "\n",
       "    .dataframe thead th {\n",
       "        text-align: right;\n",
       "    }\n",
       "</style>\n",
       "<table border=\"1\" class=\"dataframe\">\n",
       "  <thead>\n",
       "    <tr style=\"text-align: right;\">\n",
       "      <th></th>\n",
       "      <th>school.id</th>\n",
       "      <th>school.name_x</th>\n",
       "      <th>school.region</th>\n",
       "      <th>school.region.name</th>\n",
       "      <th>school.province</th>\n",
       "      <th>school.cityhall</th>\n",
       "      <th>school.division</th>\n",
       "      <th>school.citymuni</th>\n",
       "      <th>school.district</th>\n",
       "      <th>school.legdistrict</th>\n",
       "      <th>...</th>\n",
       "      <th>rooms.nonstandard.unused</th>\n",
       "      <th>teachers.instructor</th>\n",
       "      <th>teachers.mobile</th>\n",
       "      <th>teachers.regular</th>\n",
       "      <th>teachers.sped</th>\n",
       "      <th>teacher.student</th>\n",
       "      <th>rooms.student</th>\n",
       "      <th>mooe.student</th>\n",
       "      <th>teacher.mooe</th>\n",
       "      <th>rooms.mooe</th>\n",
       "    </tr>\n",
       "  </thead>\n",
       "  <tbody>\n",
       "  </tbody>\n",
       "</table>\n",
       "<p>0 rows × 41 columns</p>\n",
       "</div>"
      ],
      "text/plain": [
       "Empty DataFrame\n",
       "Columns: [school.id, school.name_x, school.region, school.region.name, school.province, school.cityhall, school.division, school.citymuni, school.district, school.legdistrict, school.type, school.abbrev, school.previousname, school.mother.id, school.address, school.established, school.classification, school.classification2, school.curricularclass, school.organization, school.cityincome, school.cityclass, school.urban, school.name_y, school.enrollment, school.offering,  school.mooe , School ID, rooms.standard.academic, rooms.standard.unused, rooms.nonstandard.academic, rooms.nonstandard.unused, teachers.instructor, teachers.mobile, teachers.regular, teachers.sped, teacher.student, rooms.student, mooe.student, teacher.mooe, rooms.mooe]\n",
       "Index: []\n",
       "\n",
       "[0 rows x 41 columns]"
      ]
     },
     "execution_count": 52,
     "metadata": {},
     "output_type": "execute_result"
    }
   ],
   "source": [
    "school_merged3[ school_merged3[cols[37]] == np.inf ]"
   ]
  },
  {
   "cell_type": "code",
   "execution_count": 53,
   "metadata": {},
   "outputs": [
    {
     "data": {
      "text/html": [
       "<div>\n",
       "<style scoped>\n",
       "    .dataframe tbody tr th:only-of-type {\n",
       "        vertical-align: middle;\n",
       "    }\n",
       "\n",
       "    .dataframe tbody tr th {\n",
       "        vertical-align: top;\n",
       "    }\n",
       "\n",
       "    .dataframe thead th {\n",
       "        text-align: right;\n",
       "    }\n",
       "</style>\n",
       "<table border=\"1\" class=\"dataframe\">\n",
       "  <thead>\n",
       "    <tr style=\"text-align: right;\">\n",
       "      <th></th>\n",
       "      <th>school.id</th>\n",
       "      <th>school.name_x</th>\n",
       "      <th>school.region</th>\n",
       "      <th>school.region.name</th>\n",
       "      <th>school.province</th>\n",
       "      <th>school.cityhall</th>\n",
       "      <th>school.division</th>\n",
       "      <th>school.citymuni</th>\n",
       "      <th>school.district</th>\n",
       "      <th>school.legdistrict</th>\n",
       "      <th>...</th>\n",
       "      <th>rooms.nonstandard.unused</th>\n",
       "      <th>teachers.instructor</th>\n",
       "      <th>teachers.mobile</th>\n",
       "      <th>teachers.regular</th>\n",
       "      <th>teachers.sped</th>\n",
       "      <th>teacher.student</th>\n",
       "      <th>rooms.student</th>\n",
       "      <th>mooe.student</th>\n",
       "      <th>teacher.mooe</th>\n",
       "      <th>rooms.mooe</th>\n",
       "    </tr>\n",
       "  </thead>\n",
       "  <tbody>\n",
       "  </tbody>\n",
       "</table>\n",
       "<p>0 rows × 41 columns</p>\n",
       "</div>"
      ],
      "text/plain": [
       "Empty DataFrame\n",
       "Columns: [school.id, school.name_x, school.region, school.region.name, school.province, school.cityhall, school.division, school.citymuni, school.district, school.legdistrict, school.type, school.abbrev, school.previousname, school.mother.id, school.address, school.established, school.classification, school.classification2, school.curricularclass, school.organization, school.cityincome, school.cityclass, school.urban, school.name_y, school.enrollment, school.offering,  school.mooe , School ID, rooms.standard.academic, rooms.standard.unused, rooms.nonstandard.academic, rooms.nonstandard.unused, teachers.instructor, teachers.mobile, teachers.regular, teachers.sped, teacher.student, rooms.student, mooe.student, teacher.mooe, rooms.mooe]\n",
       "Index: []\n",
       "\n",
       "[0 rows x 41 columns]"
      ]
     },
     "execution_count": 53,
     "metadata": {},
     "output_type": "execute_result"
    }
   ],
   "source": [
    "school_merged3[ school_merged3[cols[39]] == np.inf ]"
   ]
  },
  {
   "cell_type": "code",
   "execution_count": 54,
   "metadata": {},
   "outputs": [
    {
     "data": {
      "text/html": [
       "<div>\n",
       "<style scoped>\n",
       "    .dataframe tbody tr th:only-of-type {\n",
       "        vertical-align: middle;\n",
       "    }\n",
       "\n",
       "    .dataframe tbody tr th {\n",
       "        vertical-align: top;\n",
       "    }\n",
       "\n",
       "    .dataframe thead th {\n",
       "        text-align: right;\n",
       "    }\n",
       "</style>\n",
       "<table border=\"1\" class=\"dataframe\">\n",
       "  <thead>\n",
       "    <tr style=\"text-align: right;\">\n",
       "      <th></th>\n",
       "      <th>school.id</th>\n",
       "      <th>school.name_x</th>\n",
       "      <th>school.region</th>\n",
       "      <th>school.region.name</th>\n",
       "      <th>school.province</th>\n",
       "      <th>school.cityhall</th>\n",
       "      <th>school.division</th>\n",
       "      <th>school.citymuni</th>\n",
       "      <th>school.district</th>\n",
       "      <th>school.legdistrict</th>\n",
       "      <th>...</th>\n",
       "      <th>rooms.nonstandard.unused</th>\n",
       "      <th>teachers.instructor</th>\n",
       "      <th>teachers.mobile</th>\n",
       "      <th>teachers.regular</th>\n",
       "      <th>teachers.sped</th>\n",
       "      <th>teacher.student</th>\n",
       "      <th>rooms.student</th>\n",
       "      <th>mooe.student</th>\n",
       "      <th>teacher.mooe</th>\n",
       "      <th>rooms.mooe</th>\n",
       "    </tr>\n",
       "  </thead>\n",
       "  <tbody>\n",
       "  </tbody>\n",
       "</table>\n",
       "<p>0 rows × 41 columns</p>\n",
       "</div>"
      ],
      "text/plain": [
       "Empty DataFrame\n",
       "Columns: [school.id, school.name_x, school.region, school.region.name, school.province, school.cityhall, school.division, school.citymuni, school.district, school.legdistrict, school.type, school.abbrev, school.previousname, school.mother.id, school.address, school.established, school.classification, school.classification2, school.curricularclass, school.organization, school.cityincome, school.cityclass, school.urban, school.name_y, school.enrollment, school.offering,  school.mooe , School ID, rooms.standard.academic, rooms.standard.unused, rooms.nonstandard.academic, rooms.nonstandard.unused, teachers.instructor, teachers.mobile, teachers.regular, teachers.sped, teacher.student, rooms.student, mooe.student, teacher.mooe, rooms.mooe]\n",
       "Index: []\n",
       "\n",
       "[0 rows x 41 columns]"
      ]
     },
     "execution_count": 54,
     "metadata": {},
     "output_type": "execute_result"
    }
   ],
   "source": [
    "school_merged3[ school_merged3[cols[40]] == np.inf ]"
   ]
  },
  {
   "cell_type": "code",
   "execution_count": 55,
   "metadata": {},
   "outputs": [
    {
     "data": {
      "text/html": [
       "<div>\n",
       "<style scoped>\n",
       "    .dataframe tbody tr th:only-of-type {\n",
       "        vertical-align: middle;\n",
       "    }\n",
       "\n",
       "    .dataframe tbody tr th {\n",
       "        vertical-align: top;\n",
       "    }\n",
       "\n",
       "    .dataframe thead th {\n",
       "        text-align: right;\n",
       "    }\n",
       "</style>\n",
       "<table border=\"1\" class=\"dataframe\">\n",
       "  <thead>\n",
       "    <tr style=\"text-align: right;\">\n",
       "      <th></th>\n",
       "      <th>school.id</th>\n",
       "      <th>school.mother.id</th>\n",
       "      <th>school.enrollment</th>\n",
       "      <th>school.mooe</th>\n",
       "      <th>School ID</th>\n",
       "      <th>rooms.standard.academic</th>\n",
       "      <th>rooms.standard.unused</th>\n",
       "      <th>rooms.nonstandard.academic</th>\n",
       "      <th>rooms.nonstandard.unused</th>\n",
       "      <th>teachers.instructor</th>\n",
       "      <th>teachers.mobile</th>\n",
       "      <th>teachers.regular</th>\n",
       "      <th>teachers.sped</th>\n",
       "      <th>teacher.student</th>\n",
       "      <th>rooms.student</th>\n",
       "      <th>mooe.student</th>\n",
       "      <th>teacher.mooe</th>\n",
       "      <th>rooms.mooe</th>\n",
       "    </tr>\n",
       "  </thead>\n",
       "  <tbody>\n",
       "    <tr>\n",
       "      <th>count</th>\n",
       "      <td>42664.000000</td>\n",
       "      <td>42659.000000</td>\n",
       "      <td>42664.000000</td>\n",
       "      <td>4.266400e+04</td>\n",
       "      <td>42622.000000</td>\n",
       "      <td>42622.000000</td>\n",
       "      <td>42622.000000</td>\n",
       "      <td>42621.000000</td>\n",
       "      <td>42621.000000</td>\n",
       "      <td>41271.000000</td>\n",
       "      <td>41271.000000</td>\n",
       "      <td>41271.000000</td>\n",
       "      <td>41271.000000</td>\n",
       "      <td>41271.000000</td>\n",
       "      <td>42622.000000</td>\n",
       "      <td>42664.000000</td>\n",
       "      <td>4.127100e+04</td>\n",
       "      <td>42622.000000</td>\n",
       "    </tr>\n",
       "    <tr>\n",
       "      <th>mean</th>\n",
       "      <td>150512.645462</td>\n",
       "      <td>150076.676903</td>\n",
       "      <td>465.996672</td>\n",
       "      <td>3.088861e+05</td>\n",
       "      <td>150382.759232</td>\n",
       "      <td>9.205293</td>\n",
       "      <td>0.152785</td>\n",
       "      <td>0.193778</td>\n",
       "      <td>0.003121</td>\n",
       "      <td>0.002423</td>\n",
       "      <td>1.031184</td>\n",
       "      <td>11.638317</td>\n",
       "      <td>0.047612</td>\n",
       "      <td>40.897139</td>\n",
       "      <td>46.933129</td>\n",
       "      <td>832.162714</td>\n",
       "      <td>3.005212e+04</td>\n",
       "      <td>35041.876532</td>\n",
       "    </tr>\n",
       "    <tr>\n",
       "      <th>std</th>\n",
       "      <td>69926.383081</td>\n",
       "      <td>69521.335942</td>\n",
       "      <td>706.725744</td>\n",
       "      <td>4.909382e+05</td>\n",
       "      <td>69812.461049</td>\n",
       "      <td>10.004677</td>\n",
       "      <td>0.705522</td>\n",
       "      <td>1.030308</td>\n",
       "      <td>0.079088</td>\n",
       "      <td>0.102991</td>\n",
       "      <td>2.689942</td>\n",
       "      <td>17.614149</td>\n",
       "      <td>0.743137</td>\n",
       "      <td>19.622948</td>\n",
       "      <td>29.008597</td>\n",
       "      <td>618.473940</td>\n",
       "      <td>1.797678e+04</td>\n",
       "      <td>23503.747415</td>\n",
       "    </tr>\n",
       "    <tr>\n",
       "      <th>min</th>\n",
       "      <td>100001.000000</td>\n",
       "      <td>100001.000000</td>\n",
       "      <td>3.000000</td>\n",
       "      <td>4.800000e+04</td>\n",
       "      <td>100001.000000</td>\n",
       "      <td>1.000000</td>\n",
       "      <td>0.000000</td>\n",
       "      <td>0.000000</td>\n",
       "      <td>0.000000</td>\n",
       "      <td>0.000000</td>\n",
       "      <td>0.000000</td>\n",
       "      <td>1.000000</td>\n",
       "      <td>0.000000</td>\n",
       "      <td>0.875000</td>\n",
       "      <td>1.400000</td>\n",
       "      <td>172.376874</td>\n",
       "      <td>3.888889e+03</td>\n",
       "      <td>10333.333333</td>\n",
       "    </tr>\n",
       "    <tr>\n",
       "      <th>25%</th>\n",
       "      <td>110828.750000</td>\n",
       "      <td>110747.500000</td>\n",
       "      <td>147.000000</td>\n",
       "      <td>1.170000e+05</td>\n",
       "      <td>110818.250000</td>\n",
       "      <td>4.000000</td>\n",
       "      <td>0.000000</td>\n",
       "      <td>0.000000</td>\n",
       "      <td>0.000000</td>\n",
       "      <td>0.000000</td>\n",
       "      <td>0.000000</td>\n",
       "      <td>4.000000</td>\n",
       "      <td>0.000000</td>\n",
       "      <td>30.500000</td>\n",
       "      <td>32.000000</td>\n",
       "      <td>537.669009</td>\n",
       "      <td>2.183333e+04</td>\n",
       "      <td>22000.000000</td>\n",
       "    </tr>\n",
       "    <tr>\n",
       "      <th>50%</th>\n",
       "      <td>121678.500000</td>\n",
       "      <td>121562.000000</td>\n",
       "      <td>254.000000</td>\n",
       "      <td>1.620000e+05</td>\n",
       "      <td>121656.500000</td>\n",
       "      <td>6.000000</td>\n",
       "      <td>0.000000</td>\n",
       "      <td>0.000000</td>\n",
       "      <td>0.000000</td>\n",
       "      <td>0.000000</td>\n",
       "      <td>0.000000</td>\n",
       "      <td>7.000000</td>\n",
       "      <td>0.000000</td>\n",
       "      <td>38.909091</td>\n",
       "      <td>41.428571</td>\n",
       "      <td>683.615819</td>\n",
       "      <td>2.575000e+04</td>\n",
       "      <td>26500.000000</td>\n",
       "    </tr>\n",
       "    <tr>\n",
       "      <th>75%</th>\n",
       "      <td>132752.250000</td>\n",
       "      <td>132611.500000</td>\n",
       "      <td>478.000000</td>\n",
       "      <td>2.970000e+05</td>\n",
       "      <td>132719.750000</td>\n",
       "      <td>11.000000</td>\n",
       "      <td>0.000000</td>\n",
       "      <td>0.000000</td>\n",
       "      <td>0.000000</td>\n",
       "      <td>0.000000</td>\n",
       "      <td>1.000000</td>\n",
       "      <td>12.000000</td>\n",
       "      <td>0.000000</td>\n",
       "      <td>48.000000</td>\n",
       "      <td>53.428571</td>\n",
       "      <td>953.256781</td>\n",
       "      <td>3.350000e+04</td>\n",
       "      <td>41142.857143</td>\n",
       "    </tr>\n",
       "    <tr>\n",
       "      <th>max</th>\n",
       "      <td>356059.000000</td>\n",
       "      <td>325106.000000</td>\n",
       "      <td>12613.000000</td>\n",
       "      <td>1.121800e+07</td>\n",
       "      <td>356059.000000</td>\n",
       "      <td>187.000000</td>\n",
       "      <td>15.000000</td>\n",
       "      <td>74.000000</td>\n",
       "      <td>7.000000</td>\n",
       "      <td>10.000000</td>\n",
       "      <td>104.000000</td>\n",
       "      <td>472.000000</td>\n",
       "      <td>89.000000</td>\n",
       "      <td>1570.000000</td>\n",
       "      <td>1223.000000</td>\n",
       "      <td>39857.142857</td>\n",
       "      <td>1.385000e+06</td>\n",
       "      <td>991000.000000</td>\n",
       "    </tr>\n",
       "  </tbody>\n",
       "</table>\n",
       "</div>"
      ],
      "text/plain": [
       "           school.id  school.mother.id  school.enrollment   school.mooe   \\\n",
       "count   42664.000000      42659.000000       42664.000000   4.266400e+04   \n",
       "mean   150512.645462     150076.676903         465.996672   3.088861e+05   \n",
       "std     69926.383081      69521.335942         706.725744   4.909382e+05   \n",
       "min    100001.000000     100001.000000           3.000000   4.800000e+04   \n",
       "25%    110828.750000     110747.500000         147.000000   1.170000e+05   \n",
       "50%    121678.500000     121562.000000         254.000000   1.620000e+05   \n",
       "75%    132752.250000     132611.500000         478.000000   2.970000e+05   \n",
       "max    356059.000000     325106.000000       12613.000000   1.121800e+07   \n",
       "\n",
       "           School ID  rooms.standard.academic  rooms.standard.unused  \\\n",
       "count   42622.000000             42622.000000           42622.000000   \n",
       "mean   150382.759232                 9.205293               0.152785   \n",
       "std     69812.461049                10.004677               0.705522   \n",
       "min    100001.000000                 1.000000               0.000000   \n",
       "25%    110818.250000                 4.000000               0.000000   \n",
       "50%    121656.500000                 6.000000               0.000000   \n",
       "75%    132719.750000                11.000000               0.000000   \n",
       "max    356059.000000               187.000000              15.000000   \n",
       "\n",
       "       rooms.nonstandard.academic  rooms.nonstandard.unused  \\\n",
       "count                42621.000000              42621.000000   \n",
       "mean                     0.193778                  0.003121   \n",
       "std                      1.030308                  0.079088   \n",
       "min                      0.000000                  0.000000   \n",
       "25%                      0.000000                  0.000000   \n",
       "50%                      0.000000                  0.000000   \n",
       "75%                      0.000000                  0.000000   \n",
       "max                     74.000000                  7.000000   \n",
       "\n",
       "       teachers.instructor  teachers.mobile  teachers.regular  teachers.sped  \\\n",
       "count         41271.000000     41271.000000      41271.000000   41271.000000   \n",
       "mean              0.002423         1.031184         11.638317       0.047612   \n",
       "std               0.102991         2.689942         17.614149       0.743137   \n",
       "min               0.000000         0.000000          1.000000       0.000000   \n",
       "25%               0.000000         0.000000          4.000000       0.000000   \n",
       "50%               0.000000         0.000000          7.000000       0.000000   \n",
       "75%               0.000000         1.000000         12.000000       0.000000   \n",
       "max              10.000000       104.000000        472.000000      89.000000   \n",
       "\n",
       "       teacher.student  rooms.student  mooe.student  teacher.mooe  \\\n",
       "count     41271.000000   42622.000000  42664.000000  4.127100e+04   \n",
       "mean         40.897139      46.933129    832.162714  3.005212e+04   \n",
       "std          19.622948      29.008597    618.473940  1.797678e+04   \n",
       "min           0.875000       1.400000    172.376874  3.888889e+03   \n",
       "25%          30.500000      32.000000    537.669009  2.183333e+04   \n",
       "50%          38.909091      41.428571    683.615819  2.575000e+04   \n",
       "75%          48.000000      53.428571    953.256781  3.350000e+04   \n",
       "max        1570.000000    1223.000000  39857.142857  1.385000e+06   \n",
       "\n",
       "          rooms.mooe  \n",
       "count   42622.000000  \n",
       "mean    35041.876532  \n",
       "std     23503.747415  \n",
       "min     10333.333333  \n",
       "25%     22000.000000  \n",
       "50%     26500.000000  \n",
       "75%     41142.857143  \n",
       "max    991000.000000  "
      ]
     },
     "execution_count": 55,
     "metadata": {},
     "output_type": "execute_result"
    }
   ],
   "source": [
    "school_merged3.describe()"
   ]
  },
  {
   "cell_type": "code",
   "execution_count": 56,
   "metadata": {},
   "outputs": [
    {
     "data": {
      "text/html": [
       "<div>\n",
       "<style scoped>\n",
       "    .dataframe tbody tr th:only-of-type {\n",
       "        vertical-align: middle;\n",
       "    }\n",
       "\n",
       "    .dataframe tbody tr th {\n",
       "        vertical-align: top;\n",
       "    }\n",
       "\n",
       "    .dataframe thead th {\n",
       "        text-align: right;\n",
       "    }\n",
       "</style>\n",
       "<table border=\"1\" class=\"dataframe\">\n",
       "  <thead>\n",
       "    <tr style=\"text-align: right;\">\n",
       "      <th></th>\n",
       "      <th>school.id</th>\n",
       "      <th>school.name_x</th>\n",
       "      <th>school.region</th>\n",
       "      <th>school.region.name</th>\n",
       "      <th>school.province</th>\n",
       "      <th>school.cityhall</th>\n",
       "      <th>school.division</th>\n",
       "      <th>school.citymuni</th>\n",
       "      <th>school.district</th>\n",
       "      <th>school.legdistrict</th>\n",
       "      <th>...</th>\n",
       "      <th>rooms.nonstandard.unused</th>\n",
       "      <th>teachers.instructor</th>\n",
       "      <th>teachers.mobile</th>\n",
       "      <th>teachers.regular</th>\n",
       "      <th>teachers.sped</th>\n",
       "      <th>teacher.student</th>\n",
       "      <th>rooms.student</th>\n",
       "      <th>mooe.student</th>\n",
       "      <th>teacher.mooe</th>\n",
       "      <th>rooms.mooe</th>\n",
       "    </tr>\n",
       "  </thead>\n",
       "  <tbody>\n",
       "    <tr>\n",
       "      <th>0</th>\n",
       "      <td>101746</td>\n",
       "      <td>A. Diaz, Sr. ES</td>\n",
       "      <td>Region I</td>\n",
       "      <td>Ilocos Region</td>\n",
       "      <td>PANGASINAN</td>\n",
       "      <td>PANGASINAN</td>\n",
       "      <td>Pangasinan II, Binalonan</td>\n",
       "      <td>BAUTISTA</td>\n",
       "      <td>Bautista</td>\n",
       "      <td>5th District</td>\n",
       "      <td>...</td>\n",
       "      <td>0.0</td>\n",
       "      <td>0.0</td>\n",
       "      <td>1.0</td>\n",
       "      <td>20.0</td>\n",
       "      <td>0.0</td>\n",
       "      <td>39.050000</td>\n",
       "      <td>52.066667</td>\n",
       "      <td>436.619718</td>\n",
       "      <td>17050.000000</td>\n",
       "      <td>22733.333333</td>\n",
       "    </tr>\n",
       "    <tr>\n",
       "      <th>2</th>\n",
       "      <td>101283</td>\n",
       "      <td>A.P. Guevara IS</td>\n",
       "      <td>Region I</td>\n",
       "      <td>Ilocos Region</td>\n",
       "      <td>PANGASINAN</td>\n",
       "      <td>PANGASINAN</td>\n",
       "      <td>Pangasinan I, Lingayen</td>\n",
       "      <td>BAYAMBANG</td>\n",
       "      <td>Bayambang II</td>\n",
       "      <td>3rd District</td>\n",
       "      <td>...</td>\n",
       "      <td>0.0</td>\n",
       "      <td>0.0</td>\n",
       "      <td>1.0</td>\n",
       "      <td>6.0</td>\n",
       "      <td>0.0</td>\n",
       "      <td>29.166667</td>\n",
       "      <td>25.000000</td>\n",
       "      <td>754.285714</td>\n",
       "      <td>22000.000000</td>\n",
       "      <td>18857.142857</td>\n",
       "    </tr>\n",
       "    <tr>\n",
       "      <th>3</th>\n",
       "      <td>100216</td>\n",
       "      <td>Ab-Abut ES</td>\n",
       "      <td>Region I</td>\n",
       "      <td>Ilocos Region</td>\n",
       "      <td>ILOCOS NORTE</td>\n",
       "      <td>ILOCOS NORTE</td>\n",
       "      <td>Ilocos Norte</td>\n",
       "      <td>PIDDIG</td>\n",
       "      <td>Piddig</td>\n",
       "      <td>1st District</td>\n",
       "      <td>...</td>\n",
       "      <td>0.0</td>\n",
       "      <td>0.0</td>\n",
       "      <td>1.0</td>\n",
       "      <td>6.0</td>\n",
       "      <td>0.0</td>\n",
       "      <td>29.833333</td>\n",
       "      <td>29.833333</td>\n",
       "      <td>754.189944</td>\n",
       "      <td>22500.000000</td>\n",
       "      <td>22500.000000</td>\n",
       "    </tr>\n",
       "    <tr>\n",
       "      <th>4</th>\n",
       "      <td>100043</td>\n",
       "      <td>Abaca ES</td>\n",
       "      <td>Region I</td>\n",
       "      <td>Ilocos Region</td>\n",
       "      <td>ILOCOS NORTE</td>\n",
       "      <td>ILOCOS NORTE</td>\n",
       "      <td>Ilocos Norte</td>\n",
       "      <td>BANGUI</td>\n",
       "      <td>Bangui</td>\n",
       "      <td>1st District</td>\n",
       "      <td>...</td>\n",
       "      <td>0.0</td>\n",
       "      <td>0.0</td>\n",
       "      <td>1.0</td>\n",
       "      <td>8.0</td>\n",
       "      <td>0.0</td>\n",
       "      <td>33.875000</td>\n",
       "      <td>30.111111</td>\n",
       "      <td>671.586716</td>\n",
       "      <td>22750.000000</td>\n",
       "      <td>20222.222222</td>\n",
       "    </tr>\n",
       "    <tr>\n",
       "      <th>5</th>\n",
       "      <td>100554</td>\n",
       "      <td>Abaccan ES</td>\n",
       "      <td>Region I</td>\n",
       "      <td>Ilocos Region</td>\n",
       "      <td>ILOCOS SUR</td>\n",
       "      <td>ILOCOS SUR</td>\n",
       "      <td>Ilocos Sur</td>\n",
       "      <td>SIGAY</td>\n",
       "      <td>Salcedo-Galimuyod-Sigay-Del Pilar</td>\n",
       "      <td>2nd District</td>\n",
       "      <td>...</td>\n",
       "      <td>0.0</td>\n",
       "      <td>0.0</td>\n",
       "      <td>1.0</td>\n",
       "      <td>3.0</td>\n",
       "      <td>0.0</td>\n",
       "      <td>12.666667</td>\n",
       "      <td>7.600000</td>\n",
       "      <td>2421.052632</td>\n",
       "      <td>30666.666667</td>\n",
       "      <td>18400.000000</td>\n",
       "    </tr>\n",
       "    <tr>\n",
       "      <th>...</th>\n",
       "      <td>...</td>\n",
       "      <td>...</td>\n",
       "      <td>...</td>\n",
       "      <td>...</td>\n",
       "      <td>...</td>\n",
       "      <td>...</td>\n",
       "      <td>...</td>\n",
       "      <td>...</td>\n",
       "      <td>...</td>\n",
       "      <td>...</td>\n",
       "      <td>...</td>\n",
       "      <td>...</td>\n",
       "      <td>...</td>\n",
       "      <td>...</td>\n",
       "      <td>...</td>\n",
       "      <td>...</td>\n",
       "      <td>...</td>\n",
       "      <td>...</td>\n",
       "      <td>...</td>\n",
       "      <td>...</td>\n",
       "      <td>...</td>\n",
       "    </tr>\n",
       "    <tr>\n",
       "      <th>44018</th>\n",
       "      <td>320401</td>\n",
       "      <td>Valenzuela City Science HS</td>\n",
       "      <td>NCR</td>\n",
       "      <td>National Capital Region</td>\n",
       "      <td>NCR THIRD DISTRICT</td>\n",
       "      <td>CITY OF VALENZUELA</td>\n",
       "      <td>Valenzuela City</td>\n",
       "      <td>CITY OF VALENZUELA</td>\n",
       "      <td>Valenzuela City Central District</td>\n",
       "      <td>1st District</td>\n",
       "      <td>...</td>\n",
       "      <td>0.0</td>\n",
       "      <td>0.0</td>\n",
       "      <td>2.0</td>\n",
       "      <td>16.0</td>\n",
       "      <td>0.0</td>\n",
       "      <td>48.062500</td>\n",
       "      <td>64.083333</td>\n",
       "      <td>807.542263</td>\n",
       "      <td>38812.500000</td>\n",
       "      <td>51750.000000</td>\n",
       "    </tr>\n",
       "    <tr>\n",
       "      <th>44019</th>\n",
       "      <td>305441</td>\n",
       "      <td>Valenzuela NHS</td>\n",
       "      <td>NCR</td>\n",
       "      <td>National Capital Region</td>\n",
       "      <td>NCR THIRD DISTRICT</td>\n",
       "      <td>CITY OF VALENZUELA</td>\n",
       "      <td>Valenzuela City</td>\n",
       "      <td>CITY OF VALENZUELA</td>\n",
       "      <td>Valenzuela City Central District</td>\n",
       "      <td>2nd District</td>\n",
       "      <td>...</td>\n",
       "      <td>0.0</td>\n",
       "      <td>0.0</td>\n",
       "      <td>18.0</td>\n",
       "      <td>84.0</td>\n",
       "      <td>1.0</td>\n",
       "      <td>38.500000</td>\n",
       "      <td>98.000000</td>\n",
       "      <td>904.143476</td>\n",
       "      <td>34809.523810</td>\n",
       "      <td>88606.060606</td>\n",
       "    </tr>\n",
       "    <tr>\n",
       "      <th>44020</th>\n",
       "      <td>305308</td>\n",
       "      <td>Valeriano E. Fugoso Memorial High School</td>\n",
       "      <td>NCR</td>\n",
       "      <td>National Capital Region</td>\n",
       "      <td>MANILA, NCR, FIRST DISTRICT</td>\n",
       "      <td>MANILA, NCR, FIRST DISTRICT</td>\n",
       "      <td>Manila</td>\n",
       "      <td>SAMPALOC</td>\n",
       "      <td>Sampaloc V</td>\n",
       "      <td>4th District</td>\n",
       "      <td>...</td>\n",
       "      <td>0.0</td>\n",
       "      <td>0.0</td>\n",
       "      <td>7.0</td>\n",
       "      <td>39.0</td>\n",
       "      <td>0.0</td>\n",
       "      <td>19.076923</td>\n",
       "      <td>43.764706</td>\n",
       "      <td>1325.268817</td>\n",
       "      <td>25282.051282</td>\n",
       "      <td>58000.000000</td>\n",
       "    </tr>\n",
       "    <tr>\n",
       "      <th>44022</th>\n",
       "      <td>305315</td>\n",
       "      <td>Victoriano Mapa High School</td>\n",
       "      <td>NCR</td>\n",
       "      <td>National Capital Region</td>\n",
       "      <td>MANILA, NCR, FIRST DISTRICT</td>\n",
       "      <td>MANILA, NCR, FIRST DISTRICT</td>\n",
       "      <td>Manila</td>\n",
       "      <td>SAN MIGUEL</td>\n",
       "      <td>Sta. Cruz V</td>\n",
       "      <td>6th District</td>\n",
       "      <td>...</td>\n",
       "      <td>0.0</td>\n",
       "      <td>0.0</td>\n",
       "      <td>27.0</td>\n",
       "      <td>164.0</td>\n",
       "      <td>0.0</td>\n",
       "      <td>23.048780</td>\n",
       "      <td>96.923077</td>\n",
       "      <td>1050.529101</td>\n",
       "      <td>24213.414634</td>\n",
       "      <td>101820.512821</td>\n",
       "    </tr>\n",
       "    <tr>\n",
       "      <th>44023</th>\n",
       "      <td>320407</td>\n",
       "      <td>Wawangpulo National High School</td>\n",
       "      <td>NCR</td>\n",
       "      <td>National Capital Region</td>\n",
       "      <td>NCR THIRD DISTRICT</td>\n",
       "      <td>CITY OF VALENZUELA</td>\n",
       "      <td>Valenzuela City</td>\n",
       "      <td>CITY OF VALENZUELA</td>\n",
       "      <td>Valenzuela City North District</td>\n",
       "      <td>1st District</td>\n",
       "      <td>...</td>\n",
       "      <td>0.0</td>\n",
       "      <td>0.0</td>\n",
       "      <td>0.0</td>\n",
       "      <td>6.0</td>\n",
       "      <td>0.0</td>\n",
       "      <td>95.166667</td>\n",
       "      <td>51.909091</td>\n",
       "      <td>943.957968</td>\n",
       "      <td>89833.333333</td>\n",
       "      <td>49000.000000</td>\n",
       "    </tr>\n",
       "  </tbody>\n",
       "</table>\n",
       "<p>40028 rows × 41 columns</p>\n",
       "</div>"
      ],
      "text/plain": [
       "       school.id                             school.name_x school.region  \\\n",
       "0         101746                           A. Diaz, Sr. ES      Region I   \n",
       "2         101283                           A.P. Guevara IS      Region I   \n",
       "3         100216                                Ab-Abut ES      Region I   \n",
       "4         100043                                  Abaca ES      Region I   \n",
       "5         100554                                Abaccan ES      Region I   \n",
       "...          ...                                       ...           ...   \n",
       "44018     320401                Valenzuela City Science HS           NCR   \n",
       "44019     305441                            Valenzuela NHS           NCR   \n",
       "44020     305308  Valeriano E. Fugoso Memorial High School           NCR   \n",
       "44022     305315               Victoriano Mapa High School           NCR   \n",
       "44023     320407           Wawangpulo National High School           NCR   \n",
       "\n",
       "            school.region.name              school.province  \\\n",
       "0                Ilocos Region                   PANGASINAN   \n",
       "2                Ilocos Region                   PANGASINAN   \n",
       "3                Ilocos Region                 ILOCOS NORTE   \n",
       "4                Ilocos Region                 ILOCOS NORTE   \n",
       "5                Ilocos Region                   ILOCOS SUR   \n",
       "...                        ...                          ...   \n",
       "44018  National Capital Region           NCR THIRD DISTRICT   \n",
       "44019  National Capital Region           NCR THIRD DISTRICT   \n",
       "44020  National Capital Region  MANILA, NCR, FIRST DISTRICT   \n",
       "44022  National Capital Region  MANILA, NCR, FIRST DISTRICT   \n",
       "44023  National Capital Region           NCR THIRD DISTRICT   \n",
       "\n",
       "                   school.cityhall           school.division  \\\n",
       "0                       PANGASINAN  Pangasinan II, Binalonan   \n",
       "2                       PANGASINAN    Pangasinan I, Lingayen   \n",
       "3                     ILOCOS NORTE              Ilocos Norte   \n",
       "4                     ILOCOS NORTE              Ilocos Norte   \n",
       "5                       ILOCOS SUR                Ilocos Sur   \n",
       "...                            ...                       ...   \n",
       "44018           CITY OF VALENZUELA           Valenzuela City   \n",
       "44019           CITY OF VALENZUELA           Valenzuela City   \n",
       "44020  MANILA, NCR, FIRST DISTRICT                    Manila   \n",
       "44022  MANILA, NCR, FIRST DISTRICT                    Manila   \n",
       "44023           CITY OF VALENZUELA           Valenzuela City   \n",
       "\n",
       "          school.citymuni                    school.district  \\\n",
       "0                BAUTISTA                           Bautista   \n",
       "2               BAYAMBANG                       Bayambang II   \n",
       "3                  PIDDIG                             Piddig   \n",
       "4                  BANGUI                             Bangui   \n",
       "5                   SIGAY  Salcedo-Galimuyod-Sigay-Del Pilar   \n",
       "...                   ...                                ...   \n",
       "44018  CITY OF VALENZUELA   Valenzuela City Central District   \n",
       "44019  CITY OF VALENZUELA   Valenzuela City Central District   \n",
       "44020            SAMPALOC                         Sampaloc V   \n",
       "44022          SAN MIGUEL                        Sta. Cruz V   \n",
       "44023  CITY OF VALENZUELA     Valenzuela City North District   \n",
       "\n",
       "      school.legdistrict  ... rooms.nonstandard.unused teachers.instructor  \\\n",
       "0           5th District  ...                      0.0                 0.0   \n",
       "2           3rd District  ...                      0.0                 0.0   \n",
       "3           1st District  ...                      0.0                 0.0   \n",
       "4           1st District  ...                      0.0                 0.0   \n",
       "5           2nd District  ...                      0.0                 0.0   \n",
       "...                  ...  ...                      ...                 ...   \n",
       "44018       1st District  ...                      0.0                 0.0   \n",
       "44019       2nd District  ...                      0.0                 0.0   \n",
       "44020       4th District  ...                      0.0                 0.0   \n",
       "44022       6th District  ...                      0.0                 0.0   \n",
       "44023       1st District  ...                      0.0                 0.0   \n",
       "\n",
       "      teachers.mobile  teachers.regular teachers.sped teacher.student  \\\n",
       "0                 1.0              20.0           0.0       39.050000   \n",
       "2                 1.0               6.0           0.0       29.166667   \n",
       "3                 1.0               6.0           0.0       29.833333   \n",
       "4                 1.0               8.0           0.0       33.875000   \n",
       "5                 1.0               3.0           0.0       12.666667   \n",
       "...               ...               ...           ...             ...   \n",
       "44018             2.0              16.0           0.0       48.062500   \n",
       "44019            18.0              84.0           1.0       38.500000   \n",
       "44020             7.0              39.0           0.0       19.076923   \n",
       "44022            27.0             164.0           0.0       23.048780   \n",
       "44023             0.0               6.0           0.0       95.166667   \n",
       "\n",
       "      rooms.student mooe.student  teacher.mooe     rooms.mooe  \n",
       "0         52.066667   436.619718  17050.000000   22733.333333  \n",
       "2         25.000000   754.285714  22000.000000   18857.142857  \n",
       "3         29.833333   754.189944  22500.000000   22500.000000  \n",
       "4         30.111111   671.586716  22750.000000   20222.222222  \n",
       "5          7.600000  2421.052632  30666.666667   18400.000000  \n",
       "...             ...          ...           ...            ...  \n",
       "44018     64.083333   807.542263  38812.500000   51750.000000  \n",
       "44019     98.000000   904.143476  34809.523810   88606.060606  \n",
       "44020     43.764706  1325.268817  25282.051282   58000.000000  \n",
       "44022     96.923077  1050.529101  24213.414634  101820.512821  \n",
       "44023     51.909091   943.957968  89833.333333   49000.000000  \n",
       "\n",
       "[40028 rows x 41 columns]"
      ]
     },
     "execution_count": 56,
     "metadata": {},
     "output_type": "execute_result"
    }
   ],
   "source": [
    "school_merged3[school_merged3.isna().any(axis=1)]\n"
   ]
  },
  {
   "cell_type": "code",
   "execution_count": 57,
   "metadata": {},
   "outputs": [],
   "source": [
    "#scaling the school merged 3\n",
    "from sklearn.preprocessing import StandardScaler\n",
    "school_merged4 = school_merged3[[\"teacher.student\",\"rooms.student\",\"mooe.student\", \"teacher.mooe\", \"rooms.mooe\"]]\n",
    "scaler = StandardScaler()\n",
    "school_merged_scaled = scaler.fit_transform(school_merged4)"
   ]
  },
  {
   "cell_type": "code",
   "execution_count": 58,
   "metadata": {},
   "outputs": [
    {
     "data": {
      "text/plain": [
       "teacher.student    1393\n",
       "rooms.student        42\n",
       "mooe.student          0\n",
       "teacher.mooe       1393\n",
       "rooms.mooe           42\n",
       "dtype: int64"
      ]
     },
     "execution_count": 58,
     "metadata": {},
     "output_type": "execute_result"
    }
   ],
   "source": [
    "school_merged4.isna().sum()"
   ]
  },
  {
   "cell_type": "code",
   "execution_count": 59,
   "metadata": {},
   "outputs": [
    {
     "data": {
      "text/html": [
       "<div>\n",
       "<style scoped>\n",
       "    .dataframe tbody tr th:only-of-type {\n",
       "        vertical-align: middle;\n",
       "    }\n",
       "\n",
       "    .dataframe tbody tr th {\n",
       "        vertical-align: top;\n",
       "    }\n",
       "\n",
       "    .dataframe thead th {\n",
       "        text-align: right;\n",
       "    }\n",
       "</style>\n",
       "<table border=\"1\" class=\"dataframe\">\n",
       "  <thead>\n",
       "    <tr style=\"text-align: right;\">\n",
       "      <th></th>\n",
       "      <th>teacher.student</th>\n",
       "      <th>rooms.student</th>\n",
       "      <th>mooe.student</th>\n",
       "      <th>teacher.mooe</th>\n",
       "      <th>rooms.mooe</th>\n",
       "    </tr>\n",
       "  </thead>\n",
       "  <tbody>\n",
       "    <tr>\n",
       "      <th>681</th>\n",
       "      <td>NaN</td>\n",
       "      <td>15.333333</td>\n",
       "      <td>1717.391304</td>\n",
       "      <td>NaN</td>\n",
       "      <td>26333.333333</td>\n",
       "    </tr>\n",
       "    <tr>\n",
       "      <th>740</th>\n",
       "      <td>NaN</td>\n",
       "      <td>21.000000</td>\n",
       "      <td>1523.809524</td>\n",
       "      <td>NaN</td>\n",
       "      <td>32000.000000</td>\n",
       "    </tr>\n",
       "    <tr>\n",
       "      <th>753</th>\n",
       "      <td>NaN</td>\n",
       "      <td>65.333333</td>\n",
       "      <td>530.612245</td>\n",
       "      <td>NaN</td>\n",
       "      <td>34666.666667</td>\n",
       "    </tr>\n",
       "    <tr>\n",
       "      <th>890</th>\n",
       "      <td>NaN</td>\n",
       "      <td>17.000000</td>\n",
       "      <td>1070.588235</td>\n",
       "      <td>NaN</td>\n",
       "      <td>18200.000000</td>\n",
       "    </tr>\n",
       "    <tr>\n",
       "      <th>1127</th>\n",
       "      <td>NaN</td>\n",
       "      <td>31.500000</td>\n",
       "      <td>1095.238095</td>\n",
       "      <td>NaN</td>\n",
       "      <td>34500.000000</td>\n",
       "    </tr>\n",
       "    <tr>\n",
       "      <th>...</th>\n",
       "      <td>...</td>\n",
       "      <td>...</td>\n",
       "      <td>...</td>\n",
       "      <td>...</td>\n",
       "      <td>...</td>\n",
       "    </tr>\n",
       "    <tr>\n",
       "      <th>43947</th>\n",
       "      <td>NaN</td>\n",
       "      <td>125.166667</td>\n",
       "      <td>721.704394</td>\n",
       "      <td>NaN</td>\n",
       "      <td>90333.333333</td>\n",
       "    </tr>\n",
       "    <tr>\n",
       "      <th>43948</th>\n",
       "      <td>NaN</td>\n",
       "      <td>60.913043</td>\n",
       "      <td>647.394718</td>\n",
       "      <td>NaN</td>\n",
       "      <td>39434.782609</td>\n",
       "    </tr>\n",
       "    <tr>\n",
       "      <th>43955</th>\n",
       "      <td>NaN</td>\n",
       "      <td>143.750000</td>\n",
       "      <td>431.304348</td>\n",
       "      <td>NaN</td>\n",
       "      <td>62000.000000</td>\n",
       "    </tr>\n",
       "    <tr>\n",
       "      <th>43964</th>\n",
       "      <td>NaN</td>\n",
       "      <td>134.958333</td>\n",
       "      <td>501.080580</td>\n",
       "      <td>NaN</td>\n",
       "      <td>67625.000000</td>\n",
       "    </tr>\n",
       "    <tr>\n",
       "      <th>44013</th>\n",
       "      <td>NaN</td>\n",
       "      <td>305.500000</td>\n",
       "      <td>567.921440</td>\n",
       "      <td>NaN</td>\n",
       "      <td>173500.000000</td>\n",
       "    </tr>\n",
       "  </tbody>\n",
       "</table>\n",
       "<p>1393 rows × 5 columns</p>\n",
       "</div>"
      ],
      "text/plain": [
       "       teacher.student  rooms.student  mooe.student  teacher.mooe  \\\n",
       "681                NaN      15.333333   1717.391304           NaN   \n",
       "740                NaN      21.000000   1523.809524           NaN   \n",
       "753                NaN      65.333333    530.612245           NaN   \n",
       "890                NaN      17.000000   1070.588235           NaN   \n",
       "1127               NaN      31.500000   1095.238095           NaN   \n",
       "...                ...            ...           ...           ...   \n",
       "43947              NaN     125.166667    721.704394           NaN   \n",
       "43948              NaN      60.913043    647.394718           NaN   \n",
       "43955              NaN     143.750000    431.304348           NaN   \n",
       "43964              NaN     134.958333    501.080580           NaN   \n",
       "44013              NaN     305.500000    567.921440           NaN   \n",
       "\n",
       "          rooms.mooe  \n",
       "681     26333.333333  \n",
       "740     32000.000000  \n",
       "753     34666.666667  \n",
       "890     18200.000000  \n",
       "1127    34500.000000  \n",
       "...              ...  \n",
       "43947   90333.333333  \n",
       "43948   39434.782609  \n",
       "43955   62000.000000  \n",
       "43964   67625.000000  \n",
       "44013  173500.000000  \n",
       "\n",
       "[1393 rows x 5 columns]"
      ]
     },
     "execution_count": 59,
     "metadata": {},
     "output_type": "execute_result"
    }
   ],
   "source": [
    "school_merged4[school_merged4.isna().any(axis=1)]"
   ]
  },
  {
   "cell_type": "code",
   "execution_count": 60,
   "metadata": {},
   "outputs": [
    {
     "data": {
      "text/html": [
       "<div>\n",
       "<style scoped>\n",
       "    .dataframe tbody tr th:only-of-type {\n",
       "        vertical-align: middle;\n",
       "    }\n",
       "\n",
       "    .dataframe tbody tr th {\n",
       "        vertical-align: top;\n",
       "    }\n",
       "\n",
       "    .dataframe thead th {\n",
       "        text-align: right;\n",
       "    }\n",
       "</style>\n",
       "<table border=\"1\" class=\"dataframe\">\n",
       "  <thead>\n",
       "    <tr style=\"text-align: right;\">\n",
       "      <th></th>\n",
       "      <th>school.id</th>\n",
       "      <th>school.name_x</th>\n",
       "      <th>school.region</th>\n",
       "      <th>school.region.name</th>\n",
       "      <th>school.province</th>\n",
       "      <th>school.cityhall</th>\n",
       "      <th>school.division</th>\n",
       "      <th>school.citymuni</th>\n",
       "      <th>school.district</th>\n",
       "      <th>school.legdistrict</th>\n",
       "      <th>...</th>\n",
       "      <th>rooms.nonstandard.unused</th>\n",
       "      <th>teachers.instructor</th>\n",
       "      <th>teachers.mobile</th>\n",
       "      <th>teachers.regular</th>\n",
       "      <th>teachers.sped</th>\n",
       "      <th>teacher.student</th>\n",
       "      <th>rooms.student</th>\n",
       "      <th>mooe.student</th>\n",
       "      <th>teacher.mooe</th>\n",
       "      <th>rooms.mooe</th>\n",
       "    </tr>\n",
       "  </thead>\n",
       "  <tbody>\n",
       "    <tr>\n",
       "      <th>0</th>\n",
       "      <td>101746</td>\n",
       "      <td>A. Diaz, Sr. ES</td>\n",
       "      <td>Region I</td>\n",
       "      <td>Ilocos Region</td>\n",
       "      <td>PANGASINAN</td>\n",
       "      <td>PANGASINAN</td>\n",
       "      <td>Pangasinan II, Binalonan</td>\n",
       "      <td>BAUTISTA</td>\n",
       "      <td>Bautista</td>\n",
       "      <td>5th District</td>\n",
       "      <td>...</td>\n",
       "      <td>0.0</td>\n",
       "      <td>0.0</td>\n",
       "      <td>1.0</td>\n",
       "      <td>20.0</td>\n",
       "      <td>0.0</td>\n",
       "      <td>39.050000</td>\n",
       "      <td>52.066667</td>\n",
       "      <td>436.619718</td>\n",
       "      <td>17050.000000</td>\n",
       "      <td>22733.333333</td>\n",
       "    </tr>\n",
       "    <tr>\n",
       "      <th>1</th>\n",
       "      <td>102193</td>\n",
       "      <td>A. P. Santos ES (SPED Center)</td>\n",
       "      <td>Region I</td>\n",
       "      <td>Ilocos Region</td>\n",
       "      <td>ILOCOS NORTE</td>\n",
       "      <td>ILOCOS NORTE</td>\n",
       "      <td>Laoag City</td>\n",
       "      <td>LAOAG CITY (Capital)</td>\n",
       "      <td>Laoag City District II</td>\n",
       "      <td>1st District</td>\n",
       "      <td>...</td>\n",
       "      <td>0.0</td>\n",
       "      <td>0.0</td>\n",
       "      <td>2.0</td>\n",
       "      <td>12.0</td>\n",
       "      <td>4.0</td>\n",
       "      <td>38.750000</td>\n",
       "      <td>35.769231</td>\n",
       "      <td>591.397849</td>\n",
       "      <td>22916.666667</td>\n",
       "      <td>21153.846154</td>\n",
       "    </tr>\n",
       "    <tr>\n",
       "      <th>2</th>\n",
       "      <td>101283</td>\n",
       "      <td>A.P. Guevara IS</td>\n",
       "      <td>Region I</td>\n",
       "      <td>Ilocos Region</td>\n",
       "      <td>PANGASINAN</td>\n",
       "      <td>PANGASINAN</td>\n",
       "      <td>Pangasinan I, Lingayen</td>\n",
       "      <td>BAYAMBANG</td>\n",
       "      <td>Bayambang II</td>\n",
       "      <td>3rd District</td>\n",
       "      <td>...</td>\n",
       "      <td>0.0</td>\n",
       "      <td>0.0</td>\n",
       "      <td>1.0</td>\n",
       "      <td>6.0</td>\n",
       "      <td>0.0</td>\n",
       "      <td>29.166667</td>\n",
       "      <td>25.000000</td>\n",
       "      <td>754.285714</td>\n",
       "      <td>22000.000000</td>\n",
       "      <td>18857.142857</td>\n",
       "    </tr>\n",
       "    <tr>\n",
       "      <th>3</th>\n",
       "      <td>100216</td>\n",
       "      <td>Ab-Abut ES</td>\n",
       "      <td>Region I</td>\n",
       "      <td>Ilocos Region</td>\n",
       "      <td>ILOCOS NORTE</td>\n",
       "      <td>ILOCOS NORTE</td>\n",
       "      <td>Ilocos Norte</td>\n",
       "      <td>PIDDIG</td>\n",
       "      <td>Piddig</td>\n",
       "      <td>1st District</td>\n",
       "      <td>...</td>\n",
       "      <td>0.0</td>\n",
       "      <td>0.0</td>\n",
       "      <td>1.0</td>\n",
       "      <td>6.0</td>\n",
       "      <td>0.0</td>\n",
       "      <td>29.833333</td>\n",
       "      <td>29.833333</td>\n",
       "      <td>754.189944</td>\n",
       "      <td>22500.000000</td>\n",
       "      <td>22500.000000</td>\n",
       "    </tr>\n",
       "    <tr>\n",
       "      <th>4</th>\n",
       "      <td>100043</td>\n",
       "      <td>Abaca ES</td>\n",
       "      <td>Region I</td>\n",
       "      <td>Ilocos Region</td>\n",
       "      <td>ILOCOS NORTE</td>\n",
       "      <td>ILOCOS NORTE</td>\n",
       "      <td>Ilocos Norte</td>\n",
       "      <td>BANGUI</td>\n",
       "      <td>Bangui</td>\n",
       "      <td>1st District</td>\n",
       "      <td>...</td>\n",
       "      <td>0.0</td>\n",
       "      <td>0.0</td>\n",
       "      <td>1.0</td>\n",
       "      <td>8.0</td>\n",
       "      <td>0.0</td>\n",
       "      <td>33.875000</td>\n",
       "      <td>30.111111</td>\n",
       "      <td>671.586716</td>\n",
       "      <td>22750.000000</td>\n",
       "      <td>20222.222222</td>\n",
       "    </tr>\n",
       "    <tr>\n",
       "      <th>...</th>\n",
       "      <td>...</td>\n",
       "      <td>...</td>\n",
       "      <td>...</td>\n",
       "      <td>...</td>\n",
       "      <td>...</td>\n",
       "      <td>...</td>\n",
       "      <td>...</td>\n",
       "      <td>...</td>\n",
       "      <td>...</td>\n",
       "      <td>...</td>\n",
       "      <td>...</td>\n",
       "      <td>...</td>\n",
       "      <td>...</td>\n",
       "      <td>...</td>\n",
       "      <td>...</td>\n",
       "      <td>...</td>\n",
       "      <td>...</td>\n",
       "      <td>...</td>\n",
       "      <td>...</td>\n",
       "      <td>...</td>\n",
       "      <td>...</td>\n",
       "    </tr>\n",
       "    <tr>\n",
       "      <th>44020</th>\n",
       "      <td>305308</td>\n",
       "      <td>Valeriano E. Fugoso Memorial High School</td>\n",
       "      <td>NCR</td>\n",
       "      <td>National Capital Region</td>\n",
       "      <td>MANILA, NCR, FIRST DISTRICT</td>\n",
       "      <td>MANILA, NCR, FIRST DISTRICT</td>\n",
       "      <td>Manila</td>\n",
       "      <td>SAMPALOC</td>\n",
       "      <td>Sampaloc V</td>\n",
       "      <td>4th District</td>\n",
       "      <td>...</td>\n",
       "      <td>0.0</td>\n",
       "      <td>0.0</td>\n",
       "      <td>7.0</td>\n",
       "      <td>39.0</td>\n",
       "      <td>0.0</td>\n",
       "      <td>19.076923</td>\n",
       "      <td>43.764706</td>\n",
       "      <td>1325.268817</td>\n",
       "      <td>25282.051282</td>\n",
       "      <td>58000.000000</td>\n",
       "    </tr>\n",
       "    <tr>\n",
       "      <th>44021</th>\n",
       "      <td>320402</td>\n",
       "      <td>Vicente Trinidad NHS (Punturin NHS)</td>\n",
       "      <td>NCR</td>\n",
       "      <td>National Capital Region</td>\n",
       "      <td>NCR THIRD DISTRICT</td>\n",
       "      <td>CITY OF VALENZUELA</td>\n",
       "      <td>Valenzuela City</td>\n",
       "      <td>CITY OF VALENZUELA</td>\n",
       "      <td>Valenzuela City Central District</td>\n",
       "      <td>1st District</td>\n",
       "      <td>...</td>\n",
       "      <td>0.0</td>\n",
       "      <td>0.0</td>\n",
       "      <td>4.0</td>\n",
       "      <td>41.0</td>\n",
       "      <td>0.0</td>\n",
       "      <td>51.536585</td>\n",
       "      <td>91.869565</td>\n",
       "      <td>850.922858</td>\n",
       "      <td>43853.658537</td>\n",
       "      <td>78173.913043</td>\n",
       "    </tr>\n",
       "    <tr>\n",
       "      <th>44022</th>\n",
       "      <td>305315</td>\n",
       "      <td>Victoriano Mapa High School</td>\n",
       "      <td>NCR</td>\n",
       "      <td>National Capital Region</td>\n",
       "      <td>MANILA, NCR, FIRST DISTRICT</td>\n",
       "      <td>MANILA, NCR, FIRST DISTRICT</td>\n",
       "      <td>Manila</td>\n",
       "      <td>SAN MIGUEL</td>\n",
       "      <td>Sta. Cruz V</td>\n",
       "      <td>6th District</td>\n",
       "      <td>...</td>\n",
       "      <td>0.0</td>\n",
       "      <td>0.0</td>\n",
       "      <td>27.0</td>\n",
       "      <td>164.0</td>\n",
       "      <td>0.0</td>\n",
       "      <td>23.048780</td>\n",
       "      <td>96.923077</td>\n",
       "      <td>1050.529101</td>\n",
       "      <td>24213.414634</td>\n",
       "      <td>101820.512821</td>\n",
       "    </tr>\n",
       "    <tr>\n",
       "      <th>44023</th>\n",
       "      <td>320407</td>\n",
       "      <td>Wawangpulo National High School</td>\n",
       "      <td>NCR</td>\n",
       "      <td>National Capital Region</td>\n",
       "      <td>NCR THIRD DISTRICT</td>\n",
       "      <td>CITY OF VALENZUELA</td>\n",
       "      <td>Valenzuela City</td>\n",
       "      <td>CITY OF VALENZUELA</td>\n",
       "      <td>Valenzuela City North District</td>\n",
       "      <td>1st District</td>\n",
       "      <td>...</td>\n",
       "      <td>0.0</td>\n",
       "      <td>0.0</td>\n",
       "      <td>0.0</td>\n",
       "      <td>6.0</td>\n",
       "      <td>0.0</td>\n",
       "      <td>95.166667</td>\n",
       "      <td>51.909091</td>\n",
       "      <td>943.957968</td>\n",
       "      <td>89833.333333</td>\n",
       "      <td>49000.000000</td>\n",
       "    </tr>\n",
       "    <tr>\n",
       "      <th>44024</th>\n",
       "      <td>305465</td>\n",
       "      <td>Western Bicutan NHS</td>\n",
       "      <td>NCR</td>\n",
       "      <td>National Capital Region</td>\n",
       "      <td>NCR FOURTH DISTRICT</td>\n",
       "      <td>TAGUIG CITY</td>\n",
       "      <td>Taguig</td>\n",
       "      <td>TAGUIG CITY</td>\n",
       "      <td>Taguig District III</td>\n",
       "      <td>2nd District</td>\n",
       "      <td>...</td>\n",
       "      <td>0.0</td>\n",
       "      <td>0.0</td>\n",
       "      <td>1.0</td>\n",
       "      <td>96.0</td>\n",
       "      <td>0.0</td>\n",
       "      <td>48.052083</td>\n",
       "      <td>104.840909</td>\n",
       "      <td>779.319315</td>\n",
       "      <td>37447.916667</td>\n",
       "      <td>81704.545455</td>\n",
       "    </tr>\n",
       "  </tbody>\n",
       "</table>\n",
       "<p>41271 rows × 41 columns</p>\n",
       "</div>"
      ],
      "text/plain": [
       "       school.id                             school.name_x school.region  \\\n",
       "0         101746                           A. Diaz, Sr. ES      Region I   \n",
       "1         102193             A. P. Santos ES (SPED Center)      Region I   \n",
       "2         101283                           A.P. Guevara IS      Region I   \n",
       "3         100216                                Ab-Abut ES      Region I   \n",
       "4         100043                                  Abaca ES      Region I   \n",
       "...          ...                                       ...           ...   \n",
       "44020     305308  Valeriano E. Fugoso Memorial High School           NCR   \n",
       "44021     320402       Vicente Trinidad NHS (Punturin NHS)           NCR   \n",
       "44022     305315               Victoriano Mapa High School           NCR   \n",
       "44023     320407           Wawangpulo National High School           NCR   \n",
       "44024     305465                       Western Bicutan NHS           NCR   \n",
       "\n",
       "            school.region.name              school.province  \\\n",
       "0                Ilocos Region                   PANGASINAN   \n",
       "1                Ilocos Region                 ILOCOS NORTE   \n",
       "2                Ilocos Region                   PANGASINAN   \n",
       "3                Ilocos Region                 ILOCOS NORTE   \n",
       "4                Ilocos Region                 ILOCOS NORTE   \n",
       "...                        ...                          ...   \n",
       "44020  National Capital Region  MANILA, NCR, FIRST DISTRICT   \n",
       "44021  National Capital Region           NCR THIRD DISTRICT   \n",
       "44022  National Capital Region  MANILA, NCR, FIRST DISTRICT   \n",
       "44023  National Capital Region           NCR THIRD DISTRICT   \n",
       "44024  National Capital Region          NCR FOURTH DISTRICT   \n",
       "\n",
       "                   school.cityhall           school.division  \\\n",
       "0                       PANGASINAN  Pangasinan II, Binalonan   \n",
       "1                     ILOCOS NORTE                Laoag City   \n",
       "2                       PANGASINAN    Pangasinan I, Lingayen   \n",
       "3                     ILOCOS NORTE              Ilocos Norte   \n",
       "4                     ILOCOS NORTE              Ilocos Norte   \n",
       "...                            ...                       ...   \n",
       "44020  MANILA, NCR, FIRST DISTRICT                    Manila   \n",
       "44021           CITY OF VALENZUELA           Valenzuela City   \n",
       "44022  MANILA, NCR, FIRST DISTRICT                    Manila   \n",
       "44023           CITY OF VALENZUELA           Valenzuela City   \n",
       "44024                  TAGUIG CITY                    Taguig   \n",
       "\n",
       "            school.citymuni                   school.district  \\\n",
       "0                  BAUTISTA                          Bautista   \n",
       "1      LAOAG CITY (Capital)            Laoag City District II   \n",
       "2                 BAYAMBANG                      Bayambang II   \n",
       "3                    PIDDIG                            Piddig   \n",
       "4                    BANGUI                            Bangui   \n",
       "...                     ...                               ...   \n",
       "44020              SAMPALOC                        Sampaloc V   \n",
       "44021    CITY OF VALENZUELA  Valenzuela City Central District   \n",
       "44022            SAN MIGUEL                       Sta. Cruz V   \n",
       "44023    CITY OF VALENZUELA    Valenzuela City North District   \n",
       "44024           TAGUIG CITY               Taguig District III   \n",
       "\n",
       "      school.legdistrict  ... rooms.nonstandard.unused teachers.instructor  \\\n",
       "0           5th District  ...                      0.0                 0.0   \n",
       "1           1st District  ...                      0.0                 0.0   \n",
       "2           3rd District  ...                      0.0                 0.0   \n",
       "3           1st District  ...                      0.0                 0.0   \n",
       "4           1st District  ...                      0.0                 0.0   \n",
       "...                  ...  ...                      ...                 ...   \n",
       "44020       4th District  ...                      0.0                 0.0   \n",
       "44021       1st District  ...                      0.0                 0.0   \n",
       "44022       6th District  ...                      0.0                 0.0   \n",
       "44023       1st District  ...                      0.0                 0.0   \n",
       "44024       2nd District  ...                      0.0                 0.0   \n",
       "\n",
       "      teachers.mobile  teachers.regular teachers.sped teacher.student  \\\n",
       "0                 1.0              20.0           0.0       39.050000   \n",
       "1                 2.0              12.0           4.0       38.750000   \n",
       "2                 1.0               6.0           0.0       29.166667   \n",
       "3                 1.0               6.0           0.0       29.833333   \n",
       "4                 1.0               8.0           0.0       33.875000   \n",
       "...               ...               ...           ...             ...   \n",
       "44020             7.0              39.0           0.0       19.076923   \n",
       "44021             4.0              41.0           0.0       51.536585   \n",
       "44022            27.0             164.0           0.0       23.048780   \n",
       "44023             0.0               6.0           0.0       95.166667   \n",
       "44024             1.0              96.0           0.0       48.052083   \n",
       "\n",
       "      rooms.student mooe.student  teacher.mooe     rooms.mooe  \n",
       "0         52.066667   436.619718  17050.000000   22733.333333  \n",
       "1         35.769231   591.397849  22916.666667   21153.846154  \n",
       "2         25.000000   754.285714  22000.000000   18857.142857  \n",
       "3         29.833333   754.189944  22500.000000   22500.000000  \n",
       "4         30.111111   671.586716  22750.000000   20222.222222  \n",
       "...             ...          ...           ...            ...  \n",
       "44020     43.764706  1325.268817  25282.051282   58000.000000  \n",
       "44021     91.869565   850.922858  43853.658537   78173.913043  \n",
       "44022     96.923077  1050.529101  24213.414634  101820.512821  \n",
       "44023     51.909091   943.957968  89833.333333   49000.000000  \n",
       "44024    104.840909   779.319315  37447.916667   81704.545455  \n",
       "\n",
       "[41271 rows x 41 columns]"
      ]
     },
     "execution_count": 60,
     "metadata": {},
     "output_type": "execute_result"
    }
   ],
   "source": [
    "school_merged3.drop( school_merged4[school_merged4.isna().any(axis=1)].index , inplace=True) # 1393 rows dropped\n",
    "school_merged3"
   ]
  },
  {
   "cell_type": "code",
   "execution_count": 61,
   "metadata": {},
   "outputs": [
    {
     "data": {
      "text/html": [
       "<div>\n",
       "<style scoped>\n",
       "    .dataframe tbody tr th:only-of-type {\n",
       "        vertical-align: middle;\n",
       "    }\n",
       "\n",
       "    .dataframe tbody tr th {\n",
       "        vertical-align: top;\n",
       "    }\n",
       "\n",
       "    .dataframe thead th {\n",
       "        text-align: right;\n",
       "    }\n",
       "</style>\n",
       "<table border=\"1\" class=\"dataframe\">\n",
       "  <thead>\n",
       "    <tr style=\"text-align: right;\">\n",
       "      <th></th>\n",
       "      <th>teacher.student</th>\n",
       "      <th>rooms.student</th>\n",
       "      <th>mooe.student</th>\n",
       "    </tr>\n",
       "  </thead>\n",
       "  <tbody>\n",
       "    <tr>\n",
       "      <th>0</th>\n",
       "      <td>39.050000</td>\n",
       "      <td>52.066667</td>\n",
       "      <td>436.619718</td>\n",
       "    </tr>\n",
       "    <tr>\n",
       "      <th>1</th>\n",
       "      <td>38.750000</td>\n",
       "      <td>35.769231</td>\n",
       "      <td>591.397849</td>\n",
       "    </tr>\n",
       "    <tr>\n",
       "      <th>2</th>\n",
       "      <td>29.166667</td>\n",
       "      <td>25.000000</td>\n",
       "      <td>754.285714</td>\n",
       "    </tr>\n",
       "    <tr>\n",
       "      <th>3</th>\n",
       "      <td>29.833333</td>\n",
       "      <td>29.833333</td>\n",
       "      <td>754.189944</td>\n",
       "    </tr>\n",
       "    <tr>\n",
       "      <th>4</th>\n",
       "      <td>33.875000</td>\n",
       "      <td>30.111111</td>\n",
       "      <td>671.586716</td>\n",
       "    </tr>\n",
       "    <tr>\n",
       "      <th>...</th>\n",
       "      <td>...</td>\n",
       "      <td>...</td>\n",
       "      <td>...</td>\n",
       "    </tr>\n",
       "    <tr>\n",
       "      <th>44020</th>\n",
       "      <td>19.076923</td>\n",
       "      <td>43.764706</td>\n",
       "      <td>1325.268817</td>\n",
       "    </tr>\n",
       "    <tr>\n",
       "      <th>44021</th>\n",
       "      <td>51.536585</td>\n",
       "      <td>91.869565</td>\n",
       "      <td>850.922858</td>\n",
       "    </tr>\n",
       "    <tr>\n",
       "      <th>44022</th>\n",
       "      <td>23.048780</td>\n",
       "      <td>96.923077</td>\n",
       "      <td>1050.529101</td>\n",
       "    </tr>\n",
       "    <tr>\n",
       "      <th>44023</th>\n",
       "      <td>95.166667</td>\n",
       "      <td>51.909091</td>\n",
       "      <td>943.957968</td>\n",
       "    </tr>\n",
       "    <tr>\n",
       "      <th>44024</th>\n",
       "      <td>48.052083</td>\n",
       "      <td>104.840909</td>\n",
       "      <td>779.319315</td>\n",
       "    </tr>\n",
       "  </tbody>\n",
       "</table>\n",
       "<p>41271 rows × 3 columns</p>\n",
       "</div>"
      ],
      "text/plain": [
       "       teacher.student  rooms.student  mooe.student\n",
       "0            39.050000      52.066667    436.619718\n",
       "1            38.750000      35.769231    591.397849\n",
       "2            29.166667      25.000000    754.285714\n",
       "3            29.833333      29.833333    754.189944\n",
       "4            33.875000      30.111111    671.586716\n",
       "...                ...            ...           ...\n",
       "44020        19.076923      43.764706   1325.268817\n",
       "44021        51.536585      91.869565    850.922858\n",
       "44022        23.048780      96.923077   1050.529101\n",
       "44023        95.166667      51.909091    943.957968\n",
       "44024        48.052083     104.840909    779.319315\n",
       "\n",
       "[41271 rows x 3 columns]"
      ]
     },
     "execution_count": 61,
     "metadata": {},
     "output_type": "execute_result"
    }
   ],
   "source": [
    "school_merged5 = school_merged3[[\"teacher.student\",\"rooms.student\",\"mooe.student\"]]\n",
    "school_merged5"
   ]
  },
  {
   "cell_type": "code",
   "execution_count": 427,
   "metadata": {},
   "outputs": [
    {
     "name": "stderr",
     "output_type": "stream",
     "text": [
      "/opt/anaconda3/lib/python3.8/site-packages/seaborn/_decorators.py:36: FutureWarning: Pass the following variables as keyword args: x, y. From version 0.12, the only valid positional argument will be `data`, and passing other arguments without an explicit keyword will result in an error or misinterpretation.\n",
      "  warnings.warn(\n"
     ]
    },
    {
     "data": {
      "text/plain": [
       "<AxesSubplot:xlabel='variable', ylabel='value'>"
      ]
     },
     "execution_count": 427,
     "metadata": {},
     "output_type": "execute_result"
    },
    {
     "data": {
      "image/png": "[encoded data removed]",
      "text/plain": [
       "<Figure size 432x288 with 1 Axes>"
      ]
     },
     "metadata": {
      "needs_background": "light"
     },
     "output_type": "display_data"
    }
   ],
   "source": [
    "meltedstudent = school_merged5.melt()\n",
    "\n",
    "sns.boxplot(meltedstudent.variable, meltedstudent.value)"
   ]
  },
  {
   "cell_type": "code",
   "execution_count": 428,
   "metadata": {},
   "outputs": [],
   "source": [
    "# Insert code here\n",
    "Q1 = meltedstudent['value'].quantile(0.25)\n",
    "Q3 = meltedstudent['value'].quantile(0.75)\n",
    "IQR = Q3 - Q1\n",
    "meltedstudent = (meltedstudent[(meltedstudent['value'] >= Q1 - 1.5*IQR) & \n",
    "                               (meltedstudent['value'] <= Q3 + 1.5*IQR)])"
   ]
  },
  {
   "cell_type": "code",
   "execution_count": 429,
   "metadata": {},
   "outputs": [
    {
     "name": "stderr",
     "output_type": "stream",
     "text": [
      "/opt/anaconda3/lib/python3.8/site-packages/seaborn/_decorators.py:36: FutureWarning: Pass the following variables as keyword args: x, y. From version 0.12, the only valid positional argument will be `data`, and passing other arguments without an explicit keyword will result in an error or misinterpretation.\n",
      "  warnings.warn(\n"
     ]
    },
    {
     "data": {
      "text/plain": [
       "<AxesSubplot:xlabel='variable', ylabel='value'>"
      ]
     },
     "execution_count": 429,
     "metadata": {},
     "output_type": "execute_result"
    },
    {
     "data": {
      "image/png": "[encoded data removed]",
      "text/plain": [
       "<Figure size 432x288 with 1 Axes>"
      ]
     },
     "metadata": {
      "needs_background": "light"
     },
     "output_type": "display_data"
    }
   ],
   "source": [
    "sns.boxplot(meltedstudent.variable, meltedstudent.value)"
   ]
  },
  {
   "cell_type": "code",
   "execution_count": 430,
   "metadata": {},
   "outputs": [
    {
     "data": {
      "text/html": [
       "<div>\n",
       "<style scoped>\n",
       "    .dataframe tbody tr th:only-of-type {\n",
       "        vertical-align: middle;\n",
       "    }\n",
       "\n",
       "    .dataframe tbody tr th {\n",
       "        vertical-align: top;\n",
       "    }\n",
       "\n",
       "    .dataframe thead th {\n",
       "        text-align: right;\n",
       "    }\n",
       "</style>\n",
       "<table border=\"1\" class=\"dataframe\">\n",
       "  <thead>\n",
       "    <tr style=\"text-align: right;\">\n",
       "      <th></th>\n",
       "      <th>teacher.mooe</th>\n",
       "      <th>rooms.mooe</th>\n",
       "      <th>mooe.student</th>\n",
       "    </tr>\n",
       "  </thead>\n",
       "  <tbody>\n",
       "    <tr>\n",
       "      <th>0</th>\n",
       "      <td>17050.000000</td>\n",
       "      <td>22733.333333</td>\n",
       "      <td>436.619718</td>\n",
       "    </tr>\n",
       "    <tr>\n",
       "      <th>1</th>\n",
       "      <td>22916.666667</td>\n",
       "      <td>21153.846154</td>\n",
       "      <td>591.397849</td>\n",
       "    </tr>\n",
       "    <tr>\n",
       "      <th>2</th>\n",
       "      <td>22000.000000</td>\n",
       "      <td>18857.142857</td>\n",
       "      <td>754.285714</td>\n",
       "    </tr>\n",
       "    <tr>\n",
       "      <th>3</th>\n",
       "      <td>22500.000000</td>\n",
       "      <td>22500.000000</td>\n",
       "      <td>754.189944</td>\n",
       "    </tr>\n",
       "    <tr>\n",
       "      <th>4</th>\n",
       "      <td>22750.000000</td>\n",
       "      <td>20222.222222</td>\n",
       "      <td>671.586716</td>\n",
       "    </tr>\n",
       "    <tr>\n",
       "      <th>...</th>\n",
       "      <td>...</td>\n",
       "      <td>...</td>\n",
       "      <td>...</td>\n",
       "    </tr>\n",
       "    <tr>\n",
       "      <th>44020</th>\n",
       "      <td>25282.051282</td>\n",
       "      <td>58000.000000</td>\n",
       "      <td>1325.268817</td>\n",
       "    </tr>\n",
       "    <tr>\n",
       "      <th>44021</th>\n",
       "      <td>43853.658537</td>\n",
       "      <td>78173.913043</td>\n",
       "      <td>850.922858</td>\n",
       "    </tr>\n",
       "    <tr>\n",
       "      <th>44022</th>\n",
       "      <td>24213.414634</td>\n",
       "      <td>101820.512821</td>\n",
       "      <td>1050.529101</td>\n",
       "    </tr>\n",
       "    <tr>\n",
       "      <th>44023</th>\n",
       "      <td>89833.333333</td>\n",
       "      <td>49000.000000</td>\n",
       "      <td>943.957968</td>\n",
       "    </tr>\n",
       "    <tr>\n",
       "      <th>44024</th>\n",
       "      <td>37447.916667</td>\n",
       "      <td>81704.545455</td>\n",
       "      <td>779.319315</td>\n",
       "    </tr>\n",
       "  </tbody>\n",
       "</table>\n",
       "<p>41271 rows × 3 columns</p>\n",
       "</div>"
      ],
      "text/plain": [
       "       teacher.mooe     rooms.mooe  mooe.student\n",
       "0      17050.000000   22733.333333    436.619718\n",
       "1      22916.666667   21153.846154    591.397849\n",
       "2      22000.000000   18857.142857    754.285714\n",
       "3      22500.000000   22500.000000    754.189944\n",
       "4      22750.000000   20222.222222    671.586716\n",
       "...             ...            ...           ...\n",
       "44020  25282.051282   58000.000000   1325.268817\n",
       "44021  43853.658537   78173.913043    850.922858\n",
       "44022  24213.414634  101820.512821   1050.529101\n",
       "44023  89833.333333   49000.000000    943.957968\n",
       "44024  37447.916667   81704.545455    779.319315\n",
       "\n",
       "[41271 rows x 3 columns]"
      ]
     },
     "execution_count": 430,
     "metadata": {},
     "output_type": "execute_result"
    }
   ],
   "source": [
    "school_merged6 = school_merged3[[\"teacher.mooe\",\"rooms.mooe\",\"mooe.student\"]]\n",
    "school_merged6"
   ]
  },
  {
   "cell_type": "code",
   "execution_count": 431,
   "metadata": {},
   "outputs": [
    {
     "name": "stderr",
     "output_type": "stream",
     "text": [
      "/opt/anaconda3/lib/python3.8/site-packages/seaborn/_decorators.py:36: FutureWarning: Pass the following variables as keyword args: x, y. From version 0.12, the only valid positional argument will be `data`, and passing other arguments without an explicit keyword will result in an error or misinterpretation.\n",
      "  warnings.warn(\n"
     ]
    },
    {
     "data": {
      "text/plain": [
       "<AxesSubplot:xlabel='variable', ylabel='value'>"
      ]
     },
     "execution_count": 431,
     "metadata": {},
     "output_type": "execute_result"
    },
    {
     "data": {
      "image/png": "[encoded data removed]",
      "text/plain": [
       "<Figure size 432x288 with 1 Axes>"
      ]
     },
     "metadata": {
      "needs_background": "light"
     },
     "output_type": "display_data"
    }
   ],
   "source": [
    "meltedmooe = school_merged6.melt()\n",
    "\n",
    "sns.boxplot(meltedmooe.variable, meltedmooe.value)"
   ]
  },
  {
   "cell_type": "code",
   "execution_count": 432,
   "metadata": {},
   "outputs": [],
   "source": [
    "# Insert code here\n",
    "Q1 = meltedmooe['value'].quantile(0.25)\n",
    "Q3 = meltedmooe['value'].quantile(0.75)\n",
    "IQR = Q3 - Q1\n",
    "meltedmooe = (meltedmooe[(meltedmooe['value'] >= Q1 - 1.5*IQR) & \n",
    "                         (meltedmooe['value'] <= Q3 + 1.5*IQR)])"
   ]
  },
  {
   "cell_type": "code",
   "execution_count": 433,
   "metadata": {},
   "outputs": [
    {
     "name": "stderr",
     "output_type": "stream",
     "text": [
      "/opt/anaconda3/lib/python3.8/site-packages/seaborn/_decorators.py:36: FutureWarning: Pass the following variables as keyword args: x, y. From version 0.12, the only valid positional argument will be `data`, and passing other arguments without an explicit keyword will result in an error or misinterpretation.\n",
      "  warnings.warn(\n"
     ]
    },
    {
     "data": {
      "text/plain": [
       "<AxesSubplot:xlabel='variable', ylabel='value'>"
      ]
     },
     "execution_count": 433,
     "metadata": {},
     "output_type": "execute_result"
    },
    {
     "data": {
      "image/png": "[encoded data removed]",
      "text/plain": [
       "<Figure size 432x288 with 1 Axes>"
      ]
     },
     "metadata": {
      "needs_background": "light"
     },
     "output_type": "display_data"
    }
   ],
   "source": [
    "sns.boxplot(meltedmooe.variable, meltedmooe.value)"
   ]
  },
  {
   "cell_type": "code",
   "execution_count": null,
   "metadata": {},
   "outputs": [],
   "source": []
  },
  {
   "cell_type": "code",
   "execution_count": null,
   "metadata": {},
   "outputs": [],
   "source": []
  },
  {
   "cell_type": "code",
   "execution_count": null,
   "metadata": {},
   "outputs": [],
   "source": []
  },
  {
   "cell_type": "code",
   "execution_count": null,
   "metadata": {},
   "outputs": [],
   "source": []
  },
  {
   "cell_type": "code",
   "execution_count": null,
   "metadata": {},
   "outputs": [],
   "source": []
  },
  {
   "cell_type": "code",
   "execution_count": null,
   "metadata": {},
   "outputs": [],
   "source": []
  },
  {
   "cell_type": "code",
   "execution_count": 434,
   "metadata": {},
   "outputs": [
    {
     "data": {
      "text/html": [
       "<div>\n",
       "<style scoped>\n",
       "    .dataframe tbody tr th:only-of-type {\n",
       "        vertical-align: middle;\n",
       "    }\n",
       "\n",
       "    .dataframe tbody tr th {\n",
       "        vertical-align: top;\n",
       "    }\n",
       "\n",
       "    .dataframe thead th {\n",
       "        text-align: right;\n",
       "    }\n",
       "</style>\n",
       "<table border=\"1\" class=\"dataframe\">\n",
       "  <thead>\n",
       "    <tr style=\"text-align: right;\">\n",
       "      <th></th>\n",
       "      <th>school.id</th>\n",
       "      <th>teacher.student</th>\n",
       "      <th>rooms.student</th>\n",
       "      <th>mooe.student</th>\n",
       "      <th>teacher.mooe</th>\n",
       "      <th>rooms.mooe</th>\n",
       "    </tr>\n",
       "  </thead>\n",
       "  <tbody>\n",
       "    <tr>\n",
       "      <th>0</th>\n",
       "      <td>101746</td>\n",
       "      <td>39.050000</td>\n",
       "      <td>52.066667</td>\n",
       "      <td>436.619718</td>\n",
       "      <td>17050.000000</td>\n",
       "      <td>22733.333333</td>\n",
       "    </tr>\n",
       "    <tr>\n",
       "      <th>1</th>\n",
       "      <td>102193</td>\n",
       "      <td>38.750000</td>\n",
       "      <td>35.769231</td>\n",
       "      <td>591.397849</td>\n",
       "      <td>22916.666667</td>\n",
       "      <td>21153.846154</td>\n",
       "    </tr>\n",
       "    <tr>\n",
       "      <th>2</th>\n",
       "      <td>101283</td>\n",
       "      <td>29.166667</td>\n",
       "      <td>25.000000</td>\n",
       "      <td>754.285714</td>\n",
       "      <td>22000.000000</td>\n",
       "      <td>18857.142857</td>\n",
       "    </tr>\n",
       "    <tr>\n",
       "      <th>3</th>\n",
       "      <td>100216</td>\n",
       "      <td>29.833333</td>\n",
       "      <td>29.833333</td>\n",
       "      <td>754.189944</td>\n",
       "      <td>22500.000000</td>\n",
       "      <td>22500.000000</td>\n",
       "    </tr>\n",
       "    <tr>\n",
       "      <th>4</th>\n",
       "      <td>100043</td>\n",
       "      <td>33.875000</td>\n",
       "      <td>30.111111</td>\n",
       "      <td>671.586716</td>\n",
       "      <td>22750.000000</td>\n",
       "      <td>20222.222222</td>\n",
       "    </tr>\n",
       "  </tbody>\n",
       "</table>\n",
       "</div>"
      ],
      "text/plain": [
       "   school.id  teacher.student  rooms.student  mooe.student  teacher.mooe  \\\n",
       "0     101746        39.050000      52.066667    436.619718  17050.000000   \n",
       "1     102193        38.750000      35.769231    591.397849  22916.666667   \n",
       "2     101283        29.166667      25.000000    754.285714  22000.000000   \n",
       "3     100216        29.833333      29.833333    754.189944  22500.000000   \n",
       "4     100043        33.875000      30.111111    671.586716  22750.000000   \n",
       "\n",
       "     rooms.mooe  \n",
       "0  22733.333333  \n",
       "1  21153.846154  \n",
       "2  18857.142857  \n",
       "3  22500.000000  \n",
       "4  20222.222222  "
      ]
     },
     "execution_count": 434,
     "metadata": {},
     "output_type": "execute_result"
    }
   ],
   "source": [
    "no_outliers = pd.read_csv(\"no_outliers.csv\", index_col=0)\n",
    "no_outliers.head()"
   ]
  },
  {
   "cell_type": "code",
   "execution_count": 435,
   "metadata": {},
   "outputs": [
    {
     "data": {
      "text/html": [
       "<div>\n",
       "<style scoped>\n",
       "    .dataframe tbody tr th:only-of-type {\n",
       "        vertical-align: middle;\n",
       "    }\n",
       "\n",
       "    .dataframe tbody tr th {\n",
       "        vertical-align: top;\n",
       "    }\n",
       "\n",
       "    .dataframe thead th {\n",
       "        text-align: right;\n",
       "    }\n",
       "</style>\n",
       "<table border=\"1\" class=\"dataframe\">\n",
       "  <thead>\n",
       "    <tr style=\"text-align: right;\">\n",
       "      <th></th>\n",
       "      <th>school.id</th>\n",
       "      <th>teacher.student</th>\n",
       "      <th>rooms.student</th>\n",
       "      <th>mooe.student</th>\n",
       "      <th>teacher.mooe</th>\n",
       "      <th>rooms.mooe</th>\n",
       "    </tr>\n",
       "  </thead>\n",
       "  <tbody>\n",
       "  </tbody>\n",
       "</table>\n",
       "</div>"
      ],
      "text/plain": [
       "Empty DataFrame\n",
       "Columns: [school.id, teacher.student, rooms.student, mooe.student, teacher.mooe, rooms.mooe]\n",
       "Index: []"
      ]
     },
     "execution_count": 435,
     "metadata": {},
     "output_type": "execute_result"
    }
   ],
   "source": [
    "no_outliers[no_outliers.isna().any(axis=1)]"
   ]
  },
  {
   "cell_type": "code",
   "execution_count": 436,
   "metadata": {},
   "outputs": [
    {
     "name": "stderr",
     "output_type": "stream",
     "text": [
      "/opt/anaconda3/lib/python3.8/site-packages/seaborn/_decorators.py:36: FutureWarning: Pass the following variables as keyword args: x, y. From version 0.12, the only valid positional argument will be `data`, and passing other arguments without an explicit keyword will result in an error or misinterpretation.\n",
      "  warnings.warn(\n"
     ]
    },
    {
     "data": {
      "text/plain": [
       "<AxesSubplot:xlabel='variable', ylabel='value'>"
      ]
     },
     "execution_count": 436,
     "metadata": {},
     "output_type": "execute_result"
    },
    {
     "data": {
      "image/png": "[encoded data removed]",
      "text/plain": [
       "<Figure size 432x288 with 1 Axes>"
      ]
     },
     "metadata": {
      "needs_background": "light"
     },
     "output_type": "display_data"
    }
   ],
   "source": [
    "meltedstudent = no_outliers[[\"teacher.student\",\"rooms.student\",\"mooe.student\"]].melt()\n",
    "\n",
    "sns.boxplot(meltedstudent.variable, meltedstudent.value)"
   ]
  },
  {
   "cell_type": "code",
   "execution_count": 437,
   "metadata": {},
   "outputs": [
    {
     "name": "stderr",
     "output_type": "stream",
     "text": [
      "/opt/anaconda3/lib/python3.8/site-packages/seaborn/_decorators.py:36: FutureWarning: Pass the following variables as keyword args: x, y. From version 0.12, the only valid positional argument will be `data`, and passing other arguments without an explicit keyword will result in an error or misinterpretation.\n",
      "  warnings.warn(\n"
     ]
    },
    {
     "data": {
      "text/plain": [
       "<AxesSubplot:xlabel='variable', ylabel='value'>"
      ]
     },
     "execution_count": 437,
     "metadata": {},
     "output_type": "execute_result"
    },
    {
     "data": {
      "image/png": "[encoded data removed]",
      "text/plain": [
       "<Figure size 432x288 with 1 Axes>"
      ]
     },
     "metadata": {
      "needs_background": "light"
     },
     "output_type": "display_data"
    }
   ],
   "source": [
    "meltedmooe = no_outliers[[\"teacher.mooe\",\"rooms.mooe\",\"mooe.student\"]].melt()\n",
    "\n",
    "sns.boxplot(meltedmooe.variable, meltedmooe.value)"
   ]
  },
  {
   "cell_type": "code",
   "execution_count": null,
   "metadata": {},
   "outputs": [],
   "source": []
  },
  {
   "cell_type": "code",
   "execution_count": null,
   "metadata": {},
   "outputs": [],
   "source": []
  },
  {
   "cell_type": "code",
   "execution_count": null,
   "metadata": {},
   "outputs": [],
   "source": []
  },
  {
   "cell_type": "code",
   "execution_count": null,
   "metadata": {},
   "outputs": [],
   "source": []
  },
  {
   "cell_type": "code",
   "execution_count": null,
   "metadata": {},
   "outputs": [],
   "source": []
  },
  {
   "cell_type": "code",
   "execution_count": null,
   "metadata": {},
   "outputs": [],
   "source": []
  },
  {
   "cell_type": "code",
   "execution_count": 438,
   "metadata": {},
   "outputs": [
    {
     "data": {
      "text/plain": [
       "array([[-0.0941327 ,  0.20508691, -0.63401941],\n",
       "       [-0.10942111, -0.38578317, -0.38038689],\n",
       "       [-0.59780081, -0.77622595, -0.11346507],\n",
       "       ...,\n",
       "       [-0.90957661,  1.83137406,  0.37198437],\n",
       "       [ 2.76564894,  0.19937394,  0.19734791],\n",
       "       [ 0.36462571,  2.11843824, -0.0724429 ]])"
      ]
     },
     "execution_count": 438,
     "metadata": {},
     "output_type": "execute_result"
    }
   ],
   "source": [
    "#scaling the school merged 3\n",
    "from sklearn.preprocessing import StandardScaler\n",
    "scaler = StandardScaler()\n",
    "school_merged6 = scaler.fit_transform(school_merged5)\n",
    "school_merged6"
   ]
  },
  {
   "cell_type": "code",
   "execution_count": 439,
   "metadata": {},
   "outputs": [
    {
     "data": {
      "text/plain": [
       "[<matplotlib.lines.Line2D at 0x1268dcb20>]"
      ]
     },
     "execution_count": 439,
     "metadata": {},
     "output_type": "execute_result"
    },
    {
     "data": {
      "image/png": "[encoded data removed]",
      "text/plain": [
       "<Figure size 432x288 with 1 Axes>"
      ]
     },
     "metadata": {
      "needs_background": "light"
     },
     "output_type": "display_data"
    }
   ],
   "source": [
    "# elbow method\n",
    "from sklearn.cluster import KMeans\n",
    "\n",
    "ssd = []\n",
    "range_n_clusters = list(np.arange(1,16))\n",
    "\n",
    "# running kmeans with different n\n",
    "for num_clusters in range_n_clusters:\n",
    "    kmeans = KMeans(n_clusters=num_clusters, random_state=2) #random state para you can run it with other machines (reproducing the pagka-random nya)\n",
    "    kmeans.fit(school_merged6)\n",
    "    \n",
    "    ssd.append(kmeans.inertia_)\n",
    "# inertia: sum of squared errors (where error = distance of centroid from a point)\n",
    "# kinukuha nya inertia for each value of k\n",
    "\n",
    "# plot the SSDs for each n_clusters\n",
    "plt.plot(ssd)"
   ]
  },
  {
   "cell_type": "code",
   "execution_count": 440,
   "metadata": {},
   "outputs": [
    {
     "ename": "KeyboardInterrupt",
     "evalue": "",
     "output_type": "error",
     "traceback": [
      "\u001b[0;31m---------------------------------------------------------------------------\u001b[0m",
      "\u001b[0;31mKeyboardInterrupt\u001b[0m                         Traceback (most recent call last)",
      "\u001b[0;32m<ipython-input-440-e12f15e27a20>\u001b[0m in \u001b[0;36m<module>\u001b[0;34m\u001b[0m\n\u001b[1;32m     12\u001b[0m \u001b[0;34m\u001b[0m\u001b[0m\n\u001b[1;32m     13\u001b[0m     \u001b[0;31m# silhouette score; how far they are apart\u001b[0m\u001b[0;34m\u001b[0m\u001b[0;34m\u001b[0m\u001b[0;34m\u001b[0m\u001b[0m\n\u001b[0;32m---> 14\u001b[0;31m     \u001b[0msilhouette_avg\u001b[0m \u001b[0;34m=\u001b[0m \u001b[0msilhouette_score\u001b[0m\u001b[0;34m(\u001b[0m\u001b[0mschool_merged6\u001b[0m\u001b[0;34m,\u001b[0m \u001b[0mcluster_labels\u001b[0m\u001b[0;34m)\u001b[0m\u001b[0;34m\u001b[0m\u001b[0;34m\u001b[0m\u001b[0m\n\u001b[0m\u001b[1;32m     15\u001b[0m     \u001b[0mprint\u001b[0m\u001b[0;34m(\u001b[0m\u001b[0;34m\"For n_clusters={0}, the silhouette score is {1}\"\u001b[0m\u001b[0;34m.\u001b[0m\u001b[0mformat\u001b[0m\u001b[0;34m(\u001b[0m\u001b[0mnum_clusters\u001b[0m\u001b[0;34m,\u001b[0m \u001b[0msilhouette_avg\u001b[0m\u001b[0;34m)\u001b[0m\u001b[0;34m)\u001b[0m\u001b[0;34m\u001b[0m\u001b[0;34m\u001b[0m\u001b[0m\n\u001b[1;32m     16\u001b[0m \u001b[0;34m\u001b[0m\u001b[0m\n",
      "\u001b[0;32m/opt/anaconda3/lib/python3.8/site-packages/sklearn/utils/validation.py\u001b[0m in \u001b[0;36minner_f\u001b[0;34m(*args, **kwargs)\u001b[0m\n\u001b[1;32m     70\u001b[0m                           FutureWarning)\n\u001b[1;32m     71\u001b[0m         \u001b[0mkwargs\u001b[0m\u001b[0;34m.\u001b[0m\u001b[0mupdate\u001b[0m\u001b[0;34m(\u001b[0m\u001b[0;34m{\u001b[0m\u001b[0mk\u001b[0m\u001b[0;34m:\u001b[0m \u001b[0marg\u001b[0m \u001b[0;32mfor\u001b[0m \u001b[0mk\u001b[0m\u001b[0;34m,\u001b[0m \u001b[0marg\u001b[0m \u001b[0;32min\u001b[0m \u001b[0mzip\u001b[0m\u001b[0;34m(\u001b[0m\u001b[0msig\u001b[0m\u001b[0;34m.\u001b[0m\u001b[0mparameters\u001b[0m\u001b[0;34m,\u001b[0m \u001b[0margs\u001b[0m\u001b[0;34m)\u001b[0m\u001b[0;34m}\u001b[0m\u001b[0;34m)\u001b[0m\u001b[0;34m\u001b[0m\u001b[0;34m\u001b[0m\u001b[0m\n\u001b[0;32m---> 72\u001b[0;31m         \u001b[0;32mreturn\u001b[0m \u001b[0mf\u001b[0m\u001b[0;34m(\u001b[0m\u001b[0;34m**\u001b[0m\u001b[0mkwargs\u001b[0m\u001b[0;34m)\u001b[0m\u001b[0;34m\u001b[0m\u001b[0;34m\u001b[0m\u001b[0m\n\u001b[0m\u001b[1;32m     73\u001b[0m     \u001b[0;32mreturn\u001b[0m \u001b[0minner_f\u001b[0m\u001b[0;34m\u001b[0m\u001b[0;34m\u001b[0m\u001b[0m\n\u001b[1;32m     74\u001b[0m \u001b[0;34m\u001b[0m\u001b[0m\n",
      "\u001b[0;32m/opt/anaconda3/lib/python3.8/site-packages/sklearn/metrics/cluster/_unsupervised.py\u001b[0m in \u001b[0;36msilhouette_score\u001b[0;34m(X, labels, metric, sample_size, random_state, **kwds)\u001b[0m\n\u001b[1;32m    115\u001b[0m         \u001b[0;32melse\u001b[0m\u001b[0;34m:\u001b[0m\u001b[0;34m\u001b[0m\u001b[0;34m\u001b[0m\u001b[0m\n\u001b[1;32m    116\u001b[0m             \u001b[0mX\u001b[0m\u001b[0;34m,\u001b[0m \u001b[0mlabels\u001b[0m \u001b[0;34m=\u001b[0m \u001b[0mX\u001b[0m\u001b[0;34m[\u001b[0m\u001b[0mindices\u001b[0m\u001b[0;34m]\u001b[0m\u001b[0;34m,\u001b[0m \u001b[0mlabels\u001b[0m\u001b[0;34m[\u001b[0m\u001b[0mindices\u001b[0m\u001b[0;34m]\u001b[0m\u001b[0;34m\u001b[0m\u001b[0;34m\u001b[0m\u001b[0m\n\u001b[0;32m--> 117\u001b[0;31m     \u001b[0;32mreturn\u001b[0m \u001b[0mnp\u001b[0m\u001b[0;34m.\u001b[0m\u001b[0mmean\u001b[0m\u001b[0;34m(\u001b[0m\u001b[0msilhouette_samples\u001b[0m\u001b[0;34m(\u001b[0m\u001b[0mX\u001b[0m\u001b[0;34m,\u001b[0m \u001b[0mlabels\u001b[0m\u001b[0;34m,\u001b[0m \u001b[0mmetric\u001b[0m\u001b[0;34m=\u001b[0m\u001b[0mmetric\u001b[0m\u001b[0;34m,\u001b[0m \u001b[0;34m**\u001b[0m\u001b[0mkwds\u001b[0m\u001b[0;34m)\u001b[0m\u001b[0;34m)\u001b[0m\u001b[0;34m\u001b[0m\u001b[0;34m\u001b[0m\u001b[0m\n\u001b[0m\u001b[1;32m    118\u001b[0m \u001b[0;34m\u001b[0m\u001b[0m\n\u001b[1;32m    119\u001b[0m \u001b[0;34m\u001b[0m\u001b[0m\n",
      "\u001b[0;32m/opt/anaconda3/lib/python3.8/site-packages/sklearn/utils/validation.py\u001b[0m in \u001b[0;36minner_f\u001b[0;34m(*args, **kwargs)\u001b[0m\n\u001b[1;32m     70\u001b[0m                           FutureWarning)\n\u001b[1;32m     71\u001b[0m         \u001b[0mkwargs\u001b[0m\u001b[0;34m.\u001b[0m\u001b[0mupdate\u001b[0m\u001b[0;34m(\u001b[0m\u001b[0;34m{\u001b[0m\u001b[0mk\u001b[0m\u001b[0;34m:\u001b[0m \u001b[0marg\u001b[0m \u001b[0;32mfor\u001b[0m \u001b[0mk\u001b[0m\u001b[0;34m,\u001b[0m \u001b[0marg\u001b[0m \u001b[0;32min\u001b[0m \u001b[0mzip\u001b[0m\u001b[0;34m(\u001b[0m\u001b[0msig\u001b[0m\u001b[0;34m.\u001b[0m\u001b[0mparameters\u001b[0m\u001b[0;34m,\u001b[0m \u001b[0margs\u001b[0m\u001b[0;34m)\u001b[0m\u001b[0;34m}\u001b[0m\u001b[0;34m)\u001b[0m\u001b[0;34m\u001b[0m\u001b[0;34m\u001b[0m\u001b[0m\n\u001b[0;32m---> 72\u001b[0;31m         \u001b[0;32mreturn\u001b[0m \u001b[0mf\u001b[0m\u001b[0;34m(\u001b[0m\u001b[0;34m**\u001b[0m\u001b[0mkwargs\u001b[0m\u001b[0;34m)\u001b[0m\u001b[0;34m\u001b[0m\u001b[0;34m\u001b[0m\u001b[0m\n\u001b[0m\u001b[1;32m     73\u001b[0m     \u001b[0;32mreturn\u001b[0m \u001b[0minner_f\u001b[0m\u001b[0;34m\u001b[0m\u001b[0;34m\u001b[0m\u001b[0m\n\u001b[1;32m     74\u001b[0m \u001b[0;34m\u001b[0m\u001b[0m\n",
      "\u001b[0;32m/opt/anaconda3/lib/python3.8/site-packages/sklearn/metrics/cluster/_unsupervised.py\u001b[0m in \u001b[0;36msilhouette_samples\u001b[0;34m(X, labels, metric, **kwds)\u001b[0m\n\u001b[1;32m    232\u001b[0m     reduce_func = functools.partial(_silhouette_reduce,\n\u001b[1;32m    233\u001b[0m                                     labels=labels, label_freqs=label_freqs)\n\u001b[0;32m--> 234\u001b[0;31m     results = zip(*pairwise_distances_chunked(X, reduce_func=reduce_func,\n\u001b[0m\u001b[1;32m    235\u001b[0m                                               **kwds))\n\u001b[1;32m    236\u001b[0m     \u001b[0mintra_clust_dists\u001b[0m\u001b[0;34m,\u001b[0m \u001b[0minter_clust_dists\u001b[0m \u001b[0;34m=\u001b[0m \u001b[0mresults\u001b[0m\u001b[0;34m\u001b[0m\u001b[0;34m\u001b[0m\u001b[0m\n",
      "\u001b[0;32m/opt/anaconda3/lib/python3.8/site-packages/sklearn/metrics/pairwise.py\u001b[0m in \u001b[0;36mpairwise_distances_chunked\u001b[0;34m(X, Y, reduce_func, metric, n_jobs, working_memory, **kwds)\u001b[0m\n\u001b[1;32m   1614\u001b[0m         \u001b[0;32melse\u001b[0m\u001b[0;34m:\u001b[0m\u001b[0;34m\u001b[0m\u001b[0;34m\u001b[0m\u001b[0m\n\u001b[1;32m   1615\u001b[0m             \u001b[0mX_chunk\u001b[0m \u001b[0;34m=\u001b[0m \u001b[0mX\u001b[0m\u001b[0;34m[\u001b[0m\u001b[0msl\u001b[0m\u001b[0;34m]\u001b[0m\u001b[0;34m\u001b[0m\u001b[0;34m\u001b[0m\u001b[0m\n\u001b[0;32m-> 1616\u001b[0;31m         D_chunk = pairwise_distances(X_chunk, Y, metric=metric,\n\u001b[0m\u001b[1;32m   1617\u001b[0m                                      n_jobs=n_jobs, **kwds)\n\u001b[1;32m   1618\u001b[0m         if ((X is Y or Y is None)\n",
      "\u001b[0;32m/opt/anaconda3/lib/python3.8/site-packages/sklearn/utils/validation.py\u001b[0m in \u001b[0;36minner_f\u001b[0;34m(*args, **kwargs)\u001b[0m\n\u001b[1;32m     70\u001b[0m                           FutureWarning)\n\u001b[1;32m     71\u001b[0m         \u001b[0mkwargs\u001b[0m\u001b[0;34m.\u001b[0m\u001b[0mupdate\u001b[0m\u001b[0;34m(\u001b[0m\u001b[0;34m{\u001b[0m\u001b[0mk\u001b[0m\u001b[0;34m:\u001b[0m \u001b[0marg\u001b[0m \u001b[0;32mfor\u001b[0m \u001b[0mk\u001b[0m\u001b[0;34m,\u001b[0m \u001b[0marg\u001b[0m \u001b[0;32min\u001b[0m \u001b[0mzip\u001b[0m\u001b[0;34m(\u001b[0m\u001b[0msig\u001b[0m\u001b[0;34m.\u001b[0m\u001b[0mparameters\u001b[0m\u001b[0;34m,\u001b[0m \u001b[0margs\u001b[0m\u001b[0;34m)\u001b[0m\u001b[0;34m}\u001b[0m\u001b[0;34m)\u001b[0m\u001b[0;34m\u001b[0m\u001b[0;34m\u001b[0m\u001b[0m\n\u001b[0;32m---> 72\u001b[0;31m         \u001b[0;32mreturn\u001b[0m \u001b[0mf\u001b[0m\u001b[0;34m(\u001b[0m\u001b[0;34m**\u001b[0m\u001b[0mkwargs\u001b[0m\u001b[0;34m)\u001b[0m\u001b[0;34m\u001b[0m\u001b[0;34m\u001b[0m\u001b[0m\n\u001b[0m\u001b[1;32m     73\u001b[0m     \u001b[0;32mreturn\u001b[0m \u001b[0minner_f\u001b[0m\u001b[0;34m\u001b[0m\u001b[0;34m\u001b[0m\u001b[0m\n\u001b[1;32m     74\u001b[0m \u001b[0;34m\u001b[0m\u001b[0m\n",
      "\u001b[0;32m/opt/anaconda3/lib/python3.8/site-packages/sklearn/metrics/pairwise.py\u001b[0m in \u001b[0;36mpairwise_distances\u001b[0;34m(X, Y, metric, n_jobs, force_all_finite, **kwds)\u001b[0m\n\u001b[1;32m   1777\u001b[0m         \u001b[0mfunc\u001b[0m \u001b[0;34m=\u001b[0m \u001b[0mpartial\u001b[0m\u001b[0;34m(\u001b[0m\u001b[0mdistance\u001b[0m\u001b[0;34m.\u001b[0m\u001b[0mcdist\u001b[0m\u001b[0;34m,\u001b[0m \u001b[0mmetric\u001b[0m\u001b[0;34m=\u001b[0m\u001b[0mmetric\u001b[0m\u001b[0;34m,\u001b[0m \u001b[0;34m**\u001b[0m\u001b[0mkwds\u001b[0m\u001b[0;34m)\u001b[0m\u001b[0;34m\u001b[0m\u001b[0;34m\u001b[0m\u001b[0m\n\u001b[1;32m   1778\u001b[0m \u001b[0;34m\u001b[0m\u001b[0m\n\u001b[0;32m-> 1779\u001b[0;31m     \u001b[0;32mreturn\u001b[0m \u001b[0m_parallel_pairwise\u001b[0m\u001b[0;34m(\u001b[0m\u001b[0mX\u001b[0m\u001b[0;34m,\u001b[0m \u001b[0mY\u001b[0m\u001b[0;34m,\u001b[0m \u001b[0mfunc\u001b[0m\u001b[0;34m,\u001b[0m \u001b[0mn_jobs\u001b[0m\u001b[0;34m,\u001b[0m \u001b[0;34m**\u001b[0m\u001b[0mkwds\u001b[0m\u001b[0;34m)\u001b[0m\u001b[0;34m\u001b[0m\u001b[0;34m\u001b[0m\u001b[0m\n\u001b[0m\u001b[1;32m   1780\u001b[0m \u001b[0;34m\u001b[0m\u001b[0m\n\u001b[1;32m   1781\u001b[0m \u001b[0;34m\u001b[0m\u001b[0m\n",
      "\u001b[0;32m/opt/anaconda3/lib/python3.8/site-packages/sklearn/metrics/pairwise.py\u001b[0m in \u001b[0;36m_parallel_pairwise\u001b[0;34m(X, Y, func, n_jobs, **kwds)\u001b[0m\n\u001b[1;32m   1358\u001b[0m \u001b[0;34m\u001b[0m\u001b[0m\n\u001b[1;32m   1359\u001b[0m     \u001b[0;32mif\u001b[0m \u001b[0meffective_n_jobs\u001b[0m\u001b[0;34m(\u001b[0m\u001b[0mn_jobs\u001b[0m\u001b[0;34m)\u001b[0m \u001b[0;34m==\u001b[0m \u001b[0;36m1\u001b[0m\u001b[0;34m:\u001b[0m\u001b[0;34m\u001b[0m\u001b[0;34m\u001b[0m\u001b[0m\n\u001b[0;32m-> 1360\u001b[0;31m         \u001b[0;32mreturn\u001b[0m \u001b[0mfunc\u001b[0m\u001b[0;34m(\u001b[0m\u001b[0mX\u001b[0m\u001b[0;34m,\u001b[0m \u001b[0mY\u001b[0m\u001b[0;34m,\u001b[0m \u001b[0;34m**\u001b[0m\u001b[0mkwds\u001b[0m\u001b[0;34m)\u001b[0m\u001b[0;34m\u001b[0m\u001b[0;34m\u001b[0m\u001b[0m\n\u001b[0m\u001b[1;32m   1361\u001b[0m \u001b[0;34m\u001b[0m\u001b[0m\n\u001b[1;32m   1362\u001b[0m     \u001b[0;31m# enforce a threading backend to prevent data communication overhead\u001b[0m\u001b[0;34m\u001b[0m\u001b[0;34m\u001b[0m\u001b[0;34m\u001b[0m\u001b[0m\n",
      "\u001b[0;32m/opt/anaconda3/lib/python3.8/site-packages/sklearn/utils/validation.py\u001b[0m in \u001b[0;36minner_f\u001b[0;34m(*args, **kwargs)\u001b[0m\n\u001b[1;32m     70\u001b[0m                           FutureWarning)\n\u001b[1;32m     71\u001b[0m         \u001b[0mkwargs\u001b[0m\u001b[0;34m.\u001b[0m\u001b[0mupdate\u001b[0m\u001b[0;34m(\u001b[0m\u001b[0;34m{\u001b[0m\u001b[0mk\u001b[0m\u001b[0;34m:\u001b[0m \u001b[0marg\u001b[0m \u001b[0;32mfor\u001b[0m \u001b[0mk\u001b[0m\u001b[0;34m,\u001b[0m \u001b[0marg\u001b[0m \u001b[0;32min\u001b[0m \u001b[0mzip\u001b[0m\u001b[0;34m(\u001b[0m\u001b[0msig\u001b[0m\u001b[0;34m.\u001b[0m\u001b[0mparameters\u001b[0m\u001b[0;34m,\u001b[0m \u001b[0margs\u001b[0m\u001b[0;34m)\u001b[0m\u001b[0;34m}\u001b[0m\u001b[0;34m)\u001b[0m\u001b[0;34m\u001b[0m\u001b[0;34m\u001b[0m\u001b[0m\n\u001b[0;32m---> 72\u001b[0;31m         \u001b[0;32mreturn\u001b[0m \u001b[0mf\u001b[0m\u001b[0;34m(\u001b[0m\u001b[0;34m**\u001b[0m\u001b[0mkwargs\u001b[0m\u001b[0;34m)\u001b[0m\u001b[0;34m\u001b[0m\u001b[0;34m\u001b[0m\u001b[0m\n\u001b[0m\u001b[1;32m     73\u001b[0m     \u001b[0;32mreturn\u001b[0m \u001b[0minner_f\u001b[0m\u001b[0;34m\u001b[0m\u001b[0;34m\u001b[0m\u001b[0m\n\u001b[1;32m     74\u001b[0m \u001b[0;34m\u001b[0m\u001b[0m\n",
      "\u001b[0;32m/opt/anaconda3/lib/python3.8/site-packages/sklearn/metrics/pairwise.py\u001b[0m in \u001b[0;36meuclidean_distances\u001b[0;34m(X, Y, Y_norm_squared, squared, X_norm_squared)\u001b[0m\n\u001b[1;32m    311\u001b[0m         \u001b[0mdistances\u001b[0m \u001b[0;34m+=\u001b[0m \u001b[0mXX\u001b[0m\u001b[0;34m\u001b[0m\u001b[0;34m\u001b[0m\u001b[0m\n\u001b[1;32m    312\u001b[0m         \u001b[0mdistances\u001b[0m \u001b[0;34m+=\u001b[0m \u001b[0mYY\u001b[0m\u001b[0;34m\u001b[0m\u001b[0;34m\u001b[0m\u001b[0m\n\u001b[0;32m--> 313\u001b[0;31m     \u001b[0mnp\u001b[0m\u001b[0;34m.\u001b[0m\u001b[0mmaximum\u001b[0m\u001b[0;34m(\u001b[0m\u001b[0mdistances\u001b[0m\u001b[0;34m,\u001b[0m \u001b[0;36m0\u001b[0m\u001b[0;34m,\u001b[0m \u001b[0mout\u001b[0m\u001b[0;34m=\u001b[0m\u001b[0mdistances\u001b[0m\u001b[0;34m)\u001b[0m\u001b[0;34m\u001b[0m\u001b[0;34m\u001b[0m\u001b[0m\n\u001b[0m\u001b[1;32m    314\u001b[0m \u001b[0;34m\u001b[0m\u001b[0m\n\u001b[1;32m    315\u001b[0m     \u001b[0;31m# Ensure that distances between vectors and themselves are set to 0.0.\u001b[0m\u001b[0;34m\u001b[0m\u001b[0;34m\u001b[0m\u001b[0;34m\u001b[0m\u001b[0m\n",
      "\u001b[0;31mKeyboardInterrupt\u001b[0m: "
     ]
    }
   ],
   "source": [
    "from sklearn.metrics import silhouette_score\n",
    "from sklearn.metrics import silhouette_samples\n",
    "range_n_clusters = list(np.arange(2,9))\n",
    "\n",
    "for num_clusters in range_n_clusters:\n",
    "    \n",
    "    # intialise kmeans\n",
    "    kmeans = KMeans(n_clusters=num_clusters, random_state=2)\n",
    "    kmeans.fit(school_merged6)\n",
    "    \n",
    "    cluster_labels = kmeans.predict(school_merged6)\n",
    "    \n",
    "    # silhouette score; how far they are apart\n",
    "    silhouette_avg = silhouette_score(school_merged6, cluster_labels)\n",
    "    print(\"For n_clusters={0}, the silhouette score is {1}\".format(num_clusters, silhouette_avg))\n",
    "    \n",
    "# the closer the silhouette score is to 1 the closer the points are to its own cluster\n",
    "# when it's -1 the points are closer to the neighboring clusters than to their own cluster"
   ]
  },
  {
   "cell_type": "code",
   "execution_count": null,
   "metadata": {},
   "outputs": [],
   "source": [
    "school_merged7 = school_merged3[[\"mooe.student\",\"teacher.mooe\",\"rooms.mooe\"]]\n",
    "school_merged7"
   ]
  },
  {
   "cell_type": "code",
   "execution_count": null,
   "metadata": {},
   "outputs": [],
   "source": [
    "#scaling the school merged 3\n",
    "from sklearn.preprocessing import StandardScaler\n",
    "scaler = StandardScaler()\n",
    "school_merged8 = scaler.fit_transform(school_merged7)\n",
    "school_merged8"
   ]
  },
  {
   "cell_type": "code",
   "execution_count": null,
   "metadata": {},
   "outputs": [],
   "source": [
    "# elbow method\n",
    "from sklearn.cluster import KMeans\n",
    "\n",
    "ssd = []\n",
    "range_n_clusters = list(np.arange(1,16))\n",
    "\n",
    "# running kmeans with different n\n",
    "for num_clusters in range_n_clusters:\n",
    "    kmeans = KMeans(n_clusters=num_clusters, random_state=2) #random state para you can run it with other machines (reproducing the pagka-random nya)\n",
    "    kmeans.fit(school_merged8)\n",
    "    \n",
    "    ssd.append(kmeans.inertia_)\n",
    "# inertia: sum of squared errors (where error = distance of centroid from a point)\n",
    "# kinukuha nya inertia for each value of k\n",
    "\n",
    "# plot the SSDs for each n_clusters\n",
    "plt.plot(ssd)"
   ]
  },
  {
   "cell_type": "code",
   "execution_count": null,
   "metadata": {},
   "outputs": [],
   "source": [
    "from sklearn.metrics import silhouette_score\n",
    "from sklearn.metrics import silhouette_samples\n",
    "range_n_clusters = list(np.arange(2,7))\n",
    "\n",
    "for num_clusters in range_n_clusters:\n",
    "    \n",
    "    # intialise kmeans\n",
    "    kmeans = KMeans(n_clusters=num_clusters, random_state=2)\n",
    "    kmeans.fit(school_merged8)\n",
    "    \n",
    "    cluster_labels = kmeans.predict(school_merged8)\n",
    "    \n",
    "    # silhouette score; how far they are apart\n",
    "    silhouette_avg = silhouette_score(school_merged8, cluster_labels)\n",
    "    print(\"For n_clusters={0}, the silhouette score is {1}\".format(num_clusters, silhouette_avg))\n",
    "    \n",
    "# the closer the silhouette score is to 1 the closer the points are to its own cluster\n",
    "# when it's -1 the points are closer to the neighboring clusters than to their own cluster"
   ]
  },
  {
   "cell_type": "code",
   "execution_count": null,
   "metadata": {},
   "outputs": [],
   "source": []
  },
  {
   "cell_type": "code",
   "execution_count": null,
   "metadata": {},
   "outputs": [],
   "source": []
  },
  {
   "cell_type": "code",
   "execution_count": null,
   "metadata": {},
   "outputs": [],
   "source": []
  },
  {
   "cell_type": "code",
   "execution_count": 441,
   "metadata": {},
   "outputs": [],
   "source": [
    "students = no_outliers[[\"teacher.student\",\"rooms.student\",\"mooe.student\"]]"
   ]
  },
  {
   "cell_type": "code",
   "execution_count": 442,
   "metadata": {},
   "outputs": [
    {
     "data": {
      "text/plain": [
       "array([[ 0.01927634,  0.89100496, -0.91827729],\n",
       "       [-0.00671247, -0.34073098, -0.4202087 ],\n",
       "       [-0.8369105 , -1.1546534 ,  0.10395663],\n",
       "       ...,\n",
       "       [-1.05829664,  0.10389311,  1.17681204],\n",
       "       [-0.93968788,  0.73747685,  0.72062826],\n",
       "       [ 0.80002345,  1.79920674,  0.27533365]])"
      ]
     },
     "execution_count": 442,
     "metadata": {},
     "output_type": "execute_result"
    }
   ],
   "source": [
    "#scaling the school merged 3\n",
    "from sklearn.preprocessing import StandardScaler\n",
    "scaler = StandardScaler()\n",
    "students_ss = scaler.fit_transform(students)\n",
    "students_ss"
   ]
  },
  {
   "cell_type": "code",
   "execution_count": null,
   "metadata": {},
   "outputs": [],
   "source": [
    "# elbow method\n",
    "from sklearn.cluster import KMeans\n",
    "\n",
    "ssd = []\n",
    "range_n_clusters = list(np.arange(1,16))\n",
    "\n",
    "# running kmeans with different n\n",
    "for num_clusters in range_n_clusters:\n",
    "    kmeans = KMeans(n_clusters=num_clusters, random_state=2) #random state para you can run it with other machines (reproducing the pagka-random nya)\n",
    "    kmeans.fit(students_ss)\n",
    "    \n",
    "    ssd.append(kmeans.inertia_)\n",
    "# inertia: sum of squared errors (where error = distance of centroid from a point)\n",
    "# kinukuha nya inertia for each value of k\n",
    "\n",
    "# plot the SSDs for each n_clusters\n",
    "plt.plot(ssd)"
   ]
  },
  {
   "cell_type": "code",
   "execution_count": null,
   "metadata": {},
   "outputs": [],
   "source": [
    "from sklearn.metrics import silhouette_score\n",
    "from sklearn.metrics import silhouette_samples\n",
    "range_n_clusters = list(np.arange(2,9))\n",
    "\n",
    "for num_clusters in range_n_clusters:\n",
    "    \n",
    "    # intialise kmeans\n",
    "    kmeans = KMeans(n_clusters=num_clusters, random_state=2)\n",
    "    kmeans.fit(students_ss)\n",
    "    \n",
    "    cluster_labels = kmeans.predict(students_ss)\n",
    "    \n",
    "    # silhouette score; how far they are apart\n",
    "    silhouette_avg = silhouette_score(students_ss, cluster_labels)\n",
    "    print(\"For n_clusters={0}, the silhouette score is {1}\".format(num_clusters, silhouette_avg))\n",
    "    \n",
    "# the closer the silhouette score is to 1 the closer the points are to its own cluster\n",
    "# when it's -1 the points are closer to the neighboring clusters than to their own cluster"
   ]
  },
  {
   "cell_type": "code",
   "execution_count": null,
   "metadata": {},
   "outputs": [],
   "source": []
  },
  {
   "cell_type": "code",
   "execution_count": null,
   "metadata": {},
   "outputs": [],
   "source": [
    "expenses = no_outliers[[\"teacher.mooe\",\"rooms.mooe\",\"mooe.student\"]]"
   ]
  },
  {
   "cell_type": "code",
   "execution_count": null,
   "metadata": {},
   "outputs": [],
   "source": [
    "#scaling the school merged 3\n",
    "from sklearn.preprocessing import StandardScaler\n",
    "scaler = StandardScaler()\n",
    "expenses_ss = scaler.fit_transform(expenses)\n",
    "expenses_ss"
   ]
  },
  {
   "cell_type": "code",
   "execution_count": null,
   "metadata": {},
   "outputs": [],
   "source": [
    "# elbow method\n",
    "from sklearn.cluster import KMeans\n",
    "\n",
    "ssd = []\n",
    "range_n_clusters = list(np.arange(1,16))\n",
    "\n",
    "# running kmeans with different n\n",
    "for num_clusters in range_n_clusters:\n",
    "    kmeans = KMeans(n_clusters=num_clusters, random_state=2) #random state para you can run it with other machines (reproducing the pagka-random nya)\n",
    "    kmeans.fit(expenses_ss)\n",
    "    \n",
    "    ssd.append(kmeans.inertia_)\n",
    "# inertia: sum of squared errors (where error = distance of centroid from a point)\n",
    "# kinukuha nya inertia for each value of k\n",
    "\n",
    "# plot the SSDs for each n_clusters\n",
    "plt.plot(ssd)"
   ]
  },
  {
   "cell_type": "code",
   "execution_count": null,
   "metadata": {},
   "outputs": [],
   "source": [
    "range_n_clusters = list(np.arange(2,9))\n",
    "\n",
    "for num_clusters in range_n_clusters:\n",
    "    \n",
    "    # intialise kmeans\n",
    "    kmeans = KMeans(n_clusters=num_clusters, random_state=2)\n",
    "    kmeans.fit(expenses_ss)\n",
    "    \n",
    "    cluster_labels = kmeans.predict(expenses_ss)\n",
    "    \n",
    "    # silhouette score; how far they are apart\n",
    "    silhouette_avg = silhouette_score(expenses_ss, cluster_labels)\n",
    "    print(\"For n_clusters={0}, the silhouette score is {1}\".format(num_clusters, silhouette_avg))\n",
    "    \n",
    "# the closer the silhouette score is to 1 the closer the points are to its own cluster\n",
    "# when it's -1 the points are closer to the neighboring clusters than to their own cluster"
   ]
  },
  {
   "cell_type": "code",
   "execution_count": null,
   "metadata": {},
   "outputs": [],
   "source": []
  },
  {
   "cell_type": "code",
   "execution_count": 78,
   "metadata": {},
   "outputs": [],
   "source": [
    "#scaler\n",
    "from sklearn.preprocessing import StandardScaler\n",
    "def stdScaler(df):\n",
    "    scaler = StandardScaler()\n",
    "    return scaler.fit_transform(df)"
   ]
  },
  {
   "cell_type": "code",
   "execution_count": 79,
   "metadata": {},
   "outputs": [],
   "source": [
    "# elbow method\n",
    "from sklearn.cluster import KMeans\n",
    "\n",
    "def kMeansClustering(scaled_df):\n",
    "    ssd = []\n",
    "    range_n_clusters = list(np.arange(1,16))\n",
    "\n",
    "    # running kmeans with different n\n",
    "    for num_clusters in range_n_clusters:\n",
    "        kmeans = KMeans(n_clusters=num_clusters, random_state=2) #random state para you can run it with other machines (reproducing the pagka-random nya)\n",
    "        kmeans.fit(scaled_df)\n",
    "\n",
    "        ssd.append(kmeans.inertia_)\n",
    "    # inertia: sum of squared errors (where error = distance of centroid from a point)\n",
    "    # kinukuha nya inertia for each value of k\n",
    "\n",
    "    # plot the SSDs for each n_clusters\n",
    "    plt.plot(ssd)"
   ]
  },
  {
   "cell_type": "code",
   "execution_count": 80,
   "metadata": {},
   "outputs": [],
   "source": [
    "from sklearn.metrics import silhouette_score\n",
    "from sklearn.metrics import silhouette_samples\n",
    "def getSilhouettes(scaled_df):\n",
    "    range_n_clusters = list(np.arange(2,9))\n",
    "\n",
    "    for num_clusters in range_n_clusters:\n",
    "\n",
    "        # intialise kmeans\n",
    "        kmeans = KMeans(n_clusters=num_clusters, random_state=2)\n",
    "        kmeans.fit(scaled_df)\n",
    "\n",
    "        cluster_labels = kmeans.predict(scaled_df)\n",
    "\n",
    "        # silhouette score; how far they are apart\n",
    "        silhouette_avg = silhouette_score(scaled_df, cluster_labels)\n",
    "        print(\"For n_clusters={0}, the silhouette score is {1}\".format(num_clusters, silhouette_avg))"
   ]
  },
  {
   "cell_type": "code",
   "execution_count": null,
   "metadata": {},
   "outputs": [],
   "source": []
  },
  {
   "cell_type": "code",
   "execution_count": 447,
   "metadata": {},
   "outputs": [
    {
     "data": {
      "text/plain": [
       "Index(['school.id', 'teacher.student', 'rooms.student', 'mooe.student',\n",
       "       'teacher.mooe', 'rooms.mooe'],\n",
       "      dtype='object')"
      ]
     },
     "execution_count": 447,
     "metadata": {},
     "output_type": "execute_result"
    }
   ],
   "source": [
    "cols = no_outliers.columns\n",
    "cols"
   ]
  },
  {
   "cell_type": "code",
   "execution_count": 448,
   "metadata": {},
   "outputs": [],
   "source": [
    "var1=cols[1]\n",
    "var2=cols[2]\n",
    "var3=cols[3]\n",
    "var4=cols[4]\n",
    "var5=cols[5]"
   ]
  },
  {
   "cell_type": "code",
   "execution_count": null,
   "metadata": {},
   "outputs": [],
   "source": []
  },
  {
   "cell_type": "code",
   "execution_count": 449,
   "metadata": {},
   "outputs": [
    {
     "data": {
      "image/png": "[encoded data removed]",
      "text/plain": [
       "<Figure size 432x288 with 1 Axes>"
      ]
     },
     "metadata": {
      "needs_background": "light"
     },
     "output_type": "display_data"
    }
   ],
   "source": [
    "kMeansClustering(stdScaler(no_outliers[[var1, var2]]))"
   ]
  },
  {
   "cell_type": "code",
   "execution_count": 450,
   "metadata": {},
   "outputs": [
    {
     "data": {
      "image/png": "[encoded data removed]",
      "text/plain": [
       "<Figure size 432x288 with 1 Axes>"
      ]
     },
     "metadata": {
      "needs_background": "light"
     },
     "output_type": "display_data"
    }
   ],
   "source": [
    "kMeansClustering(stdScaler(no_outliers[[var1, var3]]))"
   ]
  },
  {
   "cell_type": "code",
   "execution_count": 451,
   "metadata": {},
   "outputs": [
    {
     "data": {
      "image/png": "[encoded data removed]",
      "text/plain": [
       "<Figure size 432x288 with 1 Axes>"
      ]
     },
     "metadata": {
      "needs_background": "light"
     },
     "output_type": "display_data"
    }
   ],
   "source": [
    "kMeansClustering(stdScaler(no_outliers[[var1, var4]]))"
   ]
  },
  {
   "cell_type": "code",
   "execution_count": 452,
   "metadata": {},
   "outputs": [
    {
     "data": {
      "image/png": "[encoded data removed]",
      "text/plain": [
       "<Figure size 432x288 with 1 Axes>"
      ]
     },
     "metadata": {
      "needs_background": "light"
     },
     "output_type": "display_data"
    }
   ],
   "source": [
    "kMeansClustering(stdScaler(no_outliers[[var1, var5]])) # pwede"
   ]
  },
  {
   "cell_type": "code",
   "execution_count": 453,
   "metadata": {},
   "outputs": [
    {
     "data": {
      "image/png": "[encoded data removed]",
      "text/plain": [
       "<Figure size 432x288 with 1 Axes>"
      ]
     },
     "metadata": {
      "needs_background": "light"
     },
     "output_type": "display_data"
    }
   ],
   "source": [
    "kMeansClustering(stdScaler(no_outliers[[var2, var3]]))"
   ]
  },
  {
   "cell_type": "code",
   "execution_count": 454,
   "metadata": {},
   "outputs": [
    {
     "data": {
      "image/png": "[encoded data removed]",
      "text/plain": [
       "<Figure size 432x288 with 1 Axes>"
      ]
     },
     "metadata": {
      "needs_background": "light"
     },
     "output_type": "display_data"
    }
   ],
   "source": [
    "kMeansClustering(stdScaler(no_outliers[[var2, var4]])) # pwede i2"
   ]
  },
  {
   "cell_type": "code",
   "execution_count": 455,
   "metadata": {},
   "outputs": [
    {
     "data": {
      "image/png": "[encoded data removed]",
      "text/plain": [
       "<Figure size 432x288 with 1 Axes>"
      ]
     },
     "metadata": {
      "needs_background": "light"
     },
     "output_type": "display_data"
    }
   ],
   "source": [
    "kMeansClustering(stdScaler(no_outliers[[var2, var5]]))"
   ]
  },
  {
   "cell_type": "code",
   "execution_count": 456,
   "metadata": {},
   "outputs": [
    {
     "data": {
      "image/png": "[encoded data removed]",
      "text/plain": [
       "<Figure size 432x288 with 1 Axes>"
      ]
     },
     "metadata": {
      "needs_background": "light"
     },
     "output_type": "display_data"
    }
   ],
   "source": [
    "kMeansClustering(stdScaler(no_outliers[[var3, var4]]))"
   ]
  },
  {
   "cell_type": "code",
   "execution_count": 457,
   "metadata": {},
   "outputs": [
    {
     "data": {
      "image/png": "[encoded data removed]",
      "text/plain": [
       "<Figure size 432x288 with 1 Axes>"
      ]
     },
     "metadata": {
      "needs_background": "light"
     },
     "output_type": "display_data"
    }
   ],
   "source": [
    "kMeansClustering(stdScaler(no_outliers[[var3, var5]]))"
   ]
  },
  {
   "cell_type": "code",
   "execution_count": 458,
   "metadata": {},
   "outputs": [
    {
     "data": {
      "image/png": "[encoded data removed]",
      "text/plain": [
       "<Figure size 432x288 with 1 Axes>"
      ]
     },
     "metadata": {
      "needs_background": "light"
     },
     "output_type": "display_data"
    }
   ],
   "source": [
    "kMeansClustering(stdScaler(no_outliers[[var4, var5]]))"
   ]
  },
  {
   "cell_type": "code",
   "execution_count": null,
   "metadata": {},
   "outputs": [],
   "source": []
  },
  {
   "cell_type": "code",
   "execution_count": 459,
   "metadata": {},
   "outputs": [
    {
     "name": "stdout",
     "output_type": "stream",
     "text": [
      "For n_clusters=2, the silhouette score is 0.4644216682429846\n",
      "For n_clusters=3, the silhouette score is 0.4269431617020158\n",
      "For n_clusters=4, the silhouette score is 0.3716771612157398\n",
      "For n_clusters=5, the silhouette score is 0.3778801383345272\n",
      "For n_clusters=6, the silhouette score is 0.38551720626566544\n",
      "For n_clusters=7, the silhouette score is 0.36006704466023076\n",
      "For n_clusters=8, the silhouette score is 0.3592439049421717\n"
     ]
    }
   ],
   "source": [
    "getSilhouettes(stdScaler(no_outliers[[var1, var5]]))"
   ]
  },
  {
   "cell_type": "code",
   "execution_count": 460,
   "metadata": {},
   "outputs": [
    {
     "name": "stdout",
     "output_type": "stream",
     "text": [
      "For n_clusters=2, the silhouette score is 0.37852100945126166\n",
      "For n_clusters=3, the silhouette score is 0.390113501172695\n",
      "For n_clusters=4, the silhouette score is 0.33796068821294645\n",
      "For n_clusters=5, the silhouette score is 0.3454929223244837\n",
      "For n_clusters=6, the silhouette score is 0.3422800811763438\n",
      "For n_clusters=7, the silhouette score is 0.3371740898443363\n",
      "For n_clusters=8, the silhouette score is 0.3310899612056735\n"
     ]
    }
   ],
   "source": [
    "getSilhouettes(stdScaler(no_outliers[[var2, var4]]))"
   ]
  },
  {
   "cell_type": "code",
   "execution_count": null,
   "metadata": {},
   "outputs": [],
   "source": []
  },
  {
   "cell_type": "code",
   "execution_count": null,
   "metadata": {},
   "outputs": [],
   "source": []
  },
  {
   "cell_type": "code",
   "execution_count": 65,
   "metadata": {},
   "outputs": [
    {
     "data": {
      "text/html": [
       "<div>\n",
       "<style scoped>\n",
       "    .dataframe tbody tr th:only-of-type {\n",
       "        vertical-align: middle;\n",
       "    }\n",
       "\n",
       "    .dataframe tbody tr th {\n",
       "        vertical-align: top;\n",
       "    }\n",
       "\n",
       "    .dataframe thead th {\n",
       "        text-align: right;\n",
       "    }\n",
       "</style>\n",
       "<table border=\"1\" class=\"dataframe\">\n",
       "  <thead>\n",
       "    <tr style=\"text-align: right;\">\n",
       "      <th></th>\n",
       "      <th>school.id</th>\n",
       "      <th>school.classification</th>\n",
       "      <th>teacher.student</th>\n",
       "      <th>rooms.student</th>\n",
       "      <th>mooe.student</th>\n",
       "      <th>teacher.mooe</th>\n",
       "      <th>rooms.mooe</th>\n",
       "    </tr>\n",
       "  </thead>\n",
       "  <tbody>\n",
       "    <tr>\n",
       "      <th>0</th>\n",
       "      <td>101746</td>\n",
       "      <td>Elementary</td>\n",
       "      <td>39.050000</td>\n",
       "      <td>52.066667</td>\n",
       "      <td>436.619718</td>\n",
       "      <td>17050.000000</td>\n",
       "      <td>22733.333333</td>\n",
       "    </tr>\n",
       "    <tr>\n",
       "      <th>1</th>\n",
       "      <td>102193</td>\n",
       "      <td>Elementary</td>\n",
       "      <td>38.750000</td>\n",
       "      <td>35.769231</td>\n",
       "      <td>591.397849</td>\n",
       "      <td>22916.666667</td>\n",
       "      <td>21153.846154</td>\n",
       "    </tr>\n",
       "    <tr>\n",
       "      <th>2</th>\n",
       "      <td>101283</td>\n",
       "      <td>Elementary</td>\n",
       "      <td>29.166667</td>\n",
       "      <td>25.000000</td>\n",
       "      <td>754.285714</td>\n",
       "      <td>22000.000000</td>\n",
       "      <td>18857.142857</td>\n",
       "    </tr>\n",
       "    <tr>\n",
       "      <th>3</th>\n",
       "      <td>100216</td>\n",
       "      <td>Elementary</td>\n",
       "      <td>29.833333</td>\n",
       "      <td>29.833333</td>\n",
       "      <td>754.189944</td>\n",
       "      <td>22500.000000</td>\n",
       "      <td>22500.000000</td>\n",
       "    </tr>\n",
       "    <tr>\n",
       "      <th>4</th>\n",
       "      <td>100043</td>\n",
       "      <td>Elementary</td>\n",
       "      <td>33.875000</td>\n",
       "      <td>30.111111</td>\n",
       "      <td>671.586716</td>\n",
       "      <td>22750.000000</td>\n",
       "      <td>20222.222222</td>\n",
       "    </tr>\n",
       "  </tbody>\n",
       "</table>\n",
       "</div>"
      ],
      "text/plain": [
       "   school.id school.classification  teacher.student  rooms.student  \\\n",
       "0     101746            Elementary        39.050000      52.066667   \n",
       "1     102193            Elementary        38.750000      35.769231   \n",
       "2     101283            Elementary        29.166667      25.000000   \n",
       "3     100216            Elementary        29.833333      29.833333   \n",
       "4     100043            Elementary        33.875000      30.111111   \n",
       "\n",
       "   mooe.student  teacher.mooe    rooms.mooe  \n",
       "0    436.619718  17050.000000  22733.333333  \n",
       "1    591.397849  22916.666667  21153.846154  \n",
       "2    754.285714  22000.000000  18857.142857  \n",
       "3    754.189944  22500.000000  22500.000000  \n",
       "4    671.586716  22750.000000  20222.222222  "
      ]
     },
     "execution_count": 65,
     "metadata": {},
     "output_type": "execute_result"
    }
   ],
   "source": [
    "no_outliers_classif = pd.read_csv(\"school_merged5.csv\", index_col=0)\n",
    "no_outliers_classif.head()"
   ]
  },
  {
   "cell_type": "code",
   "execution_count": 66,
   "metadata": {},
   "outputs": [
    {
     "data": {
      "text/html": [
       "<div>\n",
       "<style scoped>\n",
       "    .dataframe tbody tr th:only-of-type {\n",
       "        vertical-align: middle;\n",
       "    }\n",
       "\n",
       "    .dataframe tbody tr th {\n",
       "        vertical-align: top;\n",
       "    }\n",
       "\n",
       "    .dataframe thead th {\n",
       "        text-align: right;\n",
       "    }\n",
       "</style>\n",
       "<table border=\"1\" class=\"dataframe\">\n",
       "  <thead>\n",
       "    <tr style=\"text-align: right;\">\n",
       "      <th></th>\n",
       "      <th>school.id</th>\n",
       "      <th>school.classification</th>\n",
       "      <th>teacher.student</th>\n",
       "      <th>rooms.student</th>\n",
       "      <th>mooe.student</th>\n",
       "      <th>teacher.mooe</th>\n",
       "      <th>rooms.mooe</th>\n",
       "    </tr>\n",
       "  </thead>\n",
       "  <tbody>\n",
       "  </tbody>\n",
       "</table>\n",
       "</div>"
      ],
      "text/plain": [
       "Empty DataFrame\n",
       "Columns: [school.id, school.classification, teacher.student, rooms.student, mooe.student, teacher.mooe, rooms.mooe]\n",
       "Index: []"
      ]
     },
     "execution_count": 66,
     "metadata": {},
     "output_type": "execute_result"
    }
   ],
   "source": [
    "no_outliers_classif[no_outliers_classif.isna().any(axis=1)]"
   ]
  },
  {
   "cell_type": "code",
   "execution_count": 73,
   "metadata": {},
   "outputs": [
    {
     "data": {
      "text/plain": [
       "(32435, 7)"
      ]
     },
     "execution_count": 73,
     "metadata": {},
     "output_type": "execute_result"
    }
   ],
   "source": [
    "no_outliers_classif.shape"
   ]
  },
  {
   "cell_type": "code",
   "execution_count": 71,
   "metadata": {},
   "outputs": [
    {
     "data": {
      "text/plain": [
       "(30376, 7)"
      ]
     },
     "execution_count": 71,
     "metadata": {},
     "output_type": "execute_result"
    }
   ],
   "source": [
    "elementary = no_outliers_classif[no_outliers_classif[\"school.classification\"] == \"Elementary\"]\n",
    "elementary.shape"
   ]
  },
  {
   "cell_type": "code",
   "execution_count": 72,
   "metadata": {},
   "outputs": [
    {
     "data": {
      "text/plain": [
       "(2059, 7)"
      ]
     },
     "execution_count": 72,
     "metadata": {},
     "output_type": "execute_result"
    }
   ],
   "source": [
    "secondary = no_outliers_classif[no_outliers_classif[\"school.classification\"] == \"Secondary\"]\n",
    "secondary.shape"
   ]
  },
  {
   "cell_type": "code",
   "execution_count": null,
   "metadata": {},
   "outputs": [],
   "source": []
  },
  {
   "cell_type": "code",
   "execution_count": 84,
   "metadata": {},
   "outputs": [
    {
     "data": {
      "text/plain": [
       "Index(['school.id', 'school.classification', 'teacher.student',\n",
       "       'rooms.student', 'mooe.student', 'teacher.mooe', 'rooms.mooe'],\n",
       "      dtype='object')"
      ]
     },
     "execution_count": 84,
     "metadata": {},
     "output_type": "execute_result"
    }
   ],
   "source": [
    "elem_cols = elementary.columns\n",
    "elem_cols"
   ]
  },
  {
   "cell_type": "code",
   "execution_count": 88,
   "metadata": {},
   "outputs": [],
   "source": [
    "var1=elem_cols[2]\n",
    "var2=elem_cols[3]\n",
    "var3=elem_cols[4]\n",
    "var4=elem_cols[5]\n",
    "var5=elem_cols[6]"
   ]
  },
  {
   "cell_type": "code",
   "execution_count": 89,
   "metadata": {},
   "outputs": [
    {
     "data": {
      "text/html": [
       "<div>\n",
       "<style scoped>\n",
       "    .dataframe tbody tr th:only-of-type {\n",
       "        vertical-align: middle;\n",
       "    }\n",
       "\n",
       "    .dataframe tbody tr th {\n",
       "        vertical-align: top;\n",
       "    }\n",
       "\n",
       "    .dataframe thead th {\n",
       "        text-align: right;\n",
       "    }\n",
       "</style>\n",
       "<table border=\"1\" class=\"dataframe\">\n",
       "  <thead>\n",
       "    <tr style=\"text-align: right;\">\n",
       "      <th></th>\n",
       "      <th>teacher.student</th>\n",
       "      <th>rooms.student</th>\n",
       "    </tr>\n",
       "  </thead>\n",
       "  <tbody>\n",
       "    <tr>\n",
       "      <th>0</th>\n",
       "      <td>39.050000</td>\n",
       "      <td>52.066667</td>\n",
       "    </tr>\n",
       "    <tr>\n",
       "      <th>1</th>\n",
       "      <td>38.750000</td>\n",
       "      <td>35.769231</td>\n",
       "    </tr>\n",
       "    <tr>\n",
       "      <th>2</th>\n",
       "      <td>29.166667</td>\n",
       "      <td>25.000000</td>\n",
       "    </tr>\n",
       "    <tr>\n",
       "      <th>3</th>\n",
       "      <td>29.833333</td>\n",
       "      <td>29.833333</td>\n",
       "    </tr>\n",
       "    <tr>\n",
       "      <th>4</th>\n",
       "      <td>33.875000</td>\n",
       "      <td>30.111111</td>\n",
       "    </tr>\n",
       "    <tr>\n",
       "      <th>...</th>\n",
       "      <td>...</td>\n",
       "      <td>...</td>\n",
       "    </tr>\n",
       "    <tr>\n",
       "      <th>36456</th>\n",
       "      <td>56.780488</td>\n",
       "      <td>77.600000</td>\n",
       "    </tr>\n",
       "    <tr>\n",
       "      <th>36457</th>\n",
       "      <td>28.600000</td>\n",
       "      <td>71.500000</td>\n",
       "    </tr>\n",
       "    <tr>\n",
       "      <th>36459</th>\n",
       "      <td>52.151515</td>\n",
       "      <td>61.464286</td>\n",
       "    </tr>\n",
       "    <tr>\n",
       "      <th>36461</th>\n",
       "      <td>34.098361</td>\n",
       "      <td>58.591549</td>\n",
       "    </tr>\n",
       "    <tr>\n",
       "      <th>36462</th>\n",
       "      <td>44.157895</td>\n",
       "      <td>69.916667</td>\n",
       "    </tr>\n",
       "  </tbody>\n",
       "</table>\n",
       "<p>30376 rows × 2 columns</p>\n",
       "</div>"
      ],
      "text/plain": [
       "       teacher.student  rooms.student\n",
       "0            39.050000      52.066667\n",
       "1            38.750000      35.769231\n",
       "2            29.166667      25.000000\n",
       "3            29.833333      29.833333\n",
       "4            33.875000      30.111111\n",
       "...                ...            ...\n",
       "36456        56.780488      77.600000\n",
       "36457        28.600000      71.500000\n",
       "36459        52.151515      61.464286\n",
       "36461        34.098361      58.591549\n",
       "36462        44.157895      69.916667\n",
       "\n",
       "[30376 rows x 2 columns]"
      ]
     },
     "execution_count": 89,
     "metadata": {},
     "output_type": "execute_result"
    }
   ],
   "source": [
    "elementary[[var1, var2]]"
   ]
  },
  {
   "cell_type": "code",
   "execution_count": 90,
   "metadata": {},
   "outputs": [
    {
     "data": {
      "text/plain": [
       "array([[-0.02495899,  0.89642113],\n",
       "       [-0.05084636, -0.31867142],\n",
       "       [-0.87780401, -1.12159602],\n",
       "       ...,\n",
       "       [ 1.10558691,  1.59708209],\n",
       "       [-0.45224205,  1.38289866],\n",
       "       [ 0.41580755,  2.22726866]])"
      ]
     },
     "execution_count": 90,
     "metadata": {},
     "output_type": "execute_result"
    }
   ],
   "source": [
    "stdScaler(elementary[[var1, var2]])"
   ]
  },
  {
   "cell_type": "code",
   "execution_count": 91,
   "metadata": {},
   "outputs": [
    {
     "data": {
      "image/png": "[encoded data removed]",
      "text/plain": [
       "<Figure size 432x288 with 1 Axes>"
      ]
     },
     "metadata": {
      "needs_background": "light"
     },
     "output_type": "display_data"
    }
   ],
   "source": [
    "kMeansClustering(stdScaler(elementary[[var1, var2]]))"
   ]
  },
  {
   "cell_type": "code",
   "execution_count": 92,
   "metadata": {},
   "outputs": [
    {
     "data": {
      "image/png": "[encoded data removed]",
      "text/plain": [
       "<Figure size 432x288 with 1 Axes>"
      ]
     },
     "metadata": {
      "needs_background": "light"
     },
     "output_type": "display_data"
    }
   ],
   "source": [
    "kMeansClustering(stdScaler(elementary[[var1, var3]]))"
   ]
  },
  {
   "cell_type": "code",
   "execution_count": 93,
   "metadata": {},
   "outputs": [
    {
     "data": {
      "image/png": "[encoded data removed]",
      "text/plain": [
       "<Figure size 432x288 with 1 Axes>"
      ]
     },
     "metadata": {
      "needs_background": "light"
     },
     "output_type": "display_data"
    }
   ],
   "source": [
    "kMeansClustering(stdScaler(elementary[[var1, var4]]))"
   ]
  },
  {
   "cell_type": "code",
   "execution_count": 94,
   "metadata": {},
   "outputs": [
    {
     "data": {
      "image/png": "[encoded data removed]",
      "text/plain": [
       "<Figure size 432x288 with 1 Axes>"
      ]
     },
     "metadata": {
      "needs_background": "light"
     },
     "output_type": "display_data"
    }
   ],
   "source": [
    "kMeansClustering(stdScaler(elementary[[var1, var5]]))"
   ]
  },
  {
   "cell_type": "code",
   "execution_count": 95,
   "metadata": {},
   "outputs": [
    {
     "data": {
      "image/png": "[encoded data removed]",
      "text/plain": [
       "<Figure size 432x288 with 1 Axes>"
      ]
     },
     "metadata": {
      "needs_background": "light"
     },
     "output_type": "display_data"
    }
   ],
   "source": [
    "kMeansClustering(stdScaler(elementary[[var2, var3]]))"
   ]
  },
  {
   "cell_type": "code",
   "execution_count": 96,
   "metadata": {},
   "outputs": [
    {
     "data": {
      "image/png": "[encoded data removed]",
      "text/plain": [
       "<Figure size 432x288 with 1 Axes>"
      ]
     },
     "metadata": {
      "needs_background": "light"
     },
     "output_type": "display_data"
    }
   ],
   "source": [
    "kMeansClustering(stdScaler(elementary[[var2, var4]]))"
   ]
  },
  {
   "cell_type": "code",
   "execution_count": 97,
   "metadata": {},
   "outputs": [
    {
     "data": {
      "image/png": "[encoded data removed]",
      "text/plain": [
       "<Figure size 432x288 with 1 Axes>"
      ]
     },
     "metadata": {
      "needs_background": "light"
     },
     "output_type": "display_data"
    }
   ],
   "source": [
    "kMeansClustering(stdScaler(elementary[[var2, var5]]))"
   ]
  },
  {
   "cell_type": "code",
   "execution_count": 98,
   "metadata": {},
   "outputs": [
    {
     "data": {
      "image/png": "[encoded data removed]",
      "text/plain": [
       "<Figure size 432x288 with 1 Axes>"
      ]
     },
     "metadata": {
      "needs_background": "light"
     },
     "output_type": "display_data"
    }
   ],
   "source": [
    "kMeansClustering(stdScaler(elementary[[var3, var4]]))"
   ]
  },
  {
   "cell_type": "code",
   "execution_count": 99,
   "metadata": {},
   "outputs": [
    {
     "data": {
      "image/png": "[encoded data removed]",
      "text/plain": [
       "<Figure size 432x288 with 1 Axes>"
      ]
     },
     "metadata": {
      "needs_background": "light"
     },
     "output_type": "display_data"
    }
   ],
   "source": [
    "kMeansClustering(stdScaler(elementary[[var3, var5]]))"
   ]
  },
  {
   "cell_type": "code",
   "execution_count": 100,
   "metadata": {},
   "outputs": [
    {
     "data": {
      "image/png": "[encoded data removed]",
      "text/plain": [
       "<Figure size 432x288 with 1 Axes>"
      ]
     },
     "metadata": {
      "needs_background": "light"
     },
     "output_type": "display_data"
    }
   ],
   "source": [
    "kMeansClustering(stdScaler(elementary[[var4, var5]]))"
   ]
  },
  {
   "cell_type": "code",
   "execution_count": 101,
   "metadata": {},
   "outputs": [
    {
     "data": {
      "image/png": "[encoded data removed]",
      "text/plain": [
       "<Figure size 432x288 with 1 Axes>"
      ]
     },
     "metadata": {
      "needs_background": "light"
     },
     "output_type": "display_data"
    }
   ],
   "source": [
    "kMeansClustering(stdScaler(elementary[[var1, var2, var3]]))"
   ]
  },
  {
   "cell_type": "code",
   "execution_count": 102,
   "metadata": {},
   "outputs": [
    {
     "data": {
      "image/png": "[encoded data removed]",
      "text/plain": [
       "<Figure size 432x288 with 1 Axes>"
      ]
     },
     "metadata": {
      "needs_background": "light"
     },
     "output_type": "display_data"
    }
   ],
   "source": [
    "kMeansClustering(stdScaler(elementary[[var1, var2, var4]]))"
   ]
  },
  {
   "cell_type": "code",
   "execution_count": 103,
   "metadata": {},
   "outputs": [
    {
     "data": {
      "image/png": "[encoded data removed]",
      "text/plain": [
       "<Figure size 432x288 with 1 Axes>"
      ]
     },
     "metadata": {
      "needs_background": "light"
     },
     "output_type": "display_data"
    }
   ],
   "source": [
    "kMeansClustering(stdScaler(elementary[[var1, var2, var5]]))"
   ]
  },
  {
   "cell_type": "code",
   "execution_count": 104,
   "metadata": {},
   "outputs": [
    {
     "data": {
      "image/png": "[encoded data removed]",
      "text/plain": [
       "<Figure size 432x288 with 1 Axes>"
      ]
     },
     "metadata": {
      "needs_background": "light"
     },
     "output_type": "display_data"
    }
   ],
   "source": [
    "kMeansClustering(stdScaler(elementary[[var1, var3, var4]]))"
   ]
  },
  {
   "cell_type": "code",
   "execution_count": 105,
   "metadata": {},
   "outputs": [
    {
     "data": {
      "image/png": "[encoded data removed]",
      "text/plain": [
       "<Figure size 432x288 with 1 Axes>"
      ]
     },
     "metadata": {
      "needs_background": "light"
     },
     "output_type": "display_data"
    }
   ],
   "source": [
    "kMeansClustering(stdScaler(elementary[[var1, var3, var5]]))"
   ]
  },
  {
   "cell_type": "code",
   "execution_count": 106,
   "metadata": {},
   "outputs": [
    {
     "data": {
      "image/png": "[encoded data removed]",
      "text/plain": [
       "<Figure size 432x288 with 1 Axes>"
      ]
     },
     "metadata": {
      "needs_background": "light"
     },
     "output_type": "display_data"
    }
   ],
   "source": [
    "kMeansClustering(stdScaler(elementary[[var1, var4, var5]]))"
   ]
  },
  {
   "cell_type": "code",
   "execution_count": 107,
   "metadata": {},
   "outputs": [
    {
     "data": {
      "image/png": "[encoded data removed]",
      "text/plain": [
       "<Figure size 432x288 with 1 Axes>"
      ]
     },
     "metadata": {
      "needs_background": "light"
     },
     "output_type": "display_data"
    }
   ],
   "source": [
    "kMeansClustering(stdScaler(elementary[[var2, var3, var4]]))"
   ]
  },
  {
   "cell_type": "code",
   "execution_count": 108,
   "metadata": {},
   "outputs": [
    {
     "data": {
      "image/png": "[encoded data removed]",
      "text/plain": [
       "<Figure size 432x288 with 1 Axes>"
      ]
     },
     "metadata": {
      "needs_background": "light"
     },
     "output_type": "display_data"
    }
   ],
   "source": [
    "kMeansClustering(stdScaler(elementary[[var2, var3, var5]]))"
   ]
  },
  {
   "cell_type": "code",
   "execution_count": 109,
   "metadata": {},
   "outputs": [
    {
     "data": {
      "image/png": "[encoded data removed]",
      "text/plain": [
       "<Figure size 432x288 with 1 Axes>"
      ]
     },
     "metadata": {
      "needs_background": "light"
     },
     "output_type": "display_data"
    }
   ],
   "source": [
    "kMeansClustering(stdScaler(elementary[[var2, var4, var5]]))"
   ]
  },
  {
   "cell_type": "code",
   "execution_count": 110,
   "metadata": {},
   "outputs": [
    {
     "data": {
      "image/png": "[encoded data removed]",
      "text/plain": [
       "<Figure size 432x288 with 1 Axes>"
      ]
     },
     "metadata": {
      "needs_background": "light"
     },
     "output_type": "display_data"
    }
   ],
   "source": [
    "kMeansClustering(stdScaler(elementary[[var3, var4, var5]]))"
   ]
  },
  {
   "cell_type": "code",
   "execution_count": null,
   "metadata": {},
   "outputs": [],
   "source": []
  },
  {
   "cell_type": "code",
   "execution_count": null,
   "metadata": {},
   "outputs": [],
   "source": []
  },
  {
   "cell_type": "code",
   "execution_count": null,
   "metadata": {},
   "outputs": [],
   "source": []
  },
  {
   "cell_type": "code",
   "execution_count": null,
   "metadata": {},
   "outputs": [],
   "source": []
  },
  {
   "cell_type": "code",
   "execution_count": null,
   "metadata": {},
   "outputs": [],
   "source": []
  },
  {
   "cell_type": "code",
   "execution_count": null,
   "metadata": {},
   "outputs": [],
   "source": []
  },
  {
   "cell_type": "code",
   "execution_count": null,
   "metadata": {},
   "outputs": [],
   "source": []
  },
  {
   "cell_type": "code",
   "execution_count": null,
   "metadata": {},
   "outputs": [],
   "source": []
  },
  {
   "cell_type": "code",
   "execution_count": null,
   "metadata": {},
   "outputs": [],
   "source": []
  },
  {
   "cell_type": "code",
   "execution_count": null,
   "metadata": {},
   "outputs": [],
   "source": []
  },
  {
   "cell_type": "code",
   "execution_count": null,
   "metadata": {},
   "outputs": [],
   "source": [
    "import geopandas as gpd"
   ]
  },
  {
   "cell_type": "code",
   "execution_count": null,
   "metadata": {
    "cell_id": "00063-37a55560-7830-4703-ab69-747ff3b7473e",
    "deepnote_cell_type": "code",
    "deepnote_to_be_reexecuted": false,
    "execution_millis": 456,
    "execution_start": 1611148585636,
    "source_hash": "f6a88e7e",
    "tags": []
   },
   "outputs": [],
   "source": [
    "shapefile = gpd.read_file('./PH Provinces Shapefile/Provinces.shp')\n",
    "shapefile.head()"
   ]
  },
  {
   "cell_type": "code",
   "execution_count": null,
   "metadata": {
    "cell_id": "00064-6c3bf3a1-ea0c-4dde-979f-543f5135e0b4",
    "deepnote_cell_type": "code",
    "deepnote_to_be_reexecuted": false,
    "execution_millis": 6,
    "execution_start": 1611148586095,
    "source_hash": "24cda55d",
    "tags": []
   },
   "outputs": [],
   "source": [
    "print('schools df:\\n', sorted(school_merged[\"school.province\"].unique()), '\\n')\n",
    "print('shapefile df:\\n', sorted(shapefile[\"PROVINCE\"].unique()))"
   ]
  },
  {
   "cell_type": "code",
   "execution_count": null,
   "metadata": {
    "cell_id": "00065-92c857c1-e320-499a-9041-7892e5612494",
    "deepnote_cell_type": "code",
    "deepnote_to_be_reexecuted": false,
    "execution_millis": 3,
    "execution_start": 1611148586104,
    "source_hash": "dc1ac4c6",
    "tags": []
   },
   "outputs": [],
   "source": [
    "# Create dictionry of those with discrepancy\n",
    "province_dic = {'City Of Cotabato':'Maguindanao',\n",
    " 'Manila, Ncr, First District':\"Metropolitan Manila\",\n",
    " 'Ncr Fourth District':\"Metropolitan Manila\",\n",
    " 'Ncr Second District':\"Metropolitan Manila\",\n",
    " 'Ncr Third District':\"Metropolitan Manila\",\n",
    " 'Western Sama':\"Samar\",\n",
    " 'City Of Isabela':\"Basilan\"}"
   ]
  },
  {
   "cell_type": "code",
   "execution_count": null,
   "metadata": {
    "cell_id": "00066-0a6cc410-2de3-430a-9603-421a2b26956a",
    "deepnote_cell_type": "code",
    "deepnote_to_be_reexecuted": false,
    "execution_millis": 65,
    "execution_start": 1611148586133,
    "source_hash": "af6034e9",
    "tags": []
   },
   "outputs": [],
   "source": [
    "# Replace province name\n",
    "school_merged[\"school.province\"] = school_merged[\"school.province\"].str.title().replace(province_dic).str.replace(\"Del\", 'del')\n",
    "print(sorted(school_merged[\"school.province\"].unique()))"
   ]
  },
  {
   "cell_type": "code",
   "execution_count": null,
   "metadata": {
    "cell_id": "00067-7310113e-221b-4028-938a-37c0eb4c6c48",
    "deepnote_cell_type": "code",
    "deepnote_to_be_reexecuted": false,
    "execution_millis": 39,
    "execution_start": 1611148586243,
    "source_hash": "6a486fa",
    "tags": []
   },
   "outputs": [],
   "source": [
    "province_data = school_merged.groupby(\"school.province\")[\"mooeperstudent\", \"school.enrollment\", \" school.mooe \"].median().reset_index()\n",
    "province_data"
   ]
  },
  {
   "cell_type": "code",
   "execution_count": null,
   "metadata": {
    "cell_id": "00068-abc2dd56-6ebc-489a-9e52-f659a6390a48",
    "deepnote_cell_type": "code",
    "deepnote_to_be_reexecuted": false,
    "execution_millis": 474,
    "execution_start": 1611148586288,
    "source_hash": "d72a5e55",
    "tags": []
   },
   "outputs": [],
   "source": [
    "merged_data = pd.merge(shapefile, province_data, left_on='PROVINCE', right_on='school.province')\n",
    "merged_data"
   ]
  },
  {
   "cell_type": "code",
   "execution_count": null,
   "metadata": {
    "cell_id": "00069-54d4700a-de1c-423a-87ff-ba219d0844f9",
    "deepnote_cell_type": "code",
    "deepnote_to_be_reexecuted": false,
    "execution_millis": 262,
    "execution_start": 1611148586768,
    "source_hash": "62c9ddcd",
    "tags": []
   },
   "outputs": [],
   "source": [
    "plt.hist(merged_data[\"school.enrollment\"], bins=100)\n",
    "plt.xlabel(\"Enrollment\")\n",
    "plt.xlim(xmax=merged_data['school.enrollment'].max() , xmin = merged_data['school.enrollment'].min())\n",
    "plt.show()"
   ]
  },
  {
   "cell_type": "code",
   "execution_count": null,
   "metadata": {
    "cell_id": "00070-400b545f-8c5b-4fc6-b1f9-0301b414886e",
    "deepnote_cell_type": "code",
    "deepnote_to_be_reexecuted": false,
    "execution_millis": 234,
    "execution_start": 1611148587045,
    "source_hash": "a543afd",
    "tags": []
   },
   "outputs": [],
   "source": [
    "plt.hist(merged_data[\" school.mooe \"], bins=100)\n",
    "plt.xlabel(\"MOOE\")\n",
    "plt.xlim(xmax=merged_data[' school.mooe '].max() , xmin = merged_data[' school.mooe '].min())\n",
    "plt.show()"
   ]
  },
  {
   "cell_type": "code",
   "execution_count": null,
   "metadata": {
    "cell_id": "00069-7491b569-b027-4a92-9e79-1097204a8733",
    "deepnote_cell_type": "code",
    "deepnote_to_be_reexecuted": false,
    "execution_millis": 1260,
    "execution_start": 1611148587288,
    "source_hash": "8e0d90be",
    "tags": []
   },
   "outputs": [],
   "source": [
    "# set a variable that will call whatever column we want to visualise on the map\n",
    "variable = 'school.enrollment'\n",
    "# set the range for the choropleth\n",
    "vmin, vmax = merged_data[\"school.enrollment\"].min(), 1000\n",
    "# create figure and axes for Matplotlib\n",
    "fig, ax = plt.subplots(1, figsize=(15, 10))\n",
    "merged_data.plot(column=variable, cmap='RdBu', linewidth=0.8, ax=ax, edgecolor='0.8', vmin=vmin, vmax=vmax)\n",
    "ax.set_title(\"Median Enrollment\", fontsize=25)\n",
    "sm = plt.cm.ScalarMappable(cmap='RdBu', norm=plt.Normalize(vmin=vmin, vmax=vmax))\n",
    "cbar = fig.colorbar(sm)"
   ]
  },
  {
   "cell_type": "code",
   "execution_count": null,
   "metadata": {
    "cell_id": "00070-c5292646-a435-44e3-b9e7-1e75ddb577ef",
    "deepnote_cell_type": "code",
    "deepnote_to_be_reexecuted": false,
    "execution_millis": 1125,
    "execution_start": 1611148588565,
    "source_hash": "5037f7c8",
    "tags": []
   },
   "outputs": [],
   "source": [
    "# set a variable that will call whatever column we want to visualise on the map\n",
    "variable = ' school.mooe '\n",
    "# set the range for the choropleth\n",
    "vmin, vmax = merged_data[\" school.mooe \"].min(), 500000\n",
    "# create figure and axes for Matplotlib\n",
    "fig, ax = plt.subplots(1, figsize=(15, 10))\n",
    "merged_data.plot(column=variable, cmap='RdBu', linewidth=0.8, ax=ax, edgecolor='0.8', vmin=vmin, vmax=vmax)\n",
    "ax.set_title(\"Median MOOE\", fontsize=25)\n",
    "sm = plt.cm.ScalarMappable(cmap='RdBu', norm=plt.Normalize(vmin=vmin, vmax=vmax))\n",
    "cbar = fig.colorbar(sm)"
   ]
  },
  {
   "cell_type": "code",
   "execution_count": null,
   "metadata": {
    "cell_id": "00070-e2bba7b5-ee8e-4d2e-9ffe-640baa423d7a",
    "deepnote_cell_type": "code",
    "deepnote_to_be_reexecuted": false,
    "execution_millis": 368,
    "execution_start": 1611148589693,
    "source_hash": "b61662d5",
    "tags": []
   },
   "outputs": [],
   "source": [
    "plt.hist(merged_data[\"mooeperstudent\"], bins=100)\n",
    "plt.xlabel(\"MOOE per Student\")\n",
    "plt.xlim(xmax=merged_data['mooeperstudent'].max() , xmin = merged_data['mooeperstudent'].min())\n",
    "plt.show()"
   ]
  },
  {
   "cell_type": "code",
   "execution_count": null,
   "metadata": {
    "cell_id": "00071-b2c3dc7f-fde9-41ff-aa93-d0ffa2be4a8f",
    "deepnote_cell_type": "code",
    "deepnote_to_be_reexecuted": false,
    "execution_millis": 5,
    "execution_start": 1611148590080,
    "source_hash": "8972bd75",
    "tags": []
   },
   "outputs": [],
   "source": [
    "merged_data[['PROVINCE','mooeperstudent']].sort_values(by='mooeperstudent', ascending = False)"
   ]
  },
  {
   "cell_type": "code",
   "execution_count": null,
   "metadata": {
    "cell_id": "00072-673f8869-2c88-4c2f-b129-ceceaf517d96",
    "deepnote_cell_type": "code",
    "deepnote_to_be_reexecuted": false,
    "execution_millis": 1140,
    "execution_start": 1611148590102,
    "source_hash": "a47888b4",
    "tags": []
   },
   "outputs": [],
   "source": [
    "# set a variable that will call whatever column we want to visualise on the map\n",
    "variable = 'mooeperstudent'\n",
    "# set the range for the choropleth\n",
    "vmin, vmax = merged_data[\"mooeperstudent\"].min(), 1200\n",
    "# create figure and axes for Matplotlib\n",
    "fig, ax = plt.subplots(1, figsize=(15, 10))\n",
    "merged_data.plot(column=variable, cmap='RdBu', linewidth=0.8, ax=ax, edgecolor='0.8', vmin=vmin, vmax=vmax)\n",
    "ax.set_title(\"Median MOOE/Student\", fontsize=25)\n",
    "sm = plt.cm.ScalarMappable(cmap='RdBu', norm=plt.Normalize(vmin=vmin, vmax=vmax))\n",
    "cbar = fig.colorbar(sm)"
   ]
  },
  {
   "cell_type": "code",
   "execution_count": null,
   "metadata": {
    "cell_id": "00076-c2c7ce0a-c478-48af-86e8-310d47cf3d84",
    "deepnote_cell_type": "code",
    "deepnote_to_be_reexecuted": false,
    "execution_millis": 220,
    "execution_start": 1611148591246,
    "source_hash": "fa64e231",
    "tags": []
   },
   "outputs": [],
   "source": [
    "plt.scatter(school_merged['school.enrollment'], school_merged[' school.mooe '])\n",
    "plt.xlabel('Enrollment')\n",
    "plt.ylabel('MOOE')\n",
    "plt.title('Scatter plot of enrollment vs MOOE')\n",
    "plt.show()"
   ]
  },
  {
   "cell_type": "code",
   "execution_count": null,
   "metadata": {
    "cell_id": "00077-48fc7d4a-f9d2-48ff-9632-6de046c18b47",
    "deepnote_cell_type": "code",
    "deepnote_to_be_reexecuted": false,
    "execution_millis": 651,
    "execution_start": 1611148591469,
    "source_hash": "dd73511",
    "tags": []
   },
   "outputs": [],
   "source": [
    "sns.lmplot('school.enrollment', ' school.mooe ', data=school_merged, hue='school.classification', fit_reg=False)\n",
    "\n",
    "plt.show()"
   ]
  },
  {
   "cell_type": "code",
   "execution_count": null,
   "metadata": {
    "cell_id": "00078-265bba5e-32d9-44bf-b10a-716ebcc3a1fd",
    "deepnote_cell_type": "code",
    "deepnote_to_be_reexecuted": false,
    "execution_millis": 2,
    "execution_start": 1611148592124,
    "source_hash": "1dd1ea9b",
    "tags": []
   },
   "outputs": [],
   "source": [
    "school_merged.columns"
   ]
  },
  {
   "cell_type": "code",
   "execution_count": null,
   "metadata": {
    "cell_id": "00079-41087f9b-0365-4bd8-88c5-54c54ce120cc",
    "deepnote_cell_type": "code",
    "deepnote_to_be_reexecuted": false,
    "execution_millis": 672,
    "execution_start": 1611148592128,
    "source_hash": "dd73511",
    "tags": []
   },
   "outputs": [],
   "source": [
    "sns.lmplot('school.enrollment', ' school.mooe ', data=school_merged, hue='school.classification', fit_reg=False)\n",
    "\n",
    "plt.show()"
   ]
  },
  {
   "cell_type": "markdown",
   "metadata": {
    "cell_id": "00080-0d96c046-bcb9-4617-86e7-424afc6187b6",
    "deepnote_cell_type": "markdown",
    "tags": []
   },
   "source": [
    "hypothesis: The provincial difference is accounted for by the different proportions of secondary vs elementary"
   ]
  },
  {
   "cell_type": "markdown",
   "metadata": {
    "cell_id": "00081-74a318fe-9c36-4ce8-90c1-ae1442f6f1d7",
    "deepnote_cell_type": "markdown",
    "tags": []
   },
   "source": [
    "province_data2 = school_merged.groupby([\"school.province\",\"school.classification])[\"school.id\"].count().reset_index()\n",
    "province_data2"
   ]
  },
  {
   "cell_type": "code",
   "execution_count": null,
   "metadata": {
    "cell_id": "00082-cb0ac0b7-5eed-41e8-bf2b-f127a5ad4a07",
    "deepnote_cell_type": "code",
    "deepnote_to_be_reexecuted": false,
    "execution_millis": 37,
    "execution_start": 1611148592806,
    "source_hash": "2df043be",
    "tags": []
   },
   "outputs": [],
   "source": [
    "province_data2 = school_merged.groupby([\"school.classification\",\"school.province\"])[\"school.id\"].count().reset_index()\n",
    "elementary = province_data2[province_data2['school.classification']==\"Elementary\"]\n",
    "elementary.rename(columns={'school.id':'elementary'},inplace=True)\n",
    "secondary = province_data2[province_data2['school.classification']==\"Secondary\"]\n",
    "secondary.rename(columns={'school.id':'secondary'},inplace=True)\n",
    "province_data2 = elementary.merge(secondary, how='inner', on='school.province')\n",
    "province_data2 = province_data2.drop(columns=['school.classification_x','school.classification_y'])\n",
    "province_data2['sectoelemratio'] = province_data2['secondary']/province_data2['elementary']\n",
    "province_data2"
   ]
  },
  {
   "cell_type": "code",
   "execution_count": null,
   "metadata": {
    "cell_id": "00083-0856f2fd-0ff3-4081-8db0-22ce9b9ae529",
    "deepnote_cell_type": "code",
    "deepnote_to_be_reexecuted": false,
    "execution_millis": 406,
    "execution_start": 1611148592860,
    "source_hash": "a6d3b11b",
    "tags": []
   },
   "outputs": [],
   "source": [
    "merged_data = pd.merge(merged_data, province_data2, left_on='PROVINCE', right_on='school.province')\n",
    "merged_data"
   ]
  },
  {
   "cell_type": "code",
   "execution_count": null,
   "metadata": {
    "cell_id": "00084-01ed2538-df68-42ff-891f-7d5cacecf081",
    "deepnote_cell_type": "code",
    "deepnote_to_be_reexecuted": false,
    "execution_millis": 344,
    "execution_start": 1611148593273,
    "source_hash": "5688168e",
    "tags": []
   },
   "outputs": [],
   "source": [
    "plt.hist(merged_data[\"secondary\"], bins=100)\n",
    "plt.xlabel(\"secondary\")\n",
    "plt.xlim(xmax=merged_data['secondary'].max() , xmin = merged_data['secondary'].min())\n",
    "plt.show()"
   ]
  },
  {
   "cell_type": "code",
   "execution_count": null,
   "metadata": {
    "cell_id": "00085-477f1b02-8632-4307-a7e9-e422cab7bd0d",
    "deepnote_cell_type": "code",
    "deepnote_to_be_reexecuted": false,
    "execution_millis": 280,
    "execution_start": 1611148593626,
    "source_hash": "74906cdf",
    "tags": []
   },
   "outputs": [],
   "source": [
    "plt.hist(merged_data[\"elementary\"], bins=100)\n",
    "plt.xlabel(\"elementary\")\n",
    "plt.xlim(xmax=merged_data['elementary'].max() , xmin = merged_data['elementary'].min())\n",
    "plt.show()"
   ]
  },
  {
   "cell_type": "code",
   "execution_count": null,
   "metadata": {
    "cell_id": "00086-db25d396-d321-45d4-94c0-cc7c5c6de129",
    "deepnote_cell_type": "code",
    "deepnote_to_be_reexecuted": false,
    "execution_millis": 197,
    "execution_start": 1611148593910,
    "source_hash": "22f47161",
    "tags": []
   },
   "outputs": [],
   "source": [
    "plt.scatter(merged_data['elementary'], merged_data['secondary'])\n",
    "plt.xlabel('elementary')\n",
    "plt.ylabel('secondary')\n",
    "plt.title('Scatter plot of elementary vs secondary')\n",
    "plt.show()"
   ]
  },
  {
   "cell_type": "code",
   "execution_count": null,
   "metadata": {
    "cell_id": "00087-f3780370-8937-459f-b02c-be78f09f4c76",
    "deepnote_cell_type": "code",
    "deepnote_to_be_reexecuted": false,
    "execution_millis": 1160,
    "execution_start": 1611148594121,
    "source_hash": "12c564ba",
    "tags": []
   },
   "outputs": [],
   "source": [
    "# set a variable that will call whatever column we want to visualise on the map\n",
    "variable = 'elementary'\n",
    "# set the range for the choropleth\n",
    "vmin, vmax = merged_data[\"elementary\"].min(), merged_data[\"elementary\"].max()\n",
    "# create figure and axes for Matplotlib\n",
    "fig, ax = plt.subplots(1, figsize=(15, 10))\n",
    "merged_data.plot(column=variable, cmap='RdBu', linewidth=0.8, ax=ax, edgecolor='0.8', vmin=vmin, vmax=vmax)\n",
    "ax.set_title(\"Elementary\", fontsize=25)\n",
    "sm = plt.cm.ScalarMappable(cmap='RdBu', norm=plt.Normalize(vmin=vmin, vmax=vmax))\n",
    "cbar = fig.colorbar(sm)"
   ]
  },
  {
   "cell_type": "code",
   "execution_count": null,
   "metadata": {
    "cell_id": "00088-3a3a49c8-7943-4b6b-b011-e649e869c558",
    "deepnote_cell_type": "code",
    "deepnote_to_be_reexecuted": false,
    "execution_millis": 1212,
    "execution_start": 1611148595289,
    "source_hash": "45ebbfd6",
    "tags": []
   },
   "outputs": [],
   "source": [
    "# set a variable that will call whatever column we want to visualise on the map\n",
    "variable = 'secondary'\n",
    "# set the range for the choropleth\n",
    "vmin, vmax = merged_data[\"secondary\"].min(), merged_data[\"secondary\"].max()\n",
    "# create figure and axes for Matplotlib\n",
    "fig, ax = plt.subplots(1, figsize=(15, 10))\n",
    "merged_data.plot(column=variable, cmap='RdBu', linewidth=0.8, ax=ax, edgecolor='0.8', vmin=vmin, vmax=vmax)\n",
    "ax.set_title(\"Secondary\", fontsize=25)\n",
    "sm = plt.cm.ScalarMappable(cmap='RdBu', norm=plt.Normalize(vmin=vmin, vmax=vmax))\n",
    "cbar = fig.colorbar(sm)"
   ]
  },
  {
   "cell_type": "code",
   "execution_count": null,
   "metadata": {
    "cell_id": "00089-de11f72c-15f6-4377-964e-336e5b2cb5e7",
    "deepnote_cell_type": "code",
    "deepnote_to_be_reexecuted": false,
    "execution_millis": 1119,
    "execution_start": 1611148596516,
    "source_hash": "914fc644",
    "tags": []
   },
   "outputs": [],
   "source": [
    "# set a variable that will call whatever column we want to visualise on the map\n",
    "variable = 'sectoelemratio'\n",
    "# set the range for the choropleth\n",
    "vmin, vmax = merged_data[\"sectoelemratio\"].min(), merged_data[\"sectoelemratio\"].max()\n",
    "# create figure and axes for Matplotlib\n",
    "fig, ax = plt.subplots(1, figsize=(15, 10))\n",
    "merged_data.plot(column=variable, cmap='RdBu', linewidth=0.8, ax=ax, edgecolor='0.8', vmin=vmin, vmax=vmax)\n",
    "ax.set_title(\"Secondary to Elementary Ratio\", fontsize=25)\n",
    "sm = plt.cm.ScalarMappable(cmap='RdBu', norm=plt.Normalize(vmin=vmin, vmax=vmax))\n",
    "cbar = fig.colorbar(sm)"
   ]
  },
  {
   "cell_type": "code",
   "execution_count": null,
   "metadata": {
    "cell_id": "00090-59a2f664-6040-47e5-83e7-255400f5e2e1",
    "deepnote_cell_type": "code",
    "deepnote_to_be_reexecuted": false,
    "execution_millis": 125,
    "execution_start": 1611148597638,
    "source_hash": "41946b85",
    "tags": []
   },
   "outputs": [],
   "source": [
    "plt.scatter(merged_data['sectoelemratio'], merged_data['mooeperstudent'])\n",
    "plt.xlabel('Secondary to Elementary Ratio')\n",
    "plt.ylabel('MOOE per student')\n",
    "plt.title('Scatter plot of Secondary to Elementary Ratio vs MOOE  per student')\n",
    "plt.show()"
   ]
  },
  {
   "cell_type": "code",
   "execution_count": null,
   "metadata": {
    "cell_id": "00091-3e3978b8-4026-4b8d-a022-4f451822e550",
    "deepnote_cell_type": "code",
    "deepnote_to_be_reexecuted": false,
    "execution_millis": 4,
    "execution_start": 1611148597766,
    "source_hash": "5a3e742b",
    "tags": []
   },
   "outputs": [],
   "source": [
    "merged_data.columns"
   ]
  },
  {
   "cell_type": "code",
   "execution_count": null,
   "metadata": {},
   "outputs": [],
   "source": []
  }
 ],
 "metadata": {
  "deepnote_execution_queue": [],
  "deepnote_notebook_id": "a67168c3-8b55-4d62-96c2-6bcae96b51f4",
  "kernelspec": {
   "display_name": "Python 3",
   "language": "python",
   "name": "python3"
  },
  "language_info": {
   "codemirror_mode": {
    "name": "ipython",
    "version": 3
   },
   "file_extension": ".py",
   "mimetype": "text/x-python",
   "name": "python",
   "nbconvert_exporter": "python",
   "pygments_lexer": "ipython3",
   "version": "3.8.5"
  }
 },
 "nbformat": 4,
 "nbformat_minor": 2
}

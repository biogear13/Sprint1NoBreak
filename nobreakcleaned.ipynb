{
 "cells": [
  {
   "cell_type": "markdown",
   "metadata": {
    "cell_id": "00009-2cd9d936-efa6-41f0-90c8-111153d1643f",
    "deepnote_cell_type": "code",
    "deepnote_to_be_reexecuted": false,
    "execution_millis": 1592,
    "execution_start": 1611148573179,
    "source_hash": "24b26b86",
    "tags": []
   },
   "source": [
    "# What ratios could the government use to classify schools to better prioritize those that are in need?"
   ]
  },
  {
   "cell_type": "markdown",
   "metadata": {},
   "source": [
    "As an indicator, ratios are often more preferred than raw count data. One of the reasons is that raw count data often leave out important elements that could give an entirely different picture therefore we would be exploring the different ratios that could be used to stratify schools.\n"
   ]
  },
  {
   "cell_type": "code",
   "execution_count": null,
   "metadata": {},
   "outputs": [],
   "source": [
    "# import libraries\n",
    "\n",
    "import pandas as pd\n",
    "import numpy as np\n",
    "import matplotlib.pyplot as plt\n",
    "import seaborn as sns\n",
    "import geopandas as gpd\n",
    "from mpl_toolkits.mplot3d import Axes3D"
   ]
  },
  {
   "cell_type": "markdown",
   "metadata": {},
   "source": [
    "Import datasets for cleaning"
   ]
  },
  {
   "cell_type": "code",
   "execution_count": null,
   "metadata": {
    "cell_id": "00012-42677f72-f8fc-4207-ba5e-30e5846a1658",
    "deepnote_cell_type": "code",
    "deepnote_to_be_reexecuted": false,
    "execution_millis": 589,
    "execution_start": 1611148575572,
    "source_hash": "ea10f83d",
    "tags": []
   },
   "outputs": [],
   "source": [
    "#school_master dataset\n",
    "school_master = pd.read_csv(\"Masterlist of Schools.csv\")\n",
    "school_master"
   ]
  },
  {
   "cell_type": "code",
   "execution_count": null,
   "metadata": {
    "cell_id": "00013-dedb4e57-febb-4c53-82ad-2b80f4b72a39",
    "deepnote_cell_type": "code",
    "deepnote_to_be_reexecuted": false,
    "execution_millis": 288,
    "execution_start": 1611148576165,
    "source_hash": "398e7e6e",
    "tags": []
   },
   "outputs": [],
   "source": [
    "#mooe dataset\n",
    "mooe = pd.read_csv(\"MOOE data.csv\")\n",
    "mooe"
   ]
  },
  {
   "cell_type": "code",
   "execution_count": null,
   "metadata": {
    "cell_id": "00014-f4d6c541-d139-4acb-aceb-21bb0666e939",
    "deepnote_cell_type": "code",
    "deepnote_to_be_reexecuted": false,
    "execution_millis": 123,
    "execution_start": 1611148576460,
    "source_hash": "936ec735",
    "tags": []
   },
   "outputs": [],
   "source": [
    "# rooms dataset\n",
    "rooms = pd.read_csv(\"Rooms data.csv\")\n",
    "rooms.info()"
   ]
  },
  {
   "cell_type": "code",
   "execution_count": null,
   "metadata": {},
   "outputs": [],
   "source": [
    "#check for duplicates\n",
    "rooms[rooms[\"School ID\"].duplicated(keep=False)]"
   ]
  },
  {
   "cell_type": "code",
   "execution_count": null,
   "metadata": {
    "cell_id": "00015-dde31e2e-57bb-4dbb-a147-734f7d701f42",
    "deepnote_cell_type": "code",
    "deepnote_to_be_reexecuted": false,
    "execution_millis": 592,
    "execution_start": 1611148576587,
    "source_hash": "5cf027a6",
    "tags": []
   },
   "outputs": [],
   "source": [
    "# school_loc dataset\n",
    "school_loc = pd.read_csv(\"Schools Location Data.csv\", encoding=\"latin\")\n",
    "school_loc"
   ]
  },
  {
   "cell_type": "code",
   "execution_count": null,
   "metadata": {
    "cell_id": "00016-f8188437-95c1-44d4-9c92-da3cc8b530a7",
    "deepnote_cell_type": "code",
    "deepnote_to_be_reexecuted": false,
    "execution_millis": 103,
    "execution_start": 1611148577182,
    "source_hash": "3e7cdb75",
    "tags": []
   },
   "outputs": [],
   "source": [
    "#teachers dataset\n",
    "teachers = pd.read_csv(\"Teachers data.csv\")\n",
    "teachers.info()"
   ]
  },
  {
   "cell_type": "code",
   "execution_count": null,
   "metadata": {},
   "outputs": [],
   "source": [
    "#teachers check for duplicate\n",
    "teachers[teachers[\"school.id\"].duplicated(keep=False)]"
   ]
  },
  {
   "cell_type": "code",
   "execution_count": null,
   "metadata": {
    "cell_id": "00025-0b686569-e10f-40c4-ba71-63996ee521bc",
    "deepnote_cell_type": "code",
    "deepnote_to_be_reexecuted": false,
    "execution_millis": 12,
    "execution_start": 1611148577369,
    "source_hash": "9a404512",
    "tags": []
   },
   "outputs": [],
   "source": [
    "mooe.info()"
   ]
  },
  {
   "cell_type": "code",
   "execution_count": null,
   "metadata": {
    "cell_id": "00028-53c1353b-0a6e-4b18-b657-262dcec9fb40",
    "deepnote_cell_type": "code",
    "deepnote_to_be_reexecuted": false,
    "execution_millis": 7,
    "execution_start": 1611148577428,
    "source_hash": "f11667ae",
    "tags": []
   },
   "outputs": [],
   "source": [
    "#check for duplicates\n",
    "mooe[mooe[\"school.id\"] . duplicated(keep=False)]"
   ]
  },
  {
   "cell_type": "code",
   "execution_count": null,
   "metadata": {
    "cell_id": "00029-58294e86-23dd-4cc5-bbff-fa5de11bfc3c",
    "deepnote_cell_type": "code",
    "deepnote_to_be_reexecuted": false,
    "execution_millis": 13,
    "execution_start": 1611148577488,
    "source_hash": "3f9eb9e",
    "tags": []
   },
   "outputs": [],
   "source": [
    "mooe[mooe[\"school.name\"].duplicated(keep=False)]"
   ]
  },
  {
   "cell_type": "code",
   "execution_count": null,
   "metadata": {
    "cell_id": "00016-ec22ec4e-306e-4b63-9b05-13dedaed8e6a",
    "deepnote_cell_type": "code",
    "deepnote_to_be_reexecuted": false,
    "execution_millis": 148,
    "execution_start": 1611148577533,
    "source_hash": "899d1ae3",
    "tags": []
   },
   "outputs": [],
   "source": [
    "#change the school.mooe from string to float\n",
    "mooe[' school.mooe '] = mooe[' school.mooe '].str.replace(',','')\n",
    "mooe[' school.mooe '] = mooe[' school.mooe '].astype('float')\n",
    "mooe"
   ]
  },
  {
   "cell_type": "code",
   "execution_count": null,
   "metadata": {
    "cell_id": "00022-1a7a1c78-650a-4e44-97d3-8f4fd0120502",
    "deepnote_cell_type": "code",
    "deepnote_to_be_reexecuted": false,
    "execution_millis": 210,
    "execution_start": 1611148578174,
    "source_hash": "d844e099",
    "tags": []
   },
   "outputs": [],
   "source": [
    "school_master.info()"
   ]
  },
  {
   "cell_type": "code",
   "execution_count": null,
   "metadata": {
    "cell_id": "00023-e9f94b22-b45e-4fd4-ae5c-0719dc2515a3",
    "deepnote_cell_type": "code",
    "deepnote_to_be_reexecuted": false,
    "execution_millis": 288,
    "execution_start": 1611148578387,
    "source_hash": "b8bb338b",
    "tags": []
   },
   "outputs": [],
   "source": [
    "#Drop duplicates but there are no duplicates\n",
    "school_master= school_master.drop_duplicates()\n",
    "school_master.info()"
   ]
  },
  {
   "cell_type": "markdown",
   "metadata": {
    "cell_id": "00032-a35b6752-e3ce-4f91-aae3-aba61e84c14f",
    "deepnote_cell_type": "markdown",
    "tags": []
   },
   "source": [
    "### Merging Dataframes"
   ]
  },
  {
   "cell_type": "code",
   "execution_count": null,
   "metadata": {
    "cell_id": "00030-c1b41e6a-e075-408d-9d4e-ac91f8d80fed",
    "deepnote_cell_type": "code",
    "deepnote_to_be_reexecuted": false,
    "execution_millis": 92,
    "execution_start": 1611148578850,
    "source_hash": "cf2fff32",
    "tags": []
   },
   "outputs": [],
   "source": [
    "school_merged = pd.merge(school_master, mooe, on=\"school.id\")\n",
    "school_merged.shape"
   ]
  },
  {
   "cell_type": "code",
   "execution_count": null,
   "metadata": {},
   "outputs": [],
   "source": [
    "school_merged2=school_merged.merge(rooms, left_on= \"school.id\", right_on = \"School ID\", how=\"left\")\n",
    "school_merged2.shape"
   ]
  },
  {
   "cell_type": "code",
   "execution_count": null,
   "metadata": {},
   "outputs": [],
   "source": [
    "school_merged3=school_merged2.merge(teachers, left_on= \"school.id\", right_on = \"school.id\", how=\"left\")\n",
    "school_merged3.shape"
   ]
  },
  {
   "cell_type": "code",
   "execution_count": null,
   "metadata": {
    "cell_id": "00042-43eb66e7-6bd3-4d3b-b329-4dc0f29488ef",
    "deepnote_cell_type": "code",
    "deepnote_to_be_reexecuted": false,
    "execution_millis": 126,
    "execution_start": 1611148578943,
    "source_hash": "22263fb6",
    "tags": []
   },
   "outputs": [],
   "source": [
    "school_merged3.info()"
   ]
  },
  {
   "cell_type": "markdown",
   "metadata": {},
   "source": [
    "## Visualization of key count data"
   ]
  },
  {
   "cell_type": "markdown",
   "metadata": {},
   "source": [
    "The usual count data that people look to in schools are the number of students, number of treachers, number of rooms and the budget.\n",
    "For this, we will be focusing on the following variables\n",
    " schol.mooe - The MOOE budhet of schoold\n",
    "school.enrollment - for the number of students\n",
    "rooms.standard.academic - this is the number of used that fit to the propper specification of DepEd, we choose this data because we would focus on the ideal setup\n",
    "teachers.regular - for the number of regular teachers."
   ]
  },
  {
   "cell_type": "code",
   "execution_count": null,
   "metadata": {},
   "outputs": [],
   "source": [
    "#drop missing values in the target columns\n",
    "school_merged3=school_merged3[school_merged3['teachers.regular'].notna()]\n",
    "school_merged3.info()#44025-42523"
   ]
  },
  {
   "cell_type": "code",
   "execution_count": null,
   "metadata": {},
   "outputs": [],
   "source": [
    "#drop missing values in the target columns\n",
    "school_merged3=school_merged3[school_merged3['rooms.standard.academic'].notna()]\n",
    "school_merged3.info()#42523-42346"
   ]
  },
  {
   "cell_type": "code",
   "execution_count": null,
   "metadata": {},
   "outputs": [],
   "source": [
    "#first we will look into the distribution of this different count data\n",
    "fig, axes = plt.subplots(nrows=2, ncols=2, figsize=(8,8),  constrained_layout=True)\n",
    "\n",
    "axes[0,0].hist(school_merged3[\" school.mooe \"]) \n",
    "axes[0,0].set_title(\"AX[0,0] - MOOE\")\n",
    "axes[0,1].hist(school_merged3[\"school.enrollment\"]) \n",
    "axes[0,1].set_title('AX[0,1] - Number of Student')\n",
    "axes[1,0].hist(school_merged3[\"rooms.standard.academic\"]) \n",
    "axes[1,0].set_title('AX[1,0] - Number of Rooms')\n",
    "axes[1,1].hist(school_merged3[\"teachers.regular\"]) \n",
    "axes[1,1].set_title('AX[1,1] - Number of Regular teachers')\n",
    "\n",
    "fig.suptitle('Distribution of Different School Parameters', fontsize=16)\n",
    "plt.show()"
   ]
  },
  {
   "cell_type": "code",
   "execution_count": null,
   "metadata": {},
   "outputs": [],
   "source": [
    "#first we will look into the distribution of this different count data\n",
    "fig, axes = plt.subplots(nrows=2, ncols=2, figsize=(8,8),  constrained_layout=True)\n",
    "\n",
    "sns.boxplot(ax=axes[0, 0], data=school_merged3, y=' school.mooe ')\n",
    "sns.boxplot(ax=axes[0, 1], data=school_merged3, y='school.enrollment')\n",
    "sns.boxplot(ax=axes[1, 0], data=school_merged3, y='rooms.standard.academic')\n",
    "sns.boxplot(ax=axes[1, 1], data=school_merged3, y='teachers.regular')\n",
    "\n",
    "fig.suptitle('Boxplot of Different School Parameters', fontsize=16)\n",
    "plt.show()"
   ]
  },
  {
   "cell_type": "code",
   "execution_count": null,
   "metadata": {},
   "outputs": [],
   "source": [
    "#first we will look into the distribution of this different count data\n",
    "fig, axes = plt.subplots(nrows=2, ncols=2, figsize=(8,8),  constrained_layout=True)\n",
    "\n",
    "sns.boxplot(ax=axes[0, 0], data=school_merged3, y=' school.mooe ', showfliers = False)\n",
    "sns.boxplot(ax=axes[0, 1], data=school_merged3, y='school.enrollment', showfliers = False)\n",
    "sns.boxplot(ax=axes[1, 0], data=school_merged3, y='rooms.standard.academic', showfliers = False)\n",
    "sns.boxplot(ax=axes[1, 1], data=school_merged3, y='teachers.regular', showfliers = False)\n",
    "\n",
    "fig.suptitle('Boxplot of Different School Parameters without the outliers', fontsize=16)\n",
    "plt.show()"
   ]
  },
  {
   "cell_type": "code",
   "execution_count": null,
   "metadata": {},
   "outputs": [],
   "source": [
    "#pairwise scatter plot for the different variables\n",
    "plt.figure(figsize=(10,8))\n",
    "\n",
    "sns.pairplot(vars = [' school.mooe ', 'school.enrollment', 'rooms.standard.academic', 'teachers.regular'], data = school_merged3)\n",
    "\n",
    "plt.show()"
   ]
  },
  {
   "cell_type": "markdown",
   "metadata": {},
   "source": [
    "### Creating features"
   ]
  },
  {
   "cell_type": "code",
   "execution_count": null,
   "metadata": {
    "cell_id": "00043-d93d744e-557e-4051-8c4b-0ca45b3ac1d0",
    "deepnote_cell_type": "code",
    "deepnote_to_be_reexecuted": false,
    "execution_millis": 45,
    "execution_start": 1611148579119,
    "source_hash": "54f2851f",
    "tags": []
   },
   "outputs": [],
   "source": [
    "school_merged3['student.teacher']=school_merged3['school.enrollment']/school_merged3['teachers.regular']"
   ]
  },
  {
   "cell_type": "code",
   "execution_count": null,
   "metadata": {
    "cell_id": "00044-54177554-6c7b-4443-99fb-245bd87002e7",
    "deepnote_cell_type": "code",
    "deepnote_to_be_reexecuted": false,
    "execution_millis": 0,
    "execution_start": 1611148579164,
    "source_hash": "7eb42ec4",
    "tags": []
   },
   "outputs": [],
   "source": [
    "school_merged3['student.rooms']=school_merged3['school.enrollment']/school_merged3['rooms.standard.academic']"
   ]
  },
  {
   "cell_type": "code",
   "execution_count": null,
   "metadata": {
    "cell_id": "00039-264288d2-2286-4078-a288-430486726d2f",
    "deepnote_cell_type": "code",
    "deepnote_to_be_reexecuted": false,
    "execution_millis": 88,
    "execution_start": 1611148579165,
    "source_hash": "82f008",
    "tags": []
   },
   "outputs": [],
   "source": [
    "school_merged3['mooe.student']=school_merged3[' school.mooe ']/school_merged3['school.enrollment']"
   ]
  },
  {
   "cell_type": "code",
   "execution_count": null,
   "metadata": {},
   "outputs": [],
   "source": [
    "school_merged3['mooe.teacher']=school_merged3[' school.mooe ']/school_merged3['teachers.regular']"
   ]
  },
  {
   "cell_type": "code",
   "execution_count": null,
   "metadata": {},
   "outputs": [],
   "source": [
    "school_merged3['mooe.rooms']=school_merged3[' school.mooe ']/school_merged3['rooms.standard.academic']"
   ]
  },
  {
   "cell_type": "code",
   "execution_count": null,
   "metadata": {
    "cell_id": "00040-3df93b2f-0bb3-496c-b1c9-6c09f8d7640f",
    "deepnote_cell_type": "code",
    "deepnote_to_be_reexecuted": false,
    "execution_millis": 217,
    "execution_start": 1611148579260,
    "source_hash": "9325e561",
    "tags": []
   },
   "outputs": [],
   "source": [
    "school_merged3.info()"
   ]
  },
  {
   "cell_type": "markdown",
   "metadata": {
    "cell_id": "00033-5d3a89e3-e4d9-420f-b5e3-002d2b02022c",
    "deepnote_cell_type": "code",
    "deepnote_to_be_reexecuted": false,
    "execution_millis": 12,
    "execution_start": 1611148637934,
    "source_hash": "2b05f6f8",
    "tags": []
   },
   "source": [
    "### Cleaning new features"
   ]
  },
  {
   "cell_type": "code",
   "execution_count": null,
   "metadata": {},
   "outputs": [],
   "source": [
    "cols = school_merged3.columns"
   ]
  },
  {
   "cell_type": "code",
   "execution_count": null,
   "metadata": {},
   "outputs": [],
   "source": [
    "school_merged3[ school_merged3[cols[36]] == np.inf].index"
   ]
  },
  {
   "cell_type": "code",
   "execution_count": null,
   "metadata": {},
   "outputs": [],
   "source": [
    "# drop rows with 0 teachers\n",
    "\n",
    "school_merged3.drop( school_merged3[ school_merged3[cols[36]] == np.inf].index , inplace=True)#removed 359"
   ]
  },
  {
   "cell_type": "code",
   "execution_count": null,
   "metadata": {},
   "outputs": [],
   "source": [
    "school_merged3[ school_merged3[cols[36]] == np.inf]"
   ]
  },
  {
   "cell_type": "code",
   "execution_count": null,
   "metadata": {},
   "outputs": [],
   "source": [
    "school_merged3[ school_merged3[cols[37]] == np.inf].index"
   ]
  },
  {
   "cell_type": "code",
   "execution_count": null,
   "metadata": {},
   "outputs": [],
   "source": [
    "# drop rows with 0 rooms\n",
    "\n",
    "school_merged3.drop( school_merged3[ school_merged3[cols[37]] == np.inf].index , inplace=True)#removed 555"
   ]
  },
  {
   "cell_type": "code",
   "execution_count": null,
   "metadata": {},
   "outputs": [],
   "source": [
    "school_merged3[ school_merged3[cols[38]] == np.inf]"
   ]
  },
  {
   "cell_type": "code",
   "execution_count": null,
   "metadata": {},
   "outputs": [],
   "source": [
    "# drop rows with 0 students\n",
    "\n",
    "school_merged3.drop( school_merged3[ school_merged3[cols[38]] == np.inf].index , inplace=True)#removed 2"
   ]
  },
  {
   "cell_type": "code",
   "execution_count": null,
   "metadata": {},
   "outputs": [],
   "source": [
    "school_merged3[ school_merged3[cols[39]] == np.inf].index"
   ]
  },
  {
   "cell_type": "code",
   "execution_count": null,
   "metadata": {},
   "outputs": [],
   "source": [
    "school_merged3[ school_merged3[cols[40]] == np.inf].index"
   ]
  },
  {
   "cell_type": "code",
   "execution_count": null,
   "metadata": {},
   "outputs": [],
   "source": [
    "school_merged3.describe()"
   ]
  },
  {
   "cell_type": "code",
   "execution_count": null,
   "metadata": {},
   "outputs": [],
   "source": [
    "school_merged3.info()"
   ]
  },
  {
   "cell_type": "code",
   "execution_count": null,
   "metadata": {},
   "outputs": [],
   "source": [
    "# get the target features\n",
    "school_newf = school_merged3[['school.id', 'student.teacher', 'student.rooms', 'mooe.student', 'mooe.teacher', 'mooe.rooms']]"
   ]
  },
  {
   "cell_type": "code",
   "execution_count": null,
   "metadata": {},
   "outputs": [],
   "source": [
    "#check for missing values\n",
    "school_newf.info()"
   ]
  },
  {
   "cell_type": "markdown",
   "metadata": {},
   "source": [
    "## Visualization for the created feature"
   ]
  },
  {
   "cell_type": "code",
   "execution_count": null,
   "metadata": {},
   "outputs": [],
   "source": [
    "#we will look into the distribution of the new features\n",
    "fig, axes = plt.subplots(nrows=3, ncols=2, figsize=(8,8),  constrained_layout=True)\n",
    "\n",
    "sns.boxplot(ax=axes[0, 0], data=school_newf, y='student.teacher')\n",
    "sns.boxplot(ax=axes[0, 1], data=school_newf, y='student.rooms')\n",
    "sns.boxplot(ax=axes[1, 0], data=school_newf, y='mooe.student')\n",
    "sns.boxplot(ax=axes[1, 1], data=school_newf, y='mooe.teacher')\n",
    "sns.boxplot(ax=axes[2, 0], data=school_newf, y='mooe.rooms')\n",
    "\n",
    "fig.suptitle('Boxplot of the New Features', fontsize=16)\n",
    "plt.show()"
   ]
  },
  {
   "cell_type": "code",
   "execution_count": null,
   "metadata": {},
   "outputs": [],
   "source": [
    "fig, axes = plt.subplots(nrows=3, ncols=2, figsize=(8,8),  constrained_layout=True)\n",
    "\n",
    "sns.boxplot(ax=axes[0, 0], data=school_newf, y='student.teacher', showfliers = False)\n",
    "sns.boxplot(ax=axes[0, 1], data=school_newf, y='student.rooms', showfliers = False)\n",
    "sns.boxplot(ax=axes[1, 0], data=school_newf, y='mooe.student', showfliers = False)\n",
    "sns.boxplot(ax=axes[1, 1], data=school_newf, y='mooe.teacher', showfliers = False)\n",
    "sns.boxplot(ax=axes[2, 0], data=school_newf, y='mooe.rooms', showfliers = False)\n",
    "\n",
    "fig.suptitle('Boxplot of the New Features without Outliers', fontsize=16)\n",
    "plt.show()"
   ]
  },
  {
   "cell_type": "code",
   "execution_count": null,
   "metadata": {},
   "outputs": [],
   "source": [
    "#pairwise scatter plot for the new variables\n",
    "plt.figure(figsize=(10,8))\n",
    "\n",
    "sns.pairplot(vars = ['student.teacher', 'student.rooms', 'mooe.student', 'mooe.rooms', 'mooe.teacher'], data = school_newf)\n",
    "\n",
    "plt.show()"
   ]
  },
  {
   "cell_type": "markdown",
   "metadata": {},
   "source": [
    "We decided not to remove the outliers since they are also an important segment of the schools"
   ]
  },
  {
   "cell_type": "markdown",
   "metadata": {},
   "source": [
    "### Visualize"
   ]
  },
  {
   "cell_type": "markdown",
   "metadata": {},
   "source": [
    "3D Visualization"
   ]
  },
  {
   "cell_type": "code",
   "execution_count": null,
   "metadata": {},
   "outputs": [],
   "source": [
    "sns.set(style = \"darkgrid\")\n",
    "\n",
    "fig = plt.figure(figsize=(15,10))\n",
    "ax = fig.add_subplot(111, projection = '3d')\n",
    "\n",
    "x = school_newf['student.teacher']\n",
    "y = school_newf['student.rooms']\n",
    "z = school_newf['mooe.student']\n",
    "\n",
    "ax.set_xlabel(\"Students per Teacher\")\n",
    "ax.set_ylabel(\"Student per Rooms\")\n",
    "ax.set_zlabel(\"MOOE per student\")\n",
    "\n",
    "ax.scatter(x, y, z, s=5)\n",
    "\n",
    "plt.show()"
   ]
  },
  {
   "cell_type": "code",
   "execution_count": null,
   "metadata": {},
   "outputs": [],
   "source": [
    "sns.set(style = \"darkgrid\")\n",
    "\n",
    "fig = plt.figure(figsize=(15,10))\n",
    "ax = fig.add_subplot(111, projection = '3d')\n",
    "\n",
    "x = school_newf['mooe.teacher']\n",
    "y = school_newf['mooe.rooms']\n",
    "z = school_newf['mooe.student']\n",
    "\n",
    "ax.set_xlabel(\"MOOE per Teacher\")\n",
    "ax.set_ylabel(\"MOOE per Rooms\")\n",
    "ax.set_zlabel(\"MOOE per student\")\n",
    "\n",
    "ax.scatter(x, y, z, s=5)\n",
    "\n",
    "plt.show()"
   ]
  },
  {
   "cell_type": "markdown",
   "metadata": {},
   "source": [
    "## Modeling"
   ]
  },
  {
   "cell_type": "markdown",
   "metadata": {},
   "source": [
    "#### creating codes for kmeans"
   ]
  },
  {
   "cell_type": "code",
   "execution_count": null,
   "metadata": {},
   "outputs": [],
   "source": [
    "#scaler\n",
    "from sklearn.preprocessing import StandardScaler\n",
    "def stdScaler(df):\n",
    "    scaler = StandardScaler()\n",
    "    return scaler.fit_transform(df)"
   ]
  },
  {
   "cell_type": "code",
   "execution_count": null,
   "metadata": {},
   "outputs": [],
   "source": [
    "# elbow method\n",
    "from sklearn.cluster import KMeans\n",
    "\n",
    "def kMeansClustering(scaled_df):\n",
    "    ssd = []\n",
    "    range_n_clusters = list(np.arange(1,16))\n",
    "\n",
    "    # running kmeans with different n\n",
    "    for num_clusters in range_n_clusters:\n",
    "        kmeans = KMeans(n_clusters=num_clusters, random_state=2) #random state para you can run it with other machines (reproducing the pagka-random nya)\n",
    "        kmeans.fit(scaled_df)\n",
    "\n",
    "        ssd.append(kmeans.inertia_)\n",
    "    # inertia: sum of squared errors (where error = distance of centroid from a point)\n",
    "    # kinukuha nya inertia for each value of k\n",
    "\n",
    "    # plot the SSDs for each n_clusters\n",
    "    plt.plot(ssd)"
   ]
  },
  {
   "cell_type": "code",
   "execution_count": null,
   "metadata": {},
   "outputs": [],
   "source": [
    "from sklearn.metrics import silhouette_score\n",
    "from sklearn.metrics import silhouette_samples\n",
    "def getSilhouettes(scaled_df):\n",
    "    range_n_clusters = list(np.arange(2,9))\n",
    "\n",
    "    for num_clusters in range_n_clusters:\n",
    "\n",
    "        # intialise kmeans\n",
    "        kmeans = KMeans(n_clusters=num_clusters, random_state=2)\n",
    "        kmeans.fit(scaled_df)\n",
    "\n",
    "        cluster_labels = kmeans.predict(scaled_df)\n",
    "\n",
    "        # silhouette score; how far they are apart\n",
    "        silhouette_avg = silhouette_score(scaled_df, cluster_labels)\n",
    "        print(\"For n_clusters={0}, the silhouette score is {1}\".format(num_clusters, silhouette_avg))"
   ]
  },
  {
   "cell_type": "markdown",
   "metadata": {},
   "source": [
    "#### Using the code made, Kmeans will be done for the different combination of feature"
   ]
  },
  {
   "cell_type": "code",
   "execution_count": null,
   "metadata": {},
   "outputs": [],
   "source": [
    "cols = school_newf.columns\n",
    "cols"
   ]
  },
  {
   "cell_type": "code",
   "execution_count": null,
   "metadata": {},
   "outputs": [],
   "source": [
    "var1=cols[1]\n",
    "var2=cols[2]\n",
    "var3=cols[3]\n",
    "var4=cols[4]\n",
    "var5=cols[5]"
   ]
  },
  {
   "cell_type": "markdown",
   "metadata": {},
   "source": [
    "The grouping that will be tested are:\n",
    "student.teacher, student.rooms, mooe.student (1,2,3)\n",
    "mooe.student, mooe.rooms, mooe.teacher (3,4,5)\n"
   ]
  },
  {
   "cell_type": "code",
   "execution_count": null,
   "metadata": {},
   "outputs": [],
   "source": [
    "kMeansClustering(stdScaler(school_newf[[var1, var2, var3]]))"
   ]
  },
  {
   "cell_type": "code",
   "execution_count": null,
   "metadata": {},
   "outputs": [],
   "source": [
    "kMeansClustering(stdScaler(school_newf[[var3, var4, var5]]))"
   ]
  },
  {
   "cell_type": "code",
   "execution_count": null,
   "metadata": {},
   "outputs": [],
   "source": [
    "getSilhouettes(stdScaler(school_newf[[var1, var2, var3]]))"
   ]
  },
  {
   "cell_type": "code",
   "execution_count": null,
   "metadata": {},
   "outputs": [],
   "source": [
    "getSilhouettes(stdScaler(school_newf[[var3, var4, var5]]))"
   ]
  },
  {
   "cell_type": "markdown",
   "metadata": {},
   "source": [
    "In the two groupings that was made, the group that shows higher Silhouettes is the ratios in respect to MOOE therefore the group focuses on this"
   ]
  },
  {
   "cell_type": "code",
   "execution_count": null,
   "metadata": {},
   "outputs": [],
   "source": [
    "#to produce clusters\n",
    "def produceClusters(n_clusters, scaled_df, random_state=2):\n",
    "    kmeans = KMeans(n_clusters=n_clusters, random_state=random_state)\n",
    "    kmeans.fit(scaled_df)\n",
    "    return kmeans.predict(scaled_df)"
   ]
  },
  {
   "cell_type": "code",
   "execution_count": null,
   "metadata": {},
   "outputs": [],
   "source": [
    "#create scaled datasets\n",
    "mooe = stdScaler(school_newf[[var3, var4, var5]])"
   ]
  },
  {
   "cell_type": "markdown",
   "metadata": {},
   "source": [
    "we look into n_cluster=3 and n_cluster=4 to account for outliers"
   ]
  },
  {
   "cell_type": "code",
   "execution_count": null,
   "metadata": {},
   "outputs": [],
   "source": [
    "cluster3 = school_newf.copy()\n",
    "cluster3['cluster_labels'] = produceClusters(3,mooe)\n",
    "cluster3['cluster_labels'].value_counts()"
   ]
  },
  {
   "cell_type": "code",
   "execution_count": null,
   "metadata": {},
   "outputs": [],
   "source": [
    "cluster4 = school_newf.copy()\n",
    "cluster4['cluster_labels'] = produceClusters(4,mooe)\n",
    "cluster4['cluster_labels'].value_counts()"
   ]
  },
  {
   "cell_type": "code",
   "execution_count": null,
   "metadata": {},
   "outputs": [],
   "source": [
    "def boxPlot(scaled_df, showfliers=True):\n",
    "    fig, axes = plt.subplots(nrows=1, ncols=3, figsize=(18,7))\n",
    "\n",
    "    #sns.boxplot(x=\"Cluster_Labels\", y=\"\", data=scaled_df, ax=axes[0,0])\n",
    "    #axes[0,0].set_title(\"Enrolment\", fontsize=16)\n",
    "\n",
    "    sns.boxplot(x=scaled_df.Cluster_Labels, y=scaled_df[\"mooe.student\"], ax=axes[0], showfliers=showfliers)\n",
    "    axes[0].set_title(\"MOOE per student\", fontsize=22)\n",
    "    axes[0].set_ylabel(\"value\", fontsize=18)\n",
    "    axes[0].set_xlabel(\"cluster label\", fontsize=18)\n",
    "    axes[0].tick_params(axis='x', labelsize=16)\n",
    "    axes[0].tick_params(axis='y', labelsize=14)\n",
    "\n",
    "    sns.boxplot(x=scaled_df.Cluster_Labels, y=scaled_df[\"mooe.student\"], ax=axes[1], showfliers=showfliers)\n",
    "    axes[1].set_title(\"MOOE per teacher\", fontsize=22)\n",
    "    axes[1].set_ylabel(\"value\", fontsize=18)\n",
    "    axes[1].set_xlabel(\"cluster label\", fontsize=18)\n",
    "    axes[1].tick_params(axis='x', labelsize=16)\n",
    "    axes[1].tick_params(axis='y', labelsize=14)\n",
    "\n",
    "    sns.boxplot(x=scaled_df.Cluster_Labels, y=scaled_df[\"mooe.rooms\"], ax=axes[2], showfliers=showfliers)\n",
    "    axes[2].set_title(\"MOOE per room\", fontsize=22)\n",
    "    axes[2].set_ylabel(\"value\", fontsize=18)\n",
    "    axes[2].set_xlabel(\"cluster label\", fontsize=18)\n",
    "    axes[2].tick_params(axis='x', labelsize=16)\n",
    "    axes[2].tick_params(axis='y', labelsize=14)\n",
    "\n",
    "    plt.tight_layout()\n",
    "    plt.show();"
   ]
  },
  {
   "cell_type": "code",
   "execution_count": null,
   "metadata": {},
   "outputs": [],
   "source": [
    "boxPlot(cluster3)"
   ]
  },
  {
   "cell_type": "code",
   "execution_count": null,
   "metadata": {},
   "outputs": [],
   "source": [
    "boxPlot(cluster4)"
   ]
  },
  {
   "cell_type": "markdown",
   "metadata": {},
   "source": [
    "Comparing the two, the cluster that shows a more discernible grouping is n_cluster=4"
   ]
  },
  {
   "cell_type": "markdown",
   "metadata": {},
   "source": [
    "Better visualize cluster 0-2 to see the difference "
   ]
  },
  {
   "cell_type": "code",
   "execution_count": null,
   "metadata": {},
   "outputs": [],
   "source": [
    "#remove first the cluster label 3\n",
    "cluster4_0to2 = cluster4[cluster4['cluster_labels'] != 3]"
   ]
  },
  {
   "cell_type": "code",
   "execution_count": null,
   "metadata": {},
   "outputs": [],
   "source": [
    "#check the boxplot\n",
    "boxPlot(cluster4_0to2, False)"
   ]
  },
  {
   "cell_type": "code",
   "execution_count": null,
   "metadata": {},
   "outputs": [],
   "source": [
    "colors = {0:'red', 1:'blue', 2:'green', 3:'black'}"
   ]
  },
  {
   "cell_type": "code",
   "execution_count": null,
   "metadata": {},
   "outputs": [],
   "source": [
    "sns.set(style = \"darkgrid\")\n",
    "\n",
    "fig = plt.figure(figsize=(15,10))\n",
    "ax = fig.add_subplot(111, projection = '3d')\n",
    "\n",
    "x = cluster4['mooe.teacher']\n",
    "y = cluster4['mooe.rooms']\n",
    "z = cluster4['mooe.student']\n",
    "\n",
    "ax.set_xlabel(\"MOOE per Teacher\")\n",
    "ax.set_ylabel(\"MOOE per Rooms\")\n",
    "ax.set_zlabel(\"MOOE per student\")\n",
    "\n",
    "ax.scatter(x, y, z, s=5, c=cluster4['cluster_labels'].apply(lambda x: colors[x]))\n",
    "\n",
    "plt.show()"
   ]
  },
  {
   "cell_type": "markdown",
   "metadata": {},
   "source": [
    "### Analyze the 4 clusters"
   ]
  },
  {
   "cell_type": "code",
   "execution_count": null,
   "metadata": {},
   "outputs": [],
   "source": [
    "#join cluster4 with school_master to be segmented\n",
    "analysis = pd.merge(cluster4, school_master, on='school.id')"
   ]
  },
  {
   "cell_type": "code",
   "execution_count": null,
   "metadata": {},
   "outputs": [],
   "source": [
    "#segment the dataframe by cluster labels\n",
    "analysis_c0 = analysis[analysis[\"cluster_labels\"]==0]\n",
    "analysis_c1 = analysis[analysis[\"cluster_labels\"]==1]\n",
    "analysis_c2 = analysis[analysis[\"cluster_labels\"]==2]\n",
    "analysis_c3 = analysis[analysis[\"cluster_labels\"]==3]"
   ]
  },
  {
   "cell_type": "code",
   "execution_count": null,
   "metadata": {},
   "outputs": [],
   "source": [
    "analysis_c0.describe()"
   ]
  },
  {
   "cell_type": "code",
   "execution_count": null,
   "metadata": {},
   "outputs": [],
   "source": [
    "analysis_c1.describe()"
   ]
  },
  {
   "cell_type": "code",
   "execution_count": null,
   "metadata": {},
   "outputs": [],
   "source": [
    "analysis_c2.describe()"
   ]
  },
  {
   "cell_type": "code",
   "execution_count": null,
   "metadata": {},
   "outputs": [],
   "source": [
    "analysis_c3.describe()"
   ]
  },
  {
   "cell_type": "markdown",
   "metadata": {},
   "source": [
    "Group by school classification (elementary or secondary)"
   ]
  },
  {
   "cell_type": "code",
   "execution_count": null,
   "metadata": {},
   "outputs": [],
   "source": [
    "analysis_c0['school.classification'].value_counts()"
   ]
  },
  {
   "cell_type": "code",
   "execution_count": null,
   "metadata": {},
   "outputs": [],
   "source": [
    "analysis_c1['school.classification'].value_counts()"
   ]
  },
  {
   "cell_type": "code",
   "execution_count": null,
   "metadata": {},
   "outputs": [],
   "source": [
    "analysis_c2['school.classification'].value_counts()"
   ]
  },
  {
   "cell_type": "code",
   "execution_count": null,
   "metadata": {},
   "outputs": [],
   "source": [
    "analysis_c3['school.classification'].value_counts()"
   ]
  },
  {
   "cell_type": "code",
   "execution_count": null,
   "metadata": {},
   "outputs": [],
   "source": [
    "analysis_c0[ 'school.province' ] . value_counts() . sort_values(ascending=False)"
   ]
  },
  {
   "cell_type": "code",
   "execution_count": null,
   "metadata": {},
   "outputs": [],
   "source": [
    "analysis_c1[ 'school.province' ] . value_counts() . sort_values(ascending=False)"
   ]
  },
  {
   "cell_type": "code",
   "execution_count": null,
   "metadata": {},
   "outputs": [],
   "source": [
    "analysis_c2[ 'school.province' ] . value_counts() . sort_values(ascending=False)"
   ]
  },
  {
   "cell_type": "code",
   "execution_count": null,
   "metadata": {},
   "outputs": [],
   "source": [
    "analysis_c3[ 'school.province' ] . value_counts() . sort_values(ascending=False)"
   ]
  },
  {
   "cell_type": "code",
   "execution_count": null,
   "metadata": {},
   "outputs": [],
   "source": [
    "analysis_c0[ 'school.urban' ] . value_counts() . sort_values(ascending=False)"
   ]
  },
  {
   "cell_type": "code",
   "execution_count": null,
   "metadata": {},
   "outputs": [],
   "source": [
    "analysis_c1[ 'school.urban' ] . value_counts() . sort_values(ascending=False)"
   ]
  },
  {
   "cell_type": "code",
   "execution_count": null,
   "metadata": {},
   "outputs": [],
   "source": [
    "analysis_c2[ 'school.urban' ] . value_counts() . sort_values(ascending=False)"
   ]
  },
  {
   "cell_type": "code",
   "execution_count": null,
   "metadata": {},
   "outputs": [],
   "source": [
    "analysis_c3[ 'school.urban' ] . value_counts() . sort_values(ascending=False)"
   ]
  },
  {
   "cell_type": "code",
   "execution_count": null,
   "metadata": {},
   "outputs": [],
   "source": [
    "analysis_c0[ 'school.cityincome' ] . value_counts() . sort_values(ascending=False)"
   ]
  },
  {
   "cell_type": "code",
   "execution_count": null,
   "metadata": {},
   "outputs": [],
   "source": [
    "analysis_c1[ 'school.cityincome' ] . value_counts() . sort_values(ascending=False)"
   ]
  },
  {
   "cell_type": "code",
   "execution_count": null,
   "metadata": {},
   "outputs": [],
   "source": [
    "analysis_c2[ 'school.cityincome' ] . value_counts() . sort_values(ascending=False)"
   ]
  },
  {
   "cell_type": "code",
   "execution_count": null,
   "metadata": {},
   "outputs": [],
   "source": [
    "analysis_c3[ 'school.cityincome' ] . value_counts() . sort_values(ascending=False)"
   ]
  },
  {
   "cell_type": "code",
   "execution_count": null,
   "metadata": {},
   "outputs": [],
   "source": []
  },
  {
   "cell_type": "code",
   "execution_count": null,
   "metadata": {},
   "outputs": [],
   "source": []
  }
 ],
 "metadata": {
  "deepnote_execution_queue": [],
  "deepnote_notebook_id": "a67168c3-8b55-4d62-96c2-6bcae96b51f4",
  "kernelspec": {
   "display_name": "Python 3",
   "language": "python",
   "name": "python3"
  },
  "language_info": {
   "codemirror_mode": {
    "name": "ipython",
    "version": 3
   },
   "file_extension": ".py",
   "mimetype": "text/x-python",
   "name": "python",
   "nbconvert_exporter": "python",
   "pygments_lexer": "ipython3",
   "version": "3.8.5"
  }
 },
 "nbformat": 4,
 "nbformat_minor": 2
}
